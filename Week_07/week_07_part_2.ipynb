{
 "cells": [
  {
   "cell_type": "markdown",
   "metadata": {
    "id": "KZSA4_prhQpa"
   },
   "source": [
    "# Notebook: [ Week #7 - Part 02 ]\n",
    "\n",
    "\n",
    "\n",
    "- Continue from the Part 01 of the notebook, further enhance the Streamlit app by adding more features and functionalities.\n",
    "\n",
    "- The requirements and screenshots are the minimum features that you should implement in the app.\n",
    "\n",
    "- Challenge yourself by adding more features and functionalities to the app than the requirements."
   ]
  },
  {
   "cell_type": "markdown",
   "metadata": {
    "id": "6MPWn4u2DI2k"
   },
   "source": [
    "---\n",
    "---"
   ]
  },
  {
   "cell_type": "markdown",
   "metadata": {
    "id": "xPPy-NWpDI2m"
   },
   "source": [
    "# 💎 Challenge 1\n",
    "\n",
    "- Add a new page \"About Us\" to the Streamlit app.\n",
    "\n",
    "- In the \"About Us\" page, display the information you can see on the screenshot.\n",
    "\n",
    "- There is an `st.expander` in the screenshot, you can use it to display the information in \"How to use this App\" section."
   ]
  },
  {
   "cell_type": "markdown",
   "metadata": {
    "id": "f7rpZaqFDI2n"
   },
   "source": [
    "![](https://abc-notes.data.tech.gov.sg/resources/img/topic-07-part-02-screenshot-01.png)"
   ]
  },
  {
   "cell_type": "markdown",
   "metadata": {
    "id": "OfdIxf8gDI2n"
   },
   "source": [
    "---\n",
    "---\n",
    "\n",
    "# 💎 Challenge 2\n",
    "\n",
    "- Add a new page \"View All Courses\" to the Streamlit app.\n",
    "\n",
    "- In the \"About Us\" page, display all the course information that are stored in the `courses-full.json` file."
   ]
  },
  {
   "cell_type": "markdown",
   "metadata": {
    "id": "6lYCETYUDI2n"
   },
   "source": [
    "![](https://abc-notes.data.tech.gov.sg/resources/img/topic-07-part-02-screenshot-02.png)"
   ]
  },
  {
   "cell_type": "markdown",
   "metadata": {
    "id": "Ig2WpfcXDI2o"
   },
   "source": [
    "---\n",
    "---\n",
    "\n",
    "# 💎 Challenge 3\n",
    "\n",
    "- Modify the main page, so that the course details of the relevant courses in the `response` from LLM will be displayed to the users.\n",
    "\n",
    "- Hint: You may need to modify the `customer_query_handler.py` script to achieve this."
   ]
  },
  {
   "cell_type": "markdown",
   "metadata": {
    "id": "8KhNp8AUDI2p"
   },
   "source": [
    "![](https://abc-notes.data.tech.gov.sg/resources/img/topic-07-part-02-screenshot-03.png)"
   ]
  },
  {
   "cell_type": "markdown",
   "metadata": {
    "id": "7ntaqqnrDI2p"
   },
   "source": []
  }
 ],
 "metadata": {
  "colab": {
   "provenance": [],
   "toc_visible": true
  },
  "kernelspec": {
   "display_name": "Python 3 (ipykernel)",
   "language": "python",
   "name": "python3"
  },
  "language_info": {
   "codemirror_mode": {
    "name": "ipython",
    "version": 3
   },
   "file_extension": ".py",
   "mimetype": "text/x-python",
   "name": "python",
   "nbconvert_exporter": "python",
   "pygments_lexer": "ipython3",
   "version": "3.12.9"
  }
 },
 "nbformat": 4,
 "nbformat_minor": 4
}
