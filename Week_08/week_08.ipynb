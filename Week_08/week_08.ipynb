{
  "cells": [
    {
      "cell_type": "markdown",
      "metadata": {
        "id": "view-in-github",
        "colab_type": "text"
      },
      "source": [
        "<a href=\"https://colab.research.google.com/gist/nick-dsaid/a9d8f897648ead835608f3572402b448/week_8_deploying_streamlit_app.ipynb\" target=\"_parent\"><img src=\"https://colab.research.google.com/assets/colab-badge.svg\" alt=\"Open In Colab\"/></a>"
      ]
    },
    {
      "cell_type": "markdown",
      "metadata": {
        "id": "KZSA4_prhQpa"
      },
      "source": [
        "# Notebook: [ Week #8 - Deploying Streamlit App]\n",
        "\n",
        "💡💡💡 We strongly suggest that you at least go through the following materials in our notes before proceeding with this hands-on session:\n",
        "- *\"Password Protect the Streamlit App\"*\n",
        "- *\"Intro to Git and GitHub (Version Control)\"*\n",
        "- *\"Deploying Streamlit App on Streamlit Community Cloud*\n",
        "\n",
        "---\n",
        "\n",
        "💎 The **best way** to go through this hands-on:\n",
        "- Try not to watch the step-by-step videos unless you get stuck for more than 15-20 minutes.\n",
        "\n",
        "- At this point, you should be comfortable with fiddling with the code and resolvings errors on your own."
      ]
    },
    {
      "cell_type": "markdown",
      "metadata": {
        "id": "wF_-EjxBAvoo"
      },
      "source": [
        "---\n",
        "---"
      ]
    },
    {
      "cell_type": "markdown",
      "metadata": {
        "id": "DddQYjToAvop"
      },
      "source": [
        "# Task 1: Setting Up the Project Files\n",
        "\n",
        "1. Make sure you have set up the following:\n",
        "    - A [GitHub account](https://github.com/)\n",
        "    - Install [GitHub Desktop](https://desktop.github.com/download/) on your local machine\n",
        "    - A [Streamlit Account](https://streamlit.io/cloud)\n",
        "\n",
        "\n",
        "2. Download a copy of the completed code of Topic 7 (Notebook Part 2) from the URL below onto your laptop.\n",
        "    - URL: abc-notes.data.tech.gov.sg/resources/data/week-08.zip (Copy and paste into a browser)\n",
        "    - Unzip the downloaded file\n",
        "    - The folder that contains all the unzipped file will the `project folder` for this hands-on.\n",
        "\n",
        "3. Set up a virtual environment (`venv`) in the  `project folder` and install the required packages:\n",
        "    - openai\n",
        "    - streamlit\n",
        "    - pandas\n",
        "    - python-dotenv\n",
        "    - tiktoken\n",
        "\n",
        "4. Copy your `.env` file into the folder. It must at least contain the `OPENAI_API_KEY` variable."
      ]
    },
    {
      "cell_type": "markdown",
      "metadata": {
        "id": "XxREmiQzAvop"
      },
      "source": [
        "<br>\n",
        "\n",
        "---\n",
        "---\n",
        "\n",
        "# Task 2: Password Protect the Streamlit App\n",
        "\n",
        "1. Create the file that store the password\n",
        "    - Create a new folder called `.streamlit` at the root of the project folder\n",
        "    - Add a new file `secrets.toml` in the new folder\n",
        "    - Add this line to the file `password = \"<your app password>\"`\n",
        "    - Note that this `toml` will only be used for local development and will be excluded from the GitHub repository.\n",
        "    - The `passsword` will be set separately in the Streamlit Community Cloud settings.\n",
        "\n",
        "---\n",
        "\n",
        "\n",
        "2. Add a new Python script `utility.py` in the `helper_functions` folder. The script will contain the following code:\n",
        "\n",
        "    ```Python\n",
        "    import streamlit as st  \n",
        "    import random  \n",
        "    import hmac  \n",
        "    \n",
        "    # \"\"\"  \n",
        "    # This file contains the common components used in the Streamlit App.  \n",
        "    # This includes the sidebar, the title, the footer, and the password check.  \n",
        "    # \"\"\"  \n",
        "    \n",
        "    \n",
        "    def check_password():  \n",
        "        \"\"\"Returns `True` if the user had the correct password.\"\"\"  \n",
        "        def password_entered():  \n",
        "            \"\"\"Checks whether a password entered by the user is correct.\"\"\"  \n",
        "            if hmac.compare_digest(st.session_state[\"password\"], st.secrets[\"password\"]):  \n",
        "                st.session_state[\"password_correct\"] = True  \n",
        "                del st.session_state[\"password\"]  # Don't store the password.  \n",
        "            else:  \n",
        "                st.session_state[\"password_correct\"] = False  \n",
        "        # Return True if the passward is validated.  \n",
        "        if st.session_state.get(\"password_correct\", False):  \n",
        "            return True  \n",
        "        # Show input for password.  \n",
        "        st.text_input(  \n",
        "            \"Password\", type=\"password\", on_change=password_entered, key=\"password\"  \n",
        "        )  \n",
        "        if \"password_correct\" in st.session_state:  \n",
        "            st.error(\"😕 Password incorrect\")  \n",
        "        return False\n",
        "    ```\n",
        "\n",
        "---\n",
        "\n",
        "3. Add this code block into any of the scripts that render a Streamlit page that need to be password protected:\n",
        "\n",
        "    ```Python\n",
        "    import streamlit as st  \n",
        "    from helper_functions.utility import check_password  \n",
        "    \n",
        "    # Check if the password is correct.  \n",
        "    if not check_password():  \n",
        "        st.stop()\n",
        "    ```\n",
        "\n",
        "---\n",
        "\n",
        "4. Try the app locally to see if everything is working as expected."
      ]
    },
    {
      "cell_type": "markdown",
      "metadata": {
        "id": "CgA_6-yIhQpk"
      },
      "source": [
        "---\n",
        "---\n",
        "\n",
        "# Task 3: Commit and Push the Changes to GitHub"
      ]
    },
    {
      "cell_type": "markdown",
      "metadata": {
        "id": "IqjU5V4TAvop"
      },
      "source": [
        "1. Initialize a new repository in the `week-08` folder.\n",
        "\n",
        "    - Within VS Code, initalize a new repository in the `week-08` folder.\n",
        "    \n",
        "    - Alternatively, you can also initialize a new repository in the `week-08` folder using GitHub Desktop.\n",
        "\n",
        "---\n",
        "\n",
        "2. Create a `.gitignore` file in the root of the project folder.\n",
        "\n",
        "    - Add the following lines to the file:\n",
        "        ```\n",
        "        # Byte-compiled / optimized / DLL files\n",
        "        __pycache__/\n",
        "        *.py[cod]\n",
        "        *$py.class\n",
        "\n",
        "        # Virtual environments\n",
        "        venv/\n",
        "        env/\n",
        "        ENV/\n",
        "        .venv/\n",
        "        .env\n",
        "\n",
        "        # Distribution / packaging\n",
        "        build/\n",
        "        dist/\n",
        "        *.egg-info/\n",
        "\n",
        "        # VS Code\n",
        "        .vscode/\n",
        "        # PyCharm\n",
        "        .idea/\n",
        "\n",
        "        # Streamlit\n",
        "        .streamlit/secrets.toml\n",
        "\n",
        "        ```\n",
        "\n",
        "---\n",
        "\n",
        "3. Commit the changes to the GitHub repository.\n",
        "\n",
        "    - Within VS Code, stage the changes and commit the changes with a message.\n",
        "\n",
        "    - Alternatively, you can also commit the changes using GitHub Desktop.\n",
        "\n",
        "---\n",
        "\n",
        "4. Push the changes to the GitHub repository.\n",
        "\n",
        "    - You may need to set up the remote repository if you haven't done so.\n",
        "\n",
        "    - Alternatively, you can also push the changes using GitHub Desktop."
      ]
    },
    {
      "cell_type": "markdown",
      "metadata": {
        "id": "dctfGA_1Avoq"
      },
      "source": [
        "---\n",
        "---\n",
        "<br>\n",
        "\n",
        "# Task 4: Create a New Streamlit App on Streamlit Community Cloud\n",
        "\n",
        "- Head over to the [Streamlit Community Cloud](https://share.streamlit.io/) and log in.\n",
        "- You may need to allow Streamlit to access your GitHub account, if you haven't done so.\n",
        "- Click on the \"New app\" button.\n",
        "- Select the repository that you have pushed to GitHub.\n",
        "- Click on the `Advanced settings`\n",
        "    - Set the `password` and `OPENAI_API_KEY` in the `Secrets` section.\n",
        "- Click on the `Deploy` button.\n",
        "\n",
        "![](https://abc-notes.data.tech.gov.sg/resources/img/topic-08-walkthrough-01.png)"
      ]
    },
    {
      "cell_type": "markdown",
      "metadata": {
        "id": "Nnht935-Avoq"
      },
      "source": []
    },
    {
      "cell_type": "markdown",
      "source": [
        "# Task 5: Specifying the Packages Needed and the Way API Keys are being Read\n",
        "\n",
        "- You will get an error message from the Streamlit app.\n",
        "\n",
        "- This is because we have not yet:\n",
        "\n",
        "    - Specified the packages needed for the app to run.\n",
        "    \n",
        "    - Change the way the API keys are being read in our Script\n",
        "\n",
        "\n",
        "---\n",
        "\n",
        "### Step 1: Add a `requirements.txt` file in the root of the project folder.\n",
        "- run `pip freeze > requirements.txt` in the terminal to generate the file.\n",
        "\n",
        "\n",
        "---\n",
        "\n",
        "### Step 2: Modify the way the API keys are being read in the script in `llm.py` file.\n",
        "\n",
        "```Python\n",
        "Original Code:\n",
        "import os\n",
        "from dotenv import load_dotenv\n",
        "from openai import OpenAI\n",
        "import tiktoken\n",
        "\n",
        "load_dotenv('.env')\n",
        "\n",
        "\n",
        "# Pass the API Key to the OpenAI Client\n",
        "client = OpenAI(api_key=os.getenv('OPENAI_API_KEY'))\n",
        "\n",
        "# Some other code here are omitted for brevity\n",
        "```\n",
        "\n",
        "---\n",
        "<br>\n",
        "\n",
        "- Here is the new code\n",
        "\n",
        "```Python\n",
        "import os\n",
        "import streamlit as st\n",
        "from dotenv import load_dotenv\n",
        "from openai import OpenAI\n",
        "import tiktoken\n",
        "\n",
        "\n",
        "if load_dotenv('.env'):\n",
        "   # for local development\n",
        "   OPENAI_KEY = os.getenv('OPENAI_API_KEY')\n",
        "else:\n",
        "   OPENAI_KEY = st.secrets['OPENAI_API_KEY']\n",
        "\n",
        "\n",
        "# Pass the API Key to the OpenAI Client\n",
        "client = OpenAI(api_key=OPENAI_KEY)\n",
        "# Some other code here are omitted for brevity\n",
        "```\n",
        "\n",
        "---\n",
        "\n",
        "### Step 3: **Commit and push** the changes to the GitHub repository.\n",
        "\n",
        "\n",
        "---\n",
        "---\n",
        "<br>\n",
        "\n"
      ],
      "metadata": {
        "id": "IP8KbMz1wRAW"
      }
    },
    {
      "cell_type": "markdown",
      "metadata": {
        "vscode": {
          "languageId": "plaintext"
        },
        "id": "A0NG2Uq1Avoq"
      },
      "source": [
        "# [OPTIONAL] Task 6: Share the URL of your Deployed App on our `Miro Board`!!!\n",
        "- This is a achievement that you should be proud of! Share the URL of your deployed app on our `Miro Board` so that everyone can see your work!"
      ]
    },
    {
      "cell_type": "markdown",
      "metadata": {
        "id": "CRp0QZn5Avoq"
      },
      "source": [
        "- 🚀🚀🚀 That's it! You have successfully deployed a password-protected Streamlit app on the Streamlit Community Cloud. 🚀🚀🚀"
      ]
    },
    {
      "cell_type": "markdown",
      "metadata": {
        "id": "quzkNql0Avor"
      },
      "source": []
    }
  ],
  "metadata": {
    "colab": {
      "provenance": [],
      "include_colab_link": true
    },
    "kernelspec": {
      "display_name": "aicamp-3.12.1-win",
      "language": "python",
      "name": "aicamp-3.12.1-win"
    },
    "language_info": {
      "codemirror_mode": {
        "name": "ipython",
        "version": 3
      },
      "file_extension": ".py",
      "mimetype": "text/x-python",
      "name": "python",
      "nbconvert_exporter": "python",
      "pygments_lexer": "ipython3",
      "version": "3.12.1"
    }
  },
  "nbformat": 4,
  "nbformat_minor": 0
}