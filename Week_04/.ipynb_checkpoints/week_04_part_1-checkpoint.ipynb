{
 "cells": [
  {
   "cell_type": "markdown",
   "id": "36b4ef88-cfc9-465e-bafe-2131b0258ed3",
   "metadata": {
    "id": "36b4ef88-cfc9-465e-bafe-2131b0258ed3"
   },
   "source": [
    "---\n",
    "---\n",
    "# Notebook: [ Week #04: From Embeddings to Applications]"
   ]
  },
  {
   "cell_type": "markdown",
   "id": "3uxF88eqRZ0v",
   "metadata": {
    "id": "3uxF88eqRZ0v"
   },
   "source": [
    "Updates:\n",
    "---\n",
    "20240819 - Fixed the `db` undefined issues, by changing the `db` to `vector_store`"
   ]
  },
  {
   "cell_type": "markdown",
   "id": "f3277502-6fd2-4d9c-9230-e29daa52a881",
   "metadata": {
    "id": "f3277502-6fd2-4d9c-9230-e29daa52a881"
   },
   "source": [
    "## Setup\n",
    "---"
   ]
  },
  {
   "cell_type": "code",
   "execution_count": null,
   "id": "a143147f-120f-4b88-a078-af25a976e993",
   "metadata": {
    "id": "a143147f-120f-4b88-a078-af25a976e993"
   },
   "outputs": [],
   "source": [
    "%skip\n",
    "!pip install openai\n",
    "!pip install langchain\n",
    "!pip install langchain-openai\n",
    "!pip install langchain-experimental\n",
    "!pip install langchain-chroma\n",
    "!pip install pypdf\n",
    "!pip install lolviz\n",
    "!pip install chromadb\n",
    "!pip install rank_bm25\n",
    "!pip install umap-learn\n",
    "!pip install tqdm\n",
    "!pip install tiktoken"
   ]
  },
  {
   "cell_type": "code",
   "execution_count": 1,
   "id": "m7BYo0rjUfa6",
   "metadata": {
    "id": "m7BYo0rjUfa6",
    "outputId": "bdba6df0-462c-467d-df86-0a75a2faad3e"
   },
   "outputs": [
    {
     "name": "stdout",
     "output_type": "stream",
     "text": [
      "Identity added: /home/xllvr/.ssh/github_rsa (dan@dtsa.email)\n",
      "--2025-06-21 16:12:10--  https://abc-notes.data.tech.gov.sg/resources/data/digital_products.csv\n",
      "Resolving abc-notes.data.tech.gov.sg (abc-notes.data.tech.gov.sg)... 108.156.144.36, 108.156.144.10, 108.156.144.96, ...\n",
      "Connecting to abc-notes.data.tech.gov.sg (abc-notes.data.tech.gov.sg)|108.156.144.36|:443... connected.\n",
      "HTTP request sent, awaiting response... 200 OK\n",
      "Length: 9048 (8.8K) [text/csv]\n",
      "Saving to: ‘digital_products.csv.1’\n",
      "\n",
      "digital_products.cs 100%[===================>]   8.84K  --.-KB/s    in 0s      \n",
      "\n",
      "2025-06-21 16:12:10 (251 MB/s) - ‘digital_products.csv.1’ saved [9048/9048]\n",
      "\n"
     ]
    }
   ],
   "source": [
    "%skip\n",
    "!wget \"https://abc-notes.data.tech.gov.sg/resources/data/digital_products.csv\""
   ]
  },
  {
   "cell_type": "code",
   "execution_count": 2,
   "id": "bf6b922c-6ba8-4f72-8505-1d9e9082d1ea",
   "metadata": {
    "ExecuteTime": {
     "end_time": "2024-04-18T10:04:02.399355Z",
     "start_time": "2024-04-18T10:03:46.985122Z"
    },
    "id": "bf6b922c-6ba8-4f72-8505-1d9e9082d1ea",
    "scrolled": true
   },
   "outputs": [
    {
     "name": "stdin",
     "output_type": "stream",
     "text": [
      "Enter your OpenAI API Key ········\n"
     ]
    }
   ],
   "source": [
    "from openai import OpenAI\n",
    "from getpass import getpass\n",
    "\n",
    "API_KEY = getpass(\"Enter your OpenAI API Key\")\n",
    "client = OpenAI(api_key=API_KEY)"
   ]
  },
  {
   "cell_type": "markdown",
   "id": "4dedf9c9-10e2-409d-a278-c4ab11ecec20",
   "metadata": {
    "id": "4dedf9c9-10e2-409d-a278-c4ab11ecec20"
   },
   "source": [
    "## Helper Functions\n",
    "---"
   ]
  },
  {
   "cell_type": "markdown",
   "id": "502df0ab-0070-45c7-91e0-947b67a38b6b",
   "metadata": {
    "id": "502df0ab-0070-45c7-91e0-947b67a38b6b"
   },
   "source": [
    "### Function for Generating Embedding"
   ]
  },
  {
   "cell_type": "code",
   "execution_count": null,
   "id": "38b50326-d1b2-41b6-a9e5-30ead5746975",
   "metadata": {
    "ExecuteTime": {
     "end_time": "2024-04-18T10:04:06.378658Z",
     "start_time": "2024-04-18T10:04:06.375417Z"
    },
    "id": "38b50326-d1b2-41b6-a9e5-30ead5746975"
   },
   "outputs": [],
   "source": [
    "def get_embedding(input, model='text-embedding-3-small'):\n",
    "    response = client.embeddings.create(\n",
    "        input=input,\n",
    "        model=model\n",
    "    )\n",
    "    return [x.embedding for x in response.data]"
   ]
  },
  {
   "cell_type": "markdown",
   "id": "9c598843-e679-4c5c-91b0-a7d521a04529",
   "metadata": {
    "id": "9c598843-e679-4c5c-91b0-a7d521a04529"
   },
   "source": [
    "### Function for Text Generation"
   ]
  },
  {
   "cell_type": "code",
   "execution_count": null,
   "id": "fc43c3a5-6fd2-4959-86d2-efcb01d4e1fc",
   "metadata": {
    "ExecuteTime": {
     "end_time": "2024-04-18T10:04:07.689552Z",
     "start_time": "2024-04-18T10:04:07.686329Z"
    },
    "id": "fc43c3a5-6fd2-4959-86d2-efcb01d4e1fc",
    "tags": []
   },
   "outputs": [],
   "source": [
    "# This is the \"Updated\" helper function for calling LLM\n",
    "def get_completion(prompt, model=\"gpt-4o-mini\", temperature=0, top_p=1.0, max_tokens=256, n=1, json_output=False):\n",
    "    if json_output == True:\n",
    "      output_json_structure = {\"type\": \"json_object\"}\n",
    "    else:\n",
    "      output_json_structure = None\n",
    "\n",
    "    messages = [{\"role\": \"user\", \"content\": prompt}]\n",
    "    response = client.chat.completions.create( #originally was openai.chat.completions\n",
    "        model=model,\n",
    "        messages=messages,\n",
    "        temperature=temperature,\n",
    "        top_p=top_p,\n",
    "        max_tokens=max_tokens,\n",
    "        n=1,\n",
    "        response_format=output_json_structure,\n",
    "    )\n",
    "    return response.choices[0].message.content"
   ]
  },
  {
   "cell_type": "code",
   "execution_count": null,
   "id": "ab732b0a-d180-45b3-b157-1b5b3fb91504",
   "metadata": {
    "ExecuteTime": {
     "end_time": "2024-04-18T10:04:12.005574Z",
     "start_time": "2024-04-18T10:04:12.003060Z"
    },
    "id": "ab732b0a-d180-45b3-b157-1b5b3fb91504"
   },
   "outputs": [],
   "source": [
    "# This a \"modified\" helper function that we will discuss in this session\n",
    "# Note that this function directly take in \"messages\" as the parameter.\n",
    "def get_completion_by_messages(messages, model=\"gpt-4o-mini\", temperature=0, top_p=1.0, max_tokens=1024, n=1):\n",
    "    response = client.chat.completions.create(\n",
    "        model=model,\n",
    "        messages=messages,\n",
    "        temperature=temperature,\n",
    "        top_p=top_p,\n",
    "        max_tokens=max_tokens,\n",
    "        n=1\n",
    "    )\n",
    "    return response.choices[0].message.content"
   ]
  },
  {
   "cell_type": "markdown",
   "id": "ea754f8c-dda7-44d9-a23f-9d670a0b8d58",
   "metadata": {
    "id": "ea754f8c-dda7-44d9-a23f-9d670a0b8d58"
   },
   "source": [
    "### Functions for Token Counting"
   ]
  },
  {
   "cell_type": "code",
   "execution_count": null,
   "id": "4a41d37f-2bba-4c5c-beae-9fe160785cfa",
   "metadata": {
    "ExecuteTime": {
     "end_time": "2024-04-18T10:04:16.628901Z",
     "start_time": "2024-04-18T10:04:15.654851Z"
    },
    "id": "4a41d37f-2bba-4c5c-beae-9fe160785cfa"
   },
   "outputs": [],
   "source": [
    "# These functions are for calculating the tokens.\n",
    "# ⚠️ These are simplified implementations that are good enough for a rough estimation.\n",
    "\n",
    "import tiktoken\n",
    "\n",
    "def count_tokens(text):\n",
    "    encoding = tiktoken.encoding_for_model('gpt-4o-mini')\n",
    "    return len(encoding.encode(text))\n",
    "\n",
    "def count_tokens_from_message(messages):\n",
    "    encoding = tiktoken.encoding_for_model('gpt-4o-mini')\n",
    "    value = ' '.join([x.get('content') for x in messages])\n",
    "    return len(encoding.encode(value))\n"
   ]
  },
  {
   "cell_type": "markdown",
   "id": "48c0d11c-3cb5-44b1-806d-8ae6a467ba4f",
   "metadata": {
    "id": "48c0d11c-3cb5-44b1-806d-8ae6a467ba4f"
   },
   "source": [
    "---\n",
    "---"
   ]
  },
  {
   "cell_type": "markdown",
   "id": "e35403a7-628d-4128-8967-ce0290992e7f",
   "metadata": {
    "id": "e35403a7-628d-4128-8967-ce0290992e7f"
   },
   "source": [
    "# Understanding Embeddings"
   ]
  },
  {
   "cell_type": "code",
   "execution_count": null,
   "id": "e01b046a-b5c8-43d4-bc3e-1c8fd8dfe202",
   "metadata": {
    "ExecuteTime": {
     "end_time": "2024-04-18T10:04:19.489871Z",
     "start_time": "2024-04-18T10:04:19.487443Z"
    },
    "id": "e01b046a-b5c8-43d4-bc3e-1c8fd8dfe202"
   },
   "outputs": [],
   "source": [
    "in_1 = \"Flamingo spotted at the in the bird park\"\n",
    "\n",
    "in_2 = \"Sea otter seen playing at the marine park\"\n",
    "\n",
    "in_3 = \"Baby panda born at the city zoo\"\n",
    "\n",
    "in_4 = \"Python developers prefer snake_case for variable naming\"\n",
    "\n",
    "in_5 = \"New JavaScript framework aims to simplify coding\"\n",
    "\n",
    "in_6 = \"C++ developers appreciate the power of OOP\"\n",
    "\n",
    "in_7 = \"Java is a popular choice for enterprise applications\"\n",
    "\n",
    "\n",
    "list_of_input_texts = [in_1, in_2, in_3, in_4, in_5, in_6, in_7]"
   ]
  },
  {
   "cell_type": "markdown",
   "id": "9a7a40cd-a3c8-497e-ab0d-494bfaaa3002",
   "metadata": {
    "id": "9a7a40cd-a3c8-497e-ab0d-494bfaaa3002"
   },
   "source": [
    "## Understand the Outputs of Embedding Process"
   ]
  },
  {
   "cell_type": "code",
   "execution_count": null,
   "id": "c4abccc0-ff2f-40f5-bac4-a947ce819885",
   "metadata": {
    "ExecuteTime": {
     "end_time": "2024-04-18T10:04:22.872152Z",
     "start_time": "2024-04-18T10:04:21.360377Z"
    },
    "id": "c4abccc0-ff2f-40f5-bac4-a947ce819885"
   },
   "outputs": [],
   "source": [
    "# Use the helper function to get the embeddings\n",
    "response = get_embedding(list_of_input_texts)"
   ]
  },
  {
   "cell_type": "code",
   "execution_count": null,
   "id": "438388f2-54ae-48e9-ba11-72e20b968206",
   "metadata": {
    "ExecuteTime": {
     "end_time": "2024-04-18T10:04:22.877256Z",
     "start_time": "2024-04-18T10:04:22.872152Z"
    },
    "id": "438388f2-54ae-48e9-ba11-72e20b968206",
    "outputId": "a50523be-c500-48e2-a871-51b341063610"
   },
   "outputs": [
    {
     "data": {
      "text/plain": [
       "7"
      ]
     },
     "execution_count": 25,
     "metadata": {},
     "output_type": "execute_result"
    }
   ],
   "source": [
    "# Each string in the list of input texts is converted to a vector\n",
    "# with 7 string inputs, the output contains a list of 7 vectors\n",
    "len(response)"
   ]
  },
  {
   "cell_type": "code",
   "execution_count": null,
   "id": "69376e4c-bba4-483b-b728-27154e6e13aa",
   "metadata": {
    "ExecuteTime": {
     "end_time": "2024-04-18T10:04:24.377480Z",
     "start_time": "2024-04-18T10:04:24.374347Z"
    },
    "id": "69376e4c-bba4-483b-b728-27154e6e13aa",
    "outputId": "29a16b00-5a91-4a3c-d1e9-e0b31ca231b1"
   },
   "outputs": [
    {
     "name": "stdout",
     "output_type": "stream",
     "text": [
      "1536\n",
      "1536\n",
      "1536\n",
      "1536\n",
      "1536\n",
      "1536\n",
      "1536\n"
     ]
    }
   ],
   "source": [
    "# Each vector has a length of 1536\n",
    "for vector in response:\n",
    "    print(len(vector))"
   ]
  },
  {
   "cell_type": "code",
   "execution_count": null,
   "id": "23239d81",
   "metadata": {
    "id": "23239d81",
    "outputId": "4e7f4a5d-9715-45cc-d8f0-713a663495d2"
   },
   "outputs": [
    {
     "data": {
      "image/svg+xml": [
       "<?xml version=\"1.0\" encoding=\"UTF-8\" standalone=\"no\"?>\n",
       "<!DOCTYPE svg PUBLIC \"-//W3C//DTD SVG 1.1//EN\"\n",
       " \"http://www.w3.org/Graphics/SVG/1.1/DTD/svg11.dtd\">\n",
       "<!-- Generated by graphviz version 12.0.0 (20240704.0754)\n",
       " -->\n",
       "<!-- Title: G Pages: 1 -->\n",
       "<svg width=\"210pt\" height=\"1275pt\"\n",
       " viewBox=\"0.00 0.00 209.57 1275.44\" xmlns=\"http://www.w3.org/2000/svg\" xmlns:xlink=\"http://www.w3.org/1999/xlink\">\n",
       "<g id=\"graph0\" class=\"graph\" transform=\"scale(1 1) rotate(0) translate(4 1271.44)\">\n",
       "<title>G</title>\n",
       "<polygon fill=\"white\" stroke=\"none\" points=\"-4,4 -4,-1271.44 205.57,-1271.44 205.57,4 -4,4\"/>\n",
       "<!-- node6305225600 -->\n",
       "<g id=\"node1\" class=\"node\">\n",
       "<title>node6305225600</title>\n",
       "<polygon fill=\"#cfe2d4\" stroke=\"#444443\" stroke-width=\"0.5\" points=\"14.13,-690.29 0,-690.29 0,-577.15 14.13,-577.15 14.13,-690.29\"/>\n",
       "<polygon fill=\"#cfe2d4\" stroke=\"none\" points=\"1.44,-673.1 1.44,-688.85 12.69,-688.85 12.69,-673.1 1.44,-673.1\"/>\n",
       "<polyline fill=\"none\" stroke=\"#444443\" points=\"1.44,-673.1 12.69,-673.1\"/>\n",
       "<text text-anchor=\"start\" x=\"4.44\" y=\"-677.3\" font-family=\"Helvetica,sans-Serif\" font-size=\"9.00\" fill=\"#444443\">0</text>\n",
       "<polygon fill=\"#cfe2d4\" stroke=\"none\" points=\"1.44,-657.35 1.44,-673.1 12.69,-673.1 12.69,-657.35 1.44,-657.35\"/>\n",
       "<polyline fill=\"none\" stroke=\"#444443\" points=\"1.44,-657.35 12.69,-657.35\"/>\n",
       "<text text-anchor=\"start\" x=\"4.44\" y=\"-661.55\" font-family=\"Helvetica,sans-Serif\" font-size=\"9.00\" fill=\"#444443\">1</text>\n",
       "<polygon fill=\"#cfe2d4\" stroke=\"none\" points=\"1.44,-641.6 1.44,-657.35 12.69,-657.35 12.69,-641.6 1.44,-641.6\"/>\n",
       "<polyline fill=\"none\" stroke=\"#444443\" points=\"1.44,-641.6 12.69,-641.6\"/>\n",
       "<text text-anchor=\"start\" x=\"4.44\" y=\"-645.8\" font-family=\"Helvetica,sans-Serif\" font-size=\"9.00\" fill=\"#444443\">2</text>\n",
       "<polygon fill=\"#cfe2d4\" stroke=\"none\" points=\"1.44,-625.85 1.44,-641.6 12.69,-641.6 12.69,-625.85 1.44,-625.85\"/>\n",
       "<polyline fill=\"none\" stroke=\"#444443\" points=\"1.44,-625.85 12.69,-625.85\"/>\n",
       "<text text-anchor=\"start\" x=\"4.44\" y=\"-630.05\" font-family=\"Helvetica,sans-Serif\" font-size=\"9.00\" fill=\"#444443\">3</text>\n",
       "<polygon fill=\"#cfe2d4\" stroke=\"none\" points=\"1.44,-610.1 1.44,-625.85 12.69,-625.85 12.69,-610.1 1.44,-610.1\"/>\n",
       "<polyline fill=\"none\" stroke=\"#444443\" points=\"1.44,-610.1 12.69,-610.1\"/>\n",
       "<text text-anchor=\"start\" x=\"4.44\" y=\"-614.3\" font-family=\"Helvetica,sans-Serif\" font-size=\"9.00\" fill=\"#444443\">4</text>\n",
       "<polygon fill=\"#cfe2d4\" stroke=\"none\" points=\"1.44,-594.35 1.44,-610.1 12.69,-610.1 12.69,-594.35 1.44,-594.35\"/>\n",
       "<polyline fill=\"none\" stroke=\"#444443\" points=\"1.44,-594.35 12.69,-594.35\"/>\n",
       "<text text-anchor=\"start\" x=\"4.44\" y=\"-598.55\" font-family=\"Helvetica,sans-Serif\" font-size=\"9.00\" fill=\"#444443\">5</text>\n",
       "<polygon fill=\"#cfe2d4\" stroke=\"none\" points=\"1.44,-578.6 1.44,-594.35 12.69,-594.35 12.69,-578.6 1.44,-578.6\"/>\n",
       "<text text-anchor=\"start\" x=\"4.44\" y=\"-582.8\" font-family=\"Helvetica,sans-Serif\" font-size=\"9.00\" fill=\"#444443\">6</text>\n",
       "</g>\n",
       "<!-- node4551218624 -->\n",
       "<g id=\"node2\" class=\"node\">\n",
       "<title>node4551218624</title>\n",
       "<polygon fill=\"none\" stroke=\"black\" stroke-width=\"0.5\" points=\"200.57,-1267.44 37.13,-1267.44 37.13,-1092 200.57,-1092 200.57,-1267.44\"/>\n",
       "<polygon fill=\"#fefecd\" stroke=\"none\" points=\"37.85,-1252.72 37.85,-1266.72 66.85,-1266.72 66.85,-1252.72 37.85,-1252.72\"/>\n",
       "<polyline fill=\"none\" stroke=\"black\" points=\"66.85,-1252.72 66.85,-1266.72\"/>\n",
       "<text text-anchor=\"start\" x=\"56.85\" y=\"-1255.27\" font-family=\"Helvetica,sans-Serif\" font-size=\"11.00\" fill=\"#444443\">0 </text>\n",
       "<polygon fill=\"#fefecd\" stroke=\"none\" points=\"66.85,-1252.72 66.85,-1266.72 199.85,-1266.72 199.85,-1252.72 66.85,-1252.72\"/>\n",
       "<text text-anchor=\"start\" x=\"76.72\" y=\"-1255.27\" font-family=\"Helvetica,sans-Serif\" font-size=\"11.00\" fill=\"#444443\"> 0.02455011196434498</text>\n",
       "<polygon fill=\"#fefecd\" stroke=\"none\" points=\"37.85,-1250.72 37.85,-1252.72 199.85,-1252.72 199.85,-1250.72 37.85,-1250.72\"/>\n",
       "<polygon fill=\"#fefecd\" stroke=\"none\" points=\"37.85,-1236.72 37.85,-1250.72 66.85,-1250.72 66.85,-1236.72 37.85,-1236.72\"/>\n",
       "<polyline fill=\"none\" stroke=\"black\" points=\"66.85,-1236.72 66.85,-1250.72\"/>\n",
       "<text text-anchor=\"start\" x=\"56.85\" y=\"-1239.27\" font-family=\"Helvetica,sans-Serif\" font-size=\"11.00\" fill=\"#444443\">1 </text>\n",
       "<polygon fill=\"#fefecd\" stroke=\"none\" points=\"66.85,-1236.72 66.85,-1250.72 199.85,-1250.72 199.85,-1236.72 66.85,-1236.72\"/>\n",
       "<text text-anchor=\"start\" x=\"67.72\" y=\"-1239.27\" font-family=\"Helvetica,sans-Serif\" font-size=\"11.00\" fill=\"#444443\"> &#39;&#45;0.02746369503438472...&#39;</text>\n",
       "<polygon fill=\"#fefecd\" stroke=\"none\" points=\"37.85,-1234.72 37.85,-1236.72 199.85,-1236.72 199.85,-1234.72 37.85,-1234.72\"/>\n",
       "<polygon fill=\"#fefecd\" stroke=\"none\" points=\"37.85,-1220.72 37.85,-1234.72 66.85,-1234.72 66.85,-1220.72 37.85,-1220.72\"/>\n",
       "<polyline fill=\"none\" stroke=\"black\" points=\"66.85,-1220.72 66.85,-1234.72\"/>\n",
       "<text text-anchor=\"start\" x=\"56.85\" y=\"-1223.27\" font-family=\"Helvetica,sans-Serif\" font-size=\"11.00\" fill=\"#444443\">2 </text>\n",
       "<polygon fill=\"#fefecd\" stroke=\"none\" points=\"66.85,-1220.72 66.85,-1234.72 199.85,-1234.72 199.85,-1220.72 66.85,-1220.72\"/>\n",
       "<text text-anchor=\"start\" x=\"67.72\" y=\"-1223.27\" font-family=\"Helvetica,sans-Serif\" font-size=\"11.00\" fill=\"#444443\"> &#39;&#45;0.00245912815444171...&#39;</text>\n",
       "<polygon fill=\"#fefecd\" stroke=\"none\" points=\"37.85,-1218.72 37.85,-1220.72 199.85,-1220.72 199.85,-1218.72 37.85,-1218.72\"/>\n",
       "<polygon fill=\"#fefecd\" stroke=\"none\" points=\"37.85,-1204.72 37.85,-1218.72 66.85,-1218.72 66.85,-1204.72 37.85,-1204.72\"/>\n",
       "<polyline fill=\"none\" stroke=\"black\" points=\"66.85,-1204.72 66.85,-1218.72\"/>\n",
       "<text text-anchor=\"start\" x=\"56.85\" y=\"-1207.27\" font-family=\"Helvetica,sans-Serif\" font-size=\"11.00\" fill=\"#444443\">3 </text>\n",
       "<polygon fill=\"#fefecd\" stroke=\"none\" points=\"66.85,-1204.72 66.85,-1218.72 199.85,-1218.72 199.85,-1204.72 66.85,-1204.72\"/>\n",
       "<text text-anchor=\"start\" x=\"73.35\" y=\"-1207.27\" font-family=\"Helvetica,sans-Serif\" font-size=\"11.00\" fill=\"#444443\"> 0.014073877595365047</text>\n",
       "<polygon fill=\"#fefecd\" stroke=\"none\" points=\"37.85,-1202.72 37.85,-1204.72 199.85,-1204.72 199.85,-1202.72 37.85,-1202.72\"/>\n",
       "<polygon fill=\"#fefecd\" stroke=\"none\" points=\"37.85,-1188.72 37.85,-1202.72 66.85,-1202.72 66.85,-1188.72 37.85,-1188.72\"/>\n",
       "<polyline fill=\"none\" stroke=\"black\" points=\"66.85,-1188.72 66.85,-1202.72\"/>\n",
       "<text text-anchor=\"start\" x=\"56.85\" y=\"-1191.27\" font-family=\"Helvetica,sans-Serif\" font-size=\"11.00\" fill=\"#444443\">4 </text>\n",
       "<polygon fill=\"#fefecd\" stroke=\"none\" points=\"66.85,-1188.72 66.85,-1202.72 199.85,-1202.72 199.85,-1188.72 66.85,-1188.72\"/>\n",
       "<text text-anchor=\"start\" x=\"67.72\" y=\"-1191.27\" font-family=\"Helvetica,sans-Serif\" font-size=\"11.00\" fill=\"#444443\"> &#39;&#45;0.00813269987702369...&#39;</text>\n",
       "<polygon fill=\"#fefecd\" stroke=\"none\" points=\"37.85,-1186.72 37.85,-1188.72 199.85,-1188.72 199.85,-1186.72 37.85,-1186.72\"/>\n",
       "<polygon fill=\"#fefecd\" stroke=\"none\" points=\"37.85,-1172.72 37.85,-1186.72 66.85,-1186.72 66.85,-1172.72 37.85,-1172.72\"/>\n",
       "<polyline fill=\"none\" stroke=\"black\" points=\"66.85,-1172.72 66.85,-1186.72\"/>\n",
       "<text text-anchor=\"start\" x=\"56.85\" y=\"-1175.27\" font-family=\"Helvetica,sans-Serif\" font-size=\"11.00\" fill=\"#444443\">5 </text>\n",
       "<polygon fill=\"#fefecd\" stroke=\"none\" points=\"66.85,-1172.72 66.85,-1186.72 199.85,-1186.72 199.85,-1172.72 66.85,-1172.72\"/>\n",
       "<text text-anchor=\"start\" x=\"73.35\" y=\"-1175.27\" font-family=\"Helvetica,sans-Serif\" font-size=\"11.00\" fill=\"#444443\"> 0.017962878569960594</text>\n",
       "<polygon fill=\"#fefecd\" stroke=\"none\" points=\"37.85,-1170.72 37.85,-1172.72 199.85,-1172.72 199.85,-1170.72 37.85,-1170.72\"/>\n",
       "<polygon fill=\"#fefecd\" stroke=\"none\" points=\"37.85,-1156.72 37.85,-1170.72 66.85,-1170.72 66.85,-1156.72 37.85,-1156.72\"/>\n",
       "<polyline fill=\"none\" stroke=\"black\" points=\"66.85,-1156.72 66.85,-1170.72\"/>\n",
       "<text text-anchor=\"start\" x=\"56.85\" y=\"-1159.27\" font-family=\"Helvetica,sans-Serif\" font-size=\"11.00\" fill=\"#444443\">6 </text>\n",
       "<polygon fill=\"#fefecd\" stroke=\"none\" points=\"66.85,-1156.72 66.85,-1170.72 199.85,-1170.72 199.85,-1156.72 66.85,-1156.72\"/>\n",
       "<text text-anchor=\"start\" x=\"73.35\" y=\"-1159.27\" font-family=\"Helvetica,sans-Serif\" font-size=\"11.00\" fill=\"#444443\"> 0.008417723700404167</text>\n",
       "<polygon fill=\"#fefecd\" stroke=\"none\" points=\"37.85,-1154.72 37.85,-1156.72 199.85,-1156.72 199.85,-1154.72 37.85,-1154.72\"/>\n",
       "<polygon fill=\"#fefecd\" stroke=\"none\" points=\"37.85,-1140.72 37.85,-1154.72 66.85,-1154.72 66.85,-1140.72 37.85,-1140.72\"/>\n",
       "<polyline fill=\"none\" stroke=\"black\" points=\"66.85,-1140.72 66.85,-1154.72\"/>\n",
       "<text text-anchor=\"start\" x=\"56.85\" y=\"-1143.27\" font-family=\"Helvetica,sans-Serif\" font-size=\"11.00\" fill=\"#444443\">7 </text>\n",
       "<polygon fill=\"#fefecd\" stroke=\"none\" points=\"66.85,-1140.72 66.85,-1154.72 199.85,-1154.72 199.85,-1140.72 66.85,-1140.72\"/>\n",
       "<text text-anchor=\"start\" x=\"76.35\" y=\"-1143.27\" font-family=\"Helvetica,sans-Serif\" font-size=\"11.00\" fill=\"#444443\"> 0.01454258430749178</text>\n",
       "<polygon fill=\"#fefecd\" stroke=\"none\" points=\"37.85,-1138.72 37.85,-1140.72 199.85,-1140.72 199.85,-1138.72 37.85,-1138.72\"/>\n",
       "<polygon fill=\"#fefecd\" stroke=\"none\" points=\"37.85,-1124.72 37.85,-1138.72 66.85,-1138.72 66.85,-1124.72 37.85,-1124.72\"/>\n",
       "<polyline fill=\"none\" stroke=\"black\" points=\"66.85,-1124.72 66.85,-1138.72\"/>\n",
       "<text text-anchor=\"start\" x=\"56.85\" y=\"-1127.27\" font-family=\"Helvetica,sans-Serif\" font-size=\"11.00\" fill=\"#444443\">8 </text>\n",
       "<polygon fill=\"#fefecd\" stroke=\"none\" points=\"66.85,-1124.72 66.85,-1138.72 199.85,-1138.72 199.85,-1124.72 66.85,-1124.72\"/>\n",
       "<text text-anchor=\"start\" x=\"73.35\" y=\"-1127.27\" font-family=\"Helvetica,sans-Serif\" font-size=\"11.00\" fill=\"#444443\"> 0.009760506451129913</text>\n",
       "<polygon fill=\"#fefecd\" stroke=\"none\" points=\"37.85,-1122.72 37.85,-1124.72 199.85,-1124.72 199.85,-1122.72 37.85,-1122.72\"/>\n",
       "<polygon fill=\"#fefecd\" stroke=\"none\" points=\"37.85,-1108.72 37.85,-1122.72 66.85,-1122.72 66.85,-1108.72 37.85,-1108.72\"/>\n",
       "<polyline fill=\"none\" stroke=\"black\" points=\"66.85,-1108.72 66.85,-1122.72\"/>\n",
       "<text text-anchor=\"start\" x=\"53.85\" y=\"-1111.27\" font-family=\"Helvetica,sans-Serif\" font-size=\"11.00\" fill=\"#444443\">... </text>\n",
       "<polygon fill=\"#fefecd\" stroke=\"none\" points=\"66.85,-1108.72 66.85,-1122.72 199.85,-1122.72 199.85,-1108.72 66.85,-1108.72\"/>\n",
       "<text text-anchor=\"start\" x=\"127.35\" y=\"-1111.27\" font-family=\"Helvetica,sans-Serif\" font-size=\"11.00\" fill=\"#444443\"> ...</text>\n",
       "<polygon fill=\"#fefecd\" stroke=\"none\" points=\"37.85,-1106.72 37.85,-1108.72 199.85,-1108.72 199.85,-1106.72 37.85,-1106.72\"/>\n",
       "<polygon fill=\"#fefecd\" stroke=\"none\" points=\"37.85,-1092.72 37.85,-1106.72 66.85,-1106.72 66.85,-1092.72 37.85,-1092.72\"/>\n",
       "<polyline fill=\"none\" stroke=\"black\" points=\"66.85,-1092.72 66.85,-1106.72\"/>\n",
       "<text text-anchor=\"start\" x=\"38.85\" y=\"-1095.27\" font-family=\"Helvetica,sans-Serif\" font-size=\"11.00\" fill=\"#444443\">1535 </text>\n",
       "<polygon fill=\"#fefecd\" stroke=\"none\" points=\"66.85,-1092.72 66.85,-1106.72 199.85,-1106.72 199.85,-1092.72 66.85,-1092.72\"/>\n",
       "<text text-anchor=\"start\" x=\"73.35\" y=\"-1095.27\" font-family=\"Helvetica,sans-Serif\" font-size=\"11.00\" fill=\"#444443\"> 0.013871192932128906</text>\n",
       "</g>\n",
       "<!-- node6305225600&#45;&gt;node4551218624 -->\n",
       "<g id=\"edge1\" class=\"edge\">\n",
       "<title>node6305225600:0&#45;&gt;node4551218624:w</title>\n",
       "<path fill=\"none\" stroke=\"#444443\" stroke-width=\"0.5\" d=\"M7.06,-689.85C7.06,-715.83 8.7,-1137.31 32.46,-1176.76\"/>\n",
       "<polygon fill=\"#444443\" stroke=\"#444443\" stroke-width=\"0.5\" points=\"31.55,-1177.82 35.54,-1179.25 33.31,-1175.64 31.55,-1177.82\"/>\n",
       "</g>\n",
       "<!-- node4558338944 -->\n",
       "<g id=\"node3\" class=\"node\">\n",
       "<title>node4558338944</title>\n",
       "<polygon fill=\"none\" stroke=\"black\" stroke-width=\"0.5\" points=\"200.57,-1085.44 37.13,-1085.44 37.13,-910 200.57,-910 200.57,-1085.44\"/>\n",
       "<polygon fill=\"#fefecd\" stroke=\"none\" points=\"37.85,-1070.72 37.85,-1084.72 66.85,-1084.72 66.85,-1070.72 37.85,-1070.72\"/>\n",
       "<polyline fill=\"none\" stroke=\"black\" points=\"66.85,-1070.72 66.85,-1084.72\"/>\n",
       "<text text-anchor=\"start\" x=\"56.85\" y=\"-1073.27\" font-family=\"Helvetica,sans-Serif\" font-size=\"11.00\" fill=\"#444443\">0 </text>\n",
       "<polygon fill=\"#fefecd\" stroke=\"none\" points=\"66.85,-1070.72 66.85,-1084.72 199.85,-1084.72 199.85,-1070.72 66.85,-1070.72\"/>\n",
       "<text text-anchor=\"start\" x=\"76.35\" y=\"-1073.27\" font-family=\"Helvetica,sans-Serif\" font-size=\"11.00\" fill=\"#444443\"> 0.01785029098391533</text>\n",
       "<polygon fill=\"#fefecd\" stroke=\"none\" points=\"37.85,-1068.72 37.85,-1070.72 199.85,-1070.72 199.85,-1068.72 37.85,-1068.72\"/>\n",
       "<polygon fill=\"#fefecd\" stroke=\"none\" points=\"37.85,-1054.72 37.85,-1068.72 66.85,-1068.72 66.85,-1054.72 37.85,-1054.72\"/>\n",
       "<polyline fill=\"none\" stroke=\"black\" points=\"66.85,-1054.72 66.85,-1068.72\"/>\n",
       "<text text-anchor=\"start\" x=\"56.85\" y=\"-1057.27\" font-family=\"Helvetica,sans-Serif\" font-size=\"11.00\" fill=\"#444443\">1 </text>\n",
       "<polygon fill=\"#fefecd\" stroke=\"none\" points=\"66.85,-1054.72 66.85,-1068.72 199.85,-1068.72 199.85,-1054.72 66.85,-1054.72\"/>\n",
       "<text text-anchor=\"start\" x=\"67.72\" y=\"-1057.27\" font-family=\"Helvetica,sans-Serif\" font-size=\"11.00\" fill=\"#444443\"> &#39;&#45;0.02776112034916877...&#39;</text>\n",
       "<polygon fill=\"#fefecd\" stroke=\"none\" points=\"37.85,-1052.72 37.85,-1054.72 199.85,-1054.72 199.85,-1052.72 37.85,-1052.72\"/>\n",
       "<polygon fill=\"#fefecd\" stroke=\"none\" points=\"37.85,-1038.72 37.85,-1052.72 66.85,-1052.72 66.85,-1038.72 37.85,-1038.72\"/>\n",
       "<polyline fill=\"none\" stroke=\"black\" points=\"66.85,-1038.72 66.85,-1052.72\"/>\n",
       "<text text-anchor=\"start\" x=\"56.85\" y=\"-1041.27\" font-family=\"Helvetica,sans-Serif\" font-size=\"11.00\" fill=\"#444443\">2 </text>\n",
       "<polygon fill=\"#fefecd\" stroke=\"none\" points=\"66.85,-1038.72 66.85,-1052.72 199.85,-1052.72 199.85,-1038.72 66.85,-1038.72\"/>\n",
       "<text text-anchor=\"start\" x=\"73.35\" y=\"-1041.27\" font-family=\"Helvetica,sans-Serif\" font-size=\"11.00\" fill=\"#444443\"> 0.008540324866771698</text>\n",
       "<polygon fill=\"#fefecd\" stroke=\"none\" points=\"37.85,-1036.72 37.85,-1038.72 199.85,-1038.72 199.85,-1036.72 37.85,-1036.72\"/>\n",
       "<polygon fill=\"#fefecd\" stroke=\"none\" points=\"37.85,-1022.72 37.85,-1036.72 66.85,-1036.72 66.85,-1022.72 37.85,-1022.72\"/>\n",
       "<polyline fill=\"none\" stroke=\"black\" points=\"66.85,-1022.72 66.85,-1036.72\"/>\n",
       "<text text-anchor=\"start\" x=\"56.85\" y=\"-1025.27\" font-family=\"Helvetica,sans-Serif\" font-size=\"11.00\" fill=\"#444443\">3 </text>\n",
       "<polygon fill=\"#fefecd\" stroke=\"none\" points=\"66.85,-1022.72 66.85,-1036.72 199.85,-1036.72 199.85,-1022.72 66.85,-1022.72\"/>\n",
       "<text text-anchor=\"start\" x=\"73.35\" y=\"-1025.27\" font-family=\"Helvetica,sans-Serif\" font-size=\"11.00\" fill=\"#444443\"> 0.017256181687116623</text>\n",
       "<polygon fill=\"#fefecd\" stroke=\"none\" points=\"37.85,-1020.72 37.85,-1022.72 199.85,-1022.72 199.85,-1020.72 37.85,-1020.72\"/>\n",
       "<polygon fill=\"#fefecd\" stroke=\"none\" points=\"37.85,-1006.72 37.85,-1020.72 66.85,-1020.72 66.85,-1006.72 37.85,-1006.72\"/>\n",
       "<polyline fill=\"none\" stroke=\"black\" points=\"66.85,-1006.72 66.85,-1020.72\"/>\n",
       "<text text-anchor=\"start\" x=\"56.85\" y=\"-1009.27\" font-family=\"Helvetica,sans-Serif\" font-size=\"11.00\" fill=\"#444443\">4 </text>\n",
       "<polygon fill=\"#fefecd\" stroke=\"none\" points=\"66.85,-1006.72 66.85,-1020.72 199.85,-1020.72 199.85,-1006.72 66.85,-1006.72\"/>\n",
       "<text text-anchor=\"start\" x=\"73.35\" y=\"-1009.27\" font-family=\"Helvetica,sans-Serif\" font-size=\"11.00\" fill=\"#444443\"> 0.006288784556090832</text>\n",
       "<polygon fill=\"#fefecd\" stroke=\"none\" points=\"37.85,-1004.72 37.85,-1006.72 199.85,-1006.72 199.85,-1004.72 37.85,-1004.72\"/>\n",
       "<polygon fill=\"#fefecd\" stroke=\"none\" points=\"37.85,-990.72 37.85,-1004.72 66.85,-1004.72 66.85,-990.72 37.85,-990.72\"/>\n",
       "<polyline fill=\"none\" stroke=\"black\" points=\"66.85,-990.72 66.85,-1004.72\"/>\n",
       "<text text-anchor=\"start\" x=\"56.85\" y=\"-993.27\" font-family=\"Helvetica,sans-Serif\" font-size=\"11.00\" fill=\"#444443\">5 </text>\n",
       "<polygon fill=\"#fefecd\" stroke=\"none\" points=\"66.85,-990.72 66.85,-1004.72 199.85,-1004.72 199.85,-990.72 66.85,-990.72\"/>\n",
       "<text text-anchor=\"start\" x=\"76.35\" y=\"-993.27\" font-family=\"Helvetica,sans-Serif\" font-size=\"11.00\" fill=\"#444443\"> 0.03713184595108032</text>\n",
       "<polygon fill=\"#fefecd\" stroke=\"none\" points=\"37.85,-988.72 37.85,-990.72 199.85,-990.72 199.85,-988.72 37.85,-988.72\"/>\n",
       "<polygon fill=\"#fefecd\" stroke=\"none\" points=\"37.85,-974.72 37.85,-988.72 66.85,-988.72 66.85,-974.72 37.85,-974.72\"/>\n",
       "<polyline fill=\"none\" stroke=\"black\" points=\"66.85,-974.72 66.85,-988.72\"/>\n",
       "<text text-anchor=\"start\" x=\"56.85\" y=\"-977.27\" font-family=\"Helvetica,sans-Serif\" font-size=\"11.00\" fill=\"#444443\">6 </text>\n",
       "<polygon fill=\"#fefecd\" stroke=\"none\" points=\"66.85,-974.72 66.85,-988.72 199.85,-988.72 199.85,-974.72 66.85,-974.72\"/>\n",
       "<text text-anchor=\"start\" x=\"67.72\" y=\"-977.27\" font-family=\"Helvetica,sans-Serif\" font-size=\"11.00\" fill=\"#444443\"> &#39;&#45;0.00737911090254783...&#39;</text>\n",
       "<polygon fill=\"#fefecd\" stroke=\"none\" points=\"37.85,-972.72 37.85,-974.72 199.85,-974.72 199.85,-972.72 37.85,-972.72\"/>\n",
       "<polygon fill=\"#fefecd\" stroke=\"none\" points=\"37.85,-958.72 37.85,-972.72 66.85,-972.72 66.85,-958.72 37.85,-958.72\"/>\n",
       "<polyline fill=\"none\" stroke=\"black\" points=\"66.85,-958.72 66.85,-972.72\"/>\n",
       "<text text-anchor=\"start\" x=\"56.85\" y=\"-961.27\" font-family=\"Helvetica,sans-Serif\" font-size=\"11.00\" fill=\"#444443\">7 </text>\n",
       "<polygon fill=\"#fefecd\" stroke=\"none\" points=\"66.85,-958.72 66.85,-972.72 199.85,-972.72 199.85,-958.72 66.85,-958.72\"/>\n",
       "<text text-anchor=\"start\" x=\"76.35\" y=\"-961.27\" font-family=\"Helvetica,sans-Serif\" font-size=\"11.00\" fill=\"#444443\"> 0.02736954763531685</text>\n",
       "<polygon fill=\"#fefecd\" stroke=\"none\" points=\"37.85,-956.72 37.85,-958.72 199.85,-958.72 199.85,-956.72 37.85,-956.72\"/>\n",
       "<polygon fill=\"#fefecd\" stroke=\"none\" points=\"37.85,-942.72 37.85,-956.72 66.85,-956.72 66.85,-942.72 37.85,-942.72\"/>\n",
       "<polyline fill=\"none\" stroke=\"black\" points=\"66.85,-942.72 66.85,-956.72\"/>\n",
       "<text text-anchor=\"start\" x=\"56.85\" y=\"-945.27\" font-family=\"Helvetica,sans-Serif\" font-size=\"11.00\" fill=\"#444443\">8 </text>\n",
       "<polygon fill=\"#fefecd\" stroke=\"none\" points=\"66.85,-942.72 66.85,-956.72 199.85,-956.72 199.85,-942.72 66.85,-942.72\"/>\n",
       "<text text-anchor=\"start\" x=\"73.35\" y=\"-945.27\" font-family=\"Helvetica,sans-Serif\" font-size=\"11.00\" fill=\"#444443\"> 0.018700947985053062</text>\n",
       "<polygon fill=\"#fefecd\" stroke=\"none\" points=\"37.85,-940.72 37.85,-942.72 199.85,-942.72 199.85,-940.72 37.85,-940.72\"/>\n",
       "<polygon fill=\"#fefecd\" stroke=\"none\" points=\"37.85,-926.72 37.85,-940.72 66.85,-940.72 66.85,-926.72 37.85,-926.72\"/>\n",
       "<polyline fill=\"none\" stroke=\"black\" points=\"66.85,-926.72 66.85,-940.72\"/>\n",
       "<text text-anchor=\"start\" x=\"53.85\" y=\"-929.27\" font-family=\"Helvetica,sans-Serif\" font-size=\"11.00\" fill=\"#444443\">... </text>\n",
       "<polygon fill=\"#fefecd\" stroke=\"none\" points=\"66.85,-926.72 66.85,-940.72 199.85,-940.72 199.85,-926.72 66.85,-926.72\"/>\n",
       "<text text-anchor=\"start\" x=\"127.35\" y=\"-929.27\" font-family=\"Helvetica,sans-Serif\" font-size=\"11.00\" fill=\"#444443\"> ...</text>\n",
       "<polygon fill=\"#fefecd\" stroke=\"none\" points=\"37.85,-924.72 37.85,-926.72 199.85,-926.72 199.85,-924.72 37.85,-924.72\"/>\n",
       "<polygon fill=\"#fefecd\" stroke=\"none\" points=\"37.85,-910.72 37.85,-924.72 66.85,-924.72 66.85,-910.72 37.85,-910.72\"/>\n",
       "<polyline fill=\"none\" stroke=\"black\" points=\"66.85,-910.72 66.85,-924.72\"/>\n",
       "<text text-anchor=\"start\" x=\"38.85\" y=\"-913.27\" font-family=\"Helvetica,sans-Serif\" font-size=\"11.00\" fill=\"#444443\">1535 </text>\n",
       "<polygon fill=\"#fefecd\" stroke=\"none\" points=\"66.85,-910.72 66.85,-924.72 199.85,-924.72 199.85,-910.72 66.85,-910.72\"/>\n",
       "<text text-anchor=\"start\" x=\"76.35\" y=\"-913.27\" font-family=\"Helvetica,sans-Serif\" font-size=\"11.00\" fill=\"#444443\"> 0.00527947349473834</text>\n",
       "</g>\n",
       "<!-- node6305225600&#45;&gt;node4558338944 -->\n",
       "<g id=\"edge2\" class=\"edge\">\n",
       "<title>node6305225600:1&#45;&gt;node4558338944:w</title>\n",
       "<path fill=\"none\" stroke=\"#444443\" stroke-width=\"0.5\" d=\"M13.69,-665.22C49.13,-665.22 3.37,-969.76 31.83,-995.93\"/>\n",
       "<polygon fill=\"#444443\" stroke=\"#444443\" stroke-width=\"0.5\" points=\"31.2,-997.18 35.43,-997.43 32.28,-994.6 31.2,-997.18\"/>\n",
       "</g>\n",
       "<!-- node4546696704 -->\n",
       "<g id=\"node4\" class=\"node\">\n",
       "<title>node4546696704</title>\n",
       "<polygon fill=\"none\" stroke=\"black\" stroke-width=\"0.5\" points=\"201.57,-903.44 36.13,-903.44 36.13,-728 201.57,-728 201.57,-903.44\"/>\n",
       "<polygon fill=\"#fefecd\" stroke=\"none\" points=\"36.85,-888.72 36.85,-902.72 65.85,-902.72 65.85,-888.72 36.85,-888.72\"/>\n",
       "<polyline fill=\"none\" stroke=\"black\" points=\"65.85,-888.72 65.85,-902.72\"/>\n",
       "<text text-anchor=\"start\" x=\"55.85\" y=\"-891.27\" font-family=\"Helvetica,sans-Serif\" font-size=\"11.00\" fill=\"#444443\">0 </text>\n",
       "<polygon fill=\"#fefecd\" stroke=\"none\" points=\"65.85,-888.72 65.85,-902.72 200.85,-902.72 200.85,-888.72 65.85,-888.72\"/>\n",
       "<text text-anchor=\"start\" x=\"66.6\" y=\"-891.27\" font-family=\"Helvetica,sans-Serif\" font-size=\"11.00\" fill=\"#444443\"> &#39;0.001512836664915084...&#39;</text>\n",
       "<polygon fill=\"#fefecd\" stroke=\"none\" points=\"36.85,-886.72 36.85,-888.72 200.85,-888.72 200.85,-886.72 36.85,-886.72\"/>\n",
       "<polygon fill=\"#fefecd\" stroke=\"none\" points=\"36.85,-872.72 36.85,-886.72 65.85,-886.72 65.85,-872.72 36.85,-872.72\"/>\n",
       "<polyline fill=\"none\" stroke=\"black\" points=\"65.85,-872.72 65.85,-886.72\"/>\n",
       "<text text-anchor=\"start\" x=\"55.85\" y=\"-875.27\" font-family=\"Helvetica,sans-Serif\" font-size=\"11.00\" fill=\"#444443\">1 </text>\n",
       "<polygon fill=\"#fefecd\" stroke=\"none\" points=\"65.85,-872.72 65.85,-886.72 200.85,-886.72 200.85,-872.72 65.85,-872.72\"/>\n",
       "<text text-anchor=\"start\" x=\"67.72\" y=\"-875.27\" font-family=\"Helvetica,sans-Serif\" font-size=\"11.00\" fill=\"#444443\"> &#39;&#45;0.03509331122040748...&#39;</text>\n",
       "<polygon fill=\"#fefecd\" stroke=\"none\" points=\"36.85,-870.72 36.85,-872.72 200.85,-872.72 200.85,-870.72 36.85,-870.72\"/>\n",
       "<polygon fill=\"#fefecd\" stroke=\"none\" points=\"36.85,-856.72 36.85,-870.72 65.85,-870.72 65.85,-856.72 36.85,-856.72\"/>\n",
       "<polyline fill=\"none\" stroke=\"black\" points=\"65.85,-856.72 65.85,-870.72\"/>\n",
       "<text text-anchor=\"start\" x=\"55.85\" y=\"-859.27\" font-family=\"Helvetica,sans-Serif\" font-size=\"11.00\" fill=\"#444443\">2 </text>\n",
       "<polygon fill=\"#fefecd\" stroke=\"none\" points=\"65.85,-856.72 65.85,-870.72 200.85,-870.72 200.85,-856.72 65.85,-856.72\"/>\n",
       "<text text-anchor=\"start\" x=\"73.35\" y=\"-859.27\" font-family=\"Helvetica,sans-Serif\" font-size=\"11.00\" fill=\"#444443\"> 0.029064461588859558</text>\n",
       "<polygon fill=\"#fefecd\" stroke=\"none\" points=\"36.85,-854.72 36.85,-856.72 200.85,-856.72 200.85,-854.72 36.85,-854.72\"/>\n",
       "<polygon fill=\"#fefecd\" stroke=\"none\" points=\"36.85,-840.72 36.85,-854.72 65.85,-854.72 65.85,-840.72 36.85,-840.72\"/>\n",
       "<polyline fill=\"none\" stroke=\"black\" points=\"65.85,-840.72 65.85,-854.72\"/>\n",
       "<text text-anchor=\"start\" x=\"55.85\" y=\"-843.27\" font-family=\"Helvetica,sans-Serif\" font-size=\"11.00\" fill=\"#444443\">3 </text>\n",
       "<polygon fill=\"#fefecd\" stroke=\"none\" points=\"65.85,-840.72 65.85,-854.72 200.85,-854.72 200.85,-840.72 65.85,-840.72\"/>\n",
       "<text text-anchor=\"start\" x=\"73.35\" y=\"-843.27\" font-family=\"Helvetica,sans-Serif\" font-size=\"11.00\" fill=\"#444443\"> 0.028614547103643417</text>\n",
       "<polygon fill=\"#fefecd\" stroke=\"none\" points=\"36.85,-838.72 36.85,-840.72 200.85,-840.72 200.85,-838.72 36.85,-838.72\"/>\n",
       "<polygon fill=\"#fefecd\" stroke=\"none\" points=\"36.85,-824.72 36.85,-838.72 65.85,-838.72 65.85,-824.72 36.85,-824.72\"/>\n",
       "<polyline fill=\"none\" stroke=\"black\" points=\"65.85,-824.72 65.85,-838.72\"/>\n",
       "<text text-anchor=\"start\" x=\"55.85\" y=\"-827.27\" font-family=\"Helvetica,sans-Serif\" font-size=\"11.00\" fill=\"#444443\">4 </text>\n",
       "<polygon fill=\"#fefecd\" stroke=\"none\" points=\"65.85,-824.72 65.85,-838.72 200.85,-838.72 200.85,-824.72 65.85,-824.72\"/>\n",
       "<text text-anchor=\"start\" x=\"74.47\" y=\"-827.27\" font-family=\"Helvetica,sans-Serif\" font-size=\"11.00\" fill=\"#444443\"> &#45;0.04161706939339638</text>\n",
       "<polygon fill=\"#fefecd\" stroke=\"none\" points=\"36.85,-822.72 36.85,-824.72 200.85,-824.72 200.85,-822.72 36.85,-822.72\"/>\n",
       "<polygon fill=\"#fefecd\" stroke=\"none\" points=\"36.85,-808.72 36.85,-822.72 65.85,-822.72 65.85,-808.72 36.85,-808.72\"/>\n",
       "<polyline fill=\"none\" stroke=\"black\" points=\"65.85,-808.72 65.85,-822.72\"/>\n",
       "<text text-anchor=\"start\" x=\"55.85\" y=\"-811.27\" font-family=\"Helvetica,sans-Serif\" font-size=\"11.00\" fill=\"#444443\">5 </text>\n",
       "<polygon fill=\"#fefecd\" stroke=\"none\" points=\"65.85,-808.72 65.85,-822.72 200.85,-822.72 200.85,-808.72 65.85,-808.72\"/>\n",
       "<text text-anchor=\"start\" x=\"74.47\" y=\"-811.27\" font-family=\"Helvetica,sans-Serif\" font-size=\"11.00\" fill=\"#444443\"> &#45;0.03657802939414978</text>\n",
       "<polygon fill=\"#fefecd\" stroke=\"none\" points=\"36.85,-806.72 36.85,-808.72 200.85,-808.72 200.85,-806.72 36.85,-806.72\"/>\n",
       "<polygon fill=\"#fefecd\" stroke=\"none\" points=\"36.85,-792.72 36.85,-806.72 65.85,-806.72 65.85,-792.72 36.85,-792.72\"/>\n",
       "<polyline fill=\"none\" stroke=\"black\" points=\"65.85,-792.72 65.85,-806.72\"/>\n",
       "<text text-anchor=\"start\" x=\"55.85\" y=\"-795.27\" font-family=\"Helvetica,sans-Serif\" font-size=\"11.00\" fill=\"#444443\">6 </text>\n",
       "<polygon fill=\"#fefecd\" stroke=\"none\" points=\"65.85,-792.72 65.85,-806.72 200.85,-806.72 200.85,-792.72 65.85,-792.72\"/>\n",
       "<text text-anchor=\"start\" x=\"76.35\" y=\"-795.27\" font-family=\"Helvetica,sans-Serif\" font-size=\"11.00\" fill=\"#444443\"> 0.00701866252347827</text>\n",
       "<polygon fill=\"#fefecd\" stroke=\"none\" points=\"36.85,-790.72 36.85,-792.72 200.85,-792.72 200.85,-790.72 36.85,-790.72\"/>\n",
       "<polygon fill=\"#fefecd\" stroke=\"none\" points=\"36.85,-776.72 36.85,-790.72 65.85,-790.72 65.85,-776.72 36.85,-776.72\"/>\n",
       "<polyline fill=\"none\" stroke=\"black\" points=\"65.85,-776.72 65.85,-790.72\"/>\n",
       "<text text-anchor=\"start\" x=\"55.85\" y=\"-779.27\" font-family=\"Helvetica,sans-Serif\" font-size=\"11.00\" fill=\"#444443\">7 </text>\n",
       "<polygon fill=\"#fefecd\" stroke=\"none\" points=\"65.85,-776.72 65.85,-790.72 200.85,-790.72 200.85,-776.72 65.85,-776.72\"/>\n",
       "<text text-anchor=\"start\" x=\"76.35\" y=\"-779.27\" font-family=\"Helvetica,sans-Serif\" font-size=\"11.00\" fill=\"#444443\"> 0.04715101420879364</text>\n",
       "<polygon fill=\"#fefecd\" stroke=\"none\" points=\"36.85,-774.72 36.85,-776.72 200.85,-776.72 200.85,-774.72 36.85,-774.72\"/>\n",
       "<polygon fill=\"#fefecd\" stroke=\"none\" points=\"36.85,-760.72 36.85,-774.72 65.85,-774.72 65.85,-760.72 36.85,-760.72\"/>\n",
       "<polyline fill=\"none\" stroke=\"black\" points=\"65.85,-760.72 65.85,-774.72\"/>\n",
       "<text text-anchor=\"start\" x=\"55.85\" y=\"-763.27\" font-family=\"Helvetica,sans-Serif\" font-size=\"11.00\" fill=\"#444443\">8 </text>\n",
       "<polygon fill=\"#fefecd\" stroke=\"none\" points=\"65.85,-760.72 65.85,-774.72 200.85,-774.72 200.85,-760.72 65.85,-760.72\"/>\n",
       "<text text-anchor=\"start\" x=\"67.72\" y=\"-763.27\" font-family=\"Helvetica,sans-Serif\" font-size=\"11.00\" fill=\"#444443\"> &#39;&#45;0.01945879124104976...&#39;</text>\n",
       "<polygon fill=\"#fefecd\" stroke=\"none\" points=\"36.85,-758.72 36.85,-760.72 200.85,-760.72 200.85,-758.72 36.85,-758.72\"/>\n",
       "<polygon fill=\"#fefecd\" stroke=\"none\" points=\"36.85,-744.72 36.85,-758.72 65.85,-758.72 65.85,-744.72 36.85,-744.72\"/>\n",
       "<polyline fill=\"none\" stroke=\"black\" points=\"65.85,-744.72 65.85,-758.72\"/>\n",
       "<text text-anchor=\"start\" x=\"52.85\" y=\"-747.27\" font-family=\"Helvetica,sans-Serif\" font-size=\"11.00\" fill=\"#444443\">... </text>\n",
       "<polygon fill=\"#fefecd\" stroke=\"none\" points=\"65.85,-744.72 65.85,-758.72 200.85,-758.72 200.85,-744.72 65.85,-744.72\"/>\n",
       "<text text-anchor=\"start\" x=\"127.35\" y=\"-747.27\" font-family=\"Helvetica,sans-Serif\" font-size=\"11.00\" fill=\"#444443\"> ...</text>\n",
       "<polygon fill=\"#fefecd\" stroke=\"none\" points=\"36.85,-742.72 36.85,-744.72 200.85,-744.72 200.85,-742.72 36.85,-742.72\"/>\n",
       "<polygon fill=\"#fefecd\" stroke=\"none\" points=\"36.85,-728.72 36.85,-742.72 65.85,-742.72 65.85,-728.72 36.85,-728.72\"/>\n",
       "<polyline fill=\"none\" stroke=\"black\" points=\"65.85,-728.72 65.85,-742.72\"/>\n",
       "<text text-anchor=\"start\" x=\"37.85\" y=\"-731.27\" font-family=\"Helvetica,sans-Serif\" font-size=\"11.00\" fill=\"#444443\">1535 </text>\n",
       "<polygon fill=\"#fefecd\" stroke=\"none\" points=\"65.85,-728.72 65.85,-742.72 200.85,-742.72 200.85,-728.72 65.85,-728.72\"/>\n",
       "<text text-anchor=\"start\" x=\"76.35\" y=\"-731.27\" font-family=\"Helvetica,sans-Serif\" font-size=\"11.00\" fill=\"#444443\"> 0.01716422848403454</text>\n",
       "</g>\n",
       "<!-- node6305225600&#45;&gt;node4546696704 -->\n",
       "<g id=\"edge3\" class=\"edge\">\n",
       "<title>node6305225600:2&#45;&gt;node4546696704:w</title>\n",
       "<path fill=\"none\" stroke=\"#444443\" stroke-width=\"0.5\" d=\"M13.69,-649.47C49.37,-649.47 3.16,-801.74 31.81,-814.83\"/>\n",
       "<polygon fill=\"#444443\" stroke=\"#444443\" stroke-width=\"0.5\" points=\"31.19,-816.13 35.39,-815.57 31.76,-813.39 31.19,-816.13\"/>\n",
       "</g>\n",
       "<!-- node4558448832 -->\n",
       "<g id=\"node5\" class=\"node\">\n",
       "<title>node4558448832</title>\n",
       "<polygon fill=\"none\" stroke=\"black\" stroke-width=\"0.5\" points=\"200.57,-721.44 37.13,-721.44 37.13,-546 200.57,-546 200.57,-721.44\"/>\n",
       "<polygon fill=\"#fefecd\" stroke=\"none\" points=\"37.85,-706.72 37.85,-720.72 66.85,-720.72 66.85,-706.72 37.85,-706.72\"/>\n",
       "<polyline fill=\"none\" stroke=\"black\" points=\"66.85,-706.72 66.85,-720.72\"/>\n",
       "<text text-anchor=\"start\" x=\"56.85\" y=\"-709.27\" font-family=\"Helvetica,sans-Serif\" font-size=\"11.00\" fill=\"#444443\">0 </text>\n",
       "<polygon fill=\"#fefecd\" stroke=\"none\" points=\"66.85,-706.72 66.85,-720.72 199.85,-720.72 199.85,-706.72 66.85,-706.72\"/>\n",
       "<text text-anchor=\"start\" x=\"73.35\" y=\"-709.27\" font-family=\"Helvetica,sans-Serif\" font-size=\"11.00\" fill=\"#444443\"> 0.016609303653240204</text>\n",
       "<polygon fill=\"#fefecd\" stroke=\"none\" points=\"37.85,-704.72 37.85,-706.72 199.85,-706.72 199.85,-704.72 37.85,-704.72\"/>\n",
       "<polygon fill=\"#fefecd\" stroke=\"none\" points=\"37.85,-690.72 37.85,-704.72 66.85,-704.72 66.85,-690.72 37.85,-690.72\"/>\n",
       "<polyline fill=\"none\" stroke=\"black\" points=\"66.85,-690.72 66.85,-704.72\"/>\n",
       "<text text-anchor=\"start\" x=\"56.85\" y=\"-693.27\" font-family=\"Helvetica,sans-Serif\" font-size=\"11.00\" fill=\"#444443\">1 </text>\n",
       "<polygon fill=\"#fefecd\" stroke=\"none\" points=\"66.85,-690.72 66.85,-704.72 199.85,-704.72 199.85,-690.72 66.85,-690.72\"/>\n",
       "<text text-anchor=\"start\" x=\"67.72\" y=\"-693.27\" font-family=\"Helvetica,sans-Serif\" font-size=\"11.00\" fill=\"#444443\"> &#39;&#45;0.01852576248347759...&#39;</text>\n",
       "<polygon fill=\"#fefecd\" stroke=\"none\" points=\"37.85,-688.72 37.85,-690.72 199.85,-690.72 199.85,-688.72 37.85,-688.72\"/>\n",
       "<polygon fill=\"#fefecd\" stroke=\"none\" points=\"37.85,-674.72 37.85,-688.72 66.85,-688.72 66.85,-674.72 37.85,-674.72\"/>\n",
       "<polyline fill=\"none\" stroke=\"black\" points=\"66.85,-674.72 66.85,-688.72\"/>\n",
       "<text text-anchor=\"start\" x=\"56.85\" y=\"-677.27\" font-family=\"Helvetica,sans-Serif\" font-size=\"11.00\" fill=\"#444443\">2 </text>\n",
       "<polygon fill=\"#fefecd\" stroke=\"none\" points=\"66.85,-674.72 66.85,-688.72 199.85,-688.72 199.85,-674.72 66.85,-674.72\"/>\n",
       "<text text-anchor=\"start\" x=\"67.72\" y=\"-677.27\" font-family=\"Helvetica,sans-Serif\" font-size=\"11.00\" fill=\"#444443\"> &#39;&#45;0.00049907760694622...&#39;</text>\n",
       "<polygon fill=\"#fefecd\" stroke=\"none\" points=\"37.85,-672.72 37.85,-674.72 199.85,-674.72 199.85,-672.72 37.85,-672.72\"/>\n",
       "<polygon fill=\"#fefecd\" stroke=\"none\" points=\"37.85,-658.72 37.85,-672.72 66.85,-672.72 66.85,-658.72 37.85,-658.72\"/>\n",
       "<polyline fill=\"none\" stroke=\"black\" points=\"66.85,-658.72 66.85,-672.72\"/>\n",
       "<text text-anchor=\"start\" x=\"56.85\" y=\"-661.27\" font-family=\"Helvetica,sans-Serif\" font-size=\"11.00\" fill=\"#444443\">3 </text>\n",
       "<polygon fill=\"#fefecd\" stroke=\"none\" points=\"66.85,-658.72 66.85,-672.72 199.85,-672.72 199.85,-658.72 66.85,-658.72\"/>\n",
       "<text text-anchor=\"start\" x=\"67.72\" y=\"-661.27\" font-family=\"Helvetica,sans-Serif\" font-size=\"11.00\" fill=\"#444443\"> &#39;&#45;0.01303664688020944...&#39;</text>\n",
       "<polygon fill=\"#fefecd\" stroke=\"none\" points=\"37.85,-656.72 37.85,-658.72 199.85,-658.72 199.85,-656.72 37.85,-656.72\"/>\n",
       "<polygon fill=\"#fefecd\" stroke=\"none\" points=\"37.85,-642.72 37.85,-656.72 66.85,-656.72 66.85,-642.72 37.85,-642.72\"/>\n",
       "<polyline fill=\"none\" stroke=\"black\" points=\"66.85,-642.72 66.85,-656.72\"/>\n",
       "<text text-anchor=\"start\" x=\"56.85\" y=\"-645.27\" font-family=\"Helvetica,sans-Serif\" font-size=\"11.00\" fill=\"#444443\">4 </text>\n",
       "<polygon fill=\"#fefecd\" stroke=\"none\" points=\"66.85,-642.72 66.85,-656.72 199.85,-656.72 199.85,-642.72 66.85,-642.72\"/>\n",
       "<text text-anchor=\"start\" x=\"76.35\" y=\"-645.27\" font-family=\"Helvetica,sans-Serif\" font-size=\"11.00\" fill=\"#444443\"> 0.01656198315322399</text>\n",
       "<polygon fill=\"#fefecd\" stroke=\"none\" points=\"37.85,-640.72 37.85,-642.72 199.85,-642.72 199.85,-640.72 37.85,-640.72\"/>\n",
       "<polygon fill=\"#fefecd\" stroke=\"none\" points=\"37.85,-626.72 37.85,-640.72 66.85,-640.72 66.85,-626.72 37.85,-626.72\"/>\n",
       "<polyline fill=\"none\" stroke=\"black\" points=\"66.85,-626.72 66.85,-640.72\"/>\n",
       "<text text-anchor=\"start\" x=\"56.85\" y=\"-629.27\" font-family=\"Helvetica,sans-Serif\" font-size=\"11.00\" fill=\"#444443\">5 </text>\n",
       "<polygon fill=\"#fefecd\" stroke=\"none\" points=\"66.85,-626.72 66.85,-640.72 199.85,-640.72 199.85,-626.72 66.85,-626.72\"/>\n",
       "<text text-anchor=\"start\" x=\"73.35\" y=\"-629.27\" font-family=\"Helvetica,sans-Serif\" font-size=\"11.00\" fill=\"#444443\"> 0.012048843316733837</text>\n",
       "<polygon fill=\"#fefecd\" stroke=\"none\" points=\"37.85,-624.72 37.85,-626.72 199.85,-626.72 199.85,-624.72 37.85,-624.72\"/>\n",
       "<polygon fill=\"#fefecd\" stroke=\"none\" points=\"37.85,-610.72 37.85,-624.72 66.85,-624.72 66.85,-610.72 37.85,-610.72\"/>\n",
       "<polyline fill=\"none\" stroke=\"black\" points=\"66.85,-610.72 66.85,-624.72\"/>\n",
       "<text text-anchor=\"start\" x=\"56.85\" y=\"-613.27\" font-family=\"Helvetica,sans-Serif\" font-size=\"11.00\" fill=\"#444443\">6 </text>\n",
       "<polygon fill=\"#fefecd\" stroke=\"none\" points=\"66.85,-610.72 66.85,-624.72 199.85,-624.72 199.85,-610.72 66.85,-610.72\"/>\n",
       "<text text-anchor=\"start\" x=\"73.35\" y=\"-613.27\" font-family=\"Helvetica,sans-Serif\" font-size=\"11.00\" fill=\"#444443\"> 0.030142810195684433</text>\n",
       "<polygon fill=\"#fefecd\" stroke=\"none\" points=\"37.85,-608.72 37.85,-610.72 199.85,-610.72 199.85,-608.72 37.85,-608.72\"/>\n",
       "<polygon fill=\"#fefecd\" stroke=\"none\" points=\"37.85,-594.72 37.85,-608.72 66.85,-608.72 66.85,-594.72 37.85,-594.72\"/>\n",
       "<polyline fill=\"none\" stroke=\"black\" points=\"66.85,-594.72 66.85,-608.72\"/>\n",
       "<text text-anchor=\"start\" x=\"56.85\" y=\"-597.27\" font-family=\"Helvetica,sans-Serif\" font-size=\"11.00\" fill=\"#444443\">7 </text>\n",
       "<polygon fill=\"#fefecd\" stroke=\"none\" points=\"66.85,-594.72 66.85,-608.72 199.85,-608.72 199.85,-594.72 66.85,-594.72\"/>\n",
       "<text text-anchor=\"start\" x=\"67.72\" y=\"-597.27\" font-family=\"Helvetica,sans-Serif\" font-size=\"11.00\" fill=\"#444443\"> &#39;&#45;0.00562515947967767...&#39;</text>\n",
       "<polygon fill=\"#fefecd\" stroke=\"none\" points=\"37.85,-592.72 37.85,-594.72 199.85,-594.72 199.85,-592.72 37.85,-592.72\"/>\n",
       "<polygon fill=\"#fefecd\" stroke=\"none\" points=\"37.85,-578.72 37.85,-592.72 66.85,-592.72 66.85,-578.72 37.85,-578.72\"/>\n",
       "<polyline fill=\"none\" stroke=\"black\" points=\"66.85,-578.72 66.85,-592.72\"/>\n",
       "<text text-anchor=\"start\" x=\"56.85\" y=\"-581.27\" font-family=\"Helvetica,sans-Serif\" font-size=\"11.00\" fill=\"#444443\">8 </text>\n",
       "<polygon fill=\"#fefecd\" stroke=\"none\" points=\"66.85,-578.72 66.85,-592.72 199.85,-592.72 199.85,-578.72 66.85,-578.72\"/>\n",
       "<text text-anchor=\"start\" x=\"67.72\" y=\"-581.27\" font-family=\"Helvetica,sans-Serif\" font-size=\"11.00\" fill=\"#444443\"> &#39;&#45;0.01328507717698812...&#39;</text>\n",
       "<polygon fill=\"#fefecd\" stroke=\"none\" points=\"37.85,-576.72 37.85,-578.72 199.85,-578.72 199.85,-576.72 37.85,-576.72\"/>\n",
       "<polygon fill=\"#fefecd\" stroke=\"none\" points=\"37.85,-562.72 37.85,-576.72 66.85,-576.72 66.85,-562.72 37.85,-562.72\"/>\n",
       "<polyline fill=\"none\" stroke=\"black\" points=\"66.85,-562.72 66.85,-576.72\"/>\n",
       "<text text-anchor=\"start\" x=\"53.85\" y=\"-565.27\" font-family=\"Helvetica,sans-Serif\" font-size=\"11.00\" fill=\"#444443\">... </text>\n",
       "<polygon fill=\"#fefecd\" stroke=\"none\" points=\"66.85,-562.72 66.85,-576.72 199.85,-576.72 199.85,-562.72 66.85,-562.72\"/>\n",
       "<text text-anchor=\"start\" x=\"127.35\" y=\"-565.27\" font-family=\"Helvetica,sans-Serif\" font-size=\"11.00\" fill=\"#444443\"> ...</text>\n",
       "<polygon fill=\"#fefecd\" stroke=\"none\" points=\"37.85,-560.72 37.85,-562.72 199.85,-562.72 199.85,-560.72 37.85,-560.72\"/>\n",
       "<polygon fill=\"#fefecd\" stroke=\"none\" points=\"37.85,-546.72 37.85,-560.72 66.85,-560.72 66.85,-546.72 37.85,-546.72\"/>\n",
       "<polyline fill=\"none\" stroke=\"black\" points=\"66.85,-546.72 66.85,-560.72\"/>\n",
       "<text text-anchor=\"start\" x=\"38.85\" y=\"-549.27\" font-family=\"Helvetica,sans-Serif\" font-size=\"11.00\" fill=\"#444443\">1535 </text>\n",
       "<polygon fill=\"#fefecd\" stroke=\"none\" points=\"66.85,-546.72 66.85,-560.72 199.85,-560.72 199.85,-546.72 66.85,-546.72\"/>\n",
       "<text text-anchor=\"start\" x=\"73.35\" y=\"-549.27\" font-family=\"Helvetica,sans-Serif\" font-size=\"11.00\" fill=\"#444443\"> 0.016964202746748924</text>\n",
       "</g>\n",
       "<!-- node6305225600&#45;&gt;node4558448832 -->\n",
       "<g id=\"edge4\" class=\"edge\">\n",
       "<title>node6305225600:3&#45;&gt;node4558448832:w</title>\n",
       "<path fill=\"none\" stroke=\"#444443\" stroke-width=\"0.5\" d=\"M13.69,-633.72C21.95,-633.72 25.08,-633.72 31.57,-633.72\"/>\n",
       "<polygon fill=\"#444443\" stroke=\"#444443\" stroke-width=\"0.5\" points=\"31.37,-635.12 35.37,-633.72 31.37,-632.32 31.37,-635.12\"/>\n",
       "</g>\n",
       "<!-- node4558448704 -->\n",
       "<g id=\"node6\" class=\"node\">\n",
       "<title>node4558448704</title>\n",
       "<polygon fill=\"none\" stroke=\"black\" stroke-width=\"0.5\" points=\"200.57,-539.44 37.13,-539.44 37.13,-364 200.57,-364 200.57,-539.44\"/>\n",
       "<polygon fill=\"#fefecd\" stroke=\"none\" points=\"37.85,-524.72 37.85,-538.72 66.85,-538.72 66.85,-524.72 37.85,-524.72\"/>\n",
       "<polyline fill=\"none\" stroke=\"black\" points=\"66.85,-524.72 66.85,-538.72\"/>\n",
       "<text text-anchor=\"start\" x=\"56.85\" y=\"-527.27\" font-family=\"Helvetica,sans-Serif\" font-size=\"11.00\" fill=\"#444443\">0 </text>\n",
       "<polygon fill=\"#fefecd\" stroke=\"none\" points=\"66.85,-524.72 66.85,-538.72 199.85,-538.72 199.85,-524.72 66.85,-524.72\"/>\n",
       "<text text-anchor=\"start\" x=\"74.47\" y=\"-527.27\" font-family=\"Helvetica,sans-Serif\" font-size=\"11.00\" fill=\"#444443\"> &#45;0.03271620348095894</text>\n",
       "<polygon fill=\"#fefecd\" stroke=\"none\" points=\"37.85,-522.72 37.85,-524.72 199.85,-524.72 199.85,-522.72 37.85,-522.72\"/>\n",
       "<polygon fill=\"#fefecd\" stroke=\"none\" points=\"37.85,-508.72 37.85,-522.72 66.85,-522.72 66.85,-508.72 37.85,-508.72\"/>\n",
       "<polyline fill=\"none\" stroke=\"black\" points=\"66.85,-508.72 66.85,-522.72\"/>\n",
       "<text text-anchor=\"start\" x=\"56.85\" y=\"-511.27\" font-family=\"Helvetica,sans-Serif\" font-size=\"11.00\" fill=\"#444443\">1 </text>\n",
       "<polygon fill=\"#fefecd\" stroke=\"none\" points=\"66.85,-508.72 66.85,-522.72 199.85,-522.72 199.85,-508.72 66.85,-508.72\"/>\n",
       "<text text-anchor=\"start\" x=\"67.72\" y=\"-511.27\" font-family=\"Helvetica,sans-Serif\" font-size=\"11.00\" fill=\"#444443\"> &#39;&#45;0.02846606262028217...&#39;</text>\n",
       "<polygon fill=\"#fefecd\" stroke=\"none\" points=\"37.85,-506.72 37.85,-508.72 199.85,-508.72 199.85,-506.72 37.85,-506.72\"/>\n",
       "<polygon fill=\"#fefecd\" stroke=\"none\" points=\"37.85,-492.72 37.85,-506.72 66.85,-506.72 66.85,-492.72 37.85,-492.72\"/>\n",
       "<polyline fill=\"none\" stroke=\"black\" points=\"66.85,-492.72 66.85,-506.72\"/>\n",
       "<text text-anchor=\"start\" x=\"56.85\" y=\"-495.27\" font-family=\"Helvetica,sans-Serif\" font-size=\"11.00\" fill=\"#444443\">2 </text>\n",
       "<polygon fill=\"#fefecd\" stroke=\"none\" points=\"66.85,-492.72 66.85,-506.72 199.85,-506.72 199.85,-492.72 66.85,-492.72\"/>\n",
       "<text text-anchor=\"start\" x=\"67.72\" y=\"-495.27\" font-family=\"Helvetica,sans-Serif\" font-size=\"11.00\" fill=\"#444443\"> &#39;&#45;0.03041816316545009...&#39;</text>\n",
       "<polygon fill=\"#fefecd\" stroke=\"none\" points=\"37.85,-490.72 37.85,-492.72 199.85,-492.72 199.85,-490.72 37.85,-490.72\"/>\n",
       "<polygon fill=\"#fefecd\" stroke=\"none\" points=\"37.85,-476.72 37.85,-490.72 66.85,-490.72 66.85,-476.72 37.85,-476.72\"/>\n",
       "<polyline fill=\"none\" stroke=\"black\" points=\"66.85,-476.72 66.85,-490.72\"/>\n",
       "<text text-anchor=\"start\" x=\"56.85\" y=\"-479.27\" font-family=\"Helvetica,sans-Serif\" font-size=\"11.00\" fill=\"#444443\">3 </text>\n",
       "<polygon fill=\"#fefecd\" stroke=\"none\" points=\"66.85,-476.72 66.85,-490.72 199.85,-490.72 199.85,-476.72 66.85,-476.72\"/>\n",
       "<text text-anchor=\"start\" x=\"67.72\" y=\"-479.27\" font-family=\"Helvetica,sans-Serif\" font-size=\"11.00\" fill=\"#444443\"> &#39;&#45;0.00236599449999630...&#39;</text>\n",
       "<polygon fill=\"#fefecd\" stroke=\"none\" points=\"37.85,-474.72 37.85,-476.72 199.85,-476.72 199.85,-474.72 37.85,-474.72\"/>\n",
       "<polygon fill=\"#fefecd\" stroke=\"none\" points=\"37.85,-460.72 37.85,-474.72 66.85,-474.72 66.85,-460.72 37.85,-460.72\"/>\n",
       "<polyline fill=\"none\" stroke=\"black\" points=\"66.85,-460.72 66.85,-474.72\"/>\n",
       "<text text-anchor=\"start\" x=\"56.85\" y=\"-463.27\" font-family=\"Helvetica,sans-Serif\" font-size=\"11.00\" fill=\"#444443\">4 </text>\n",
       "<polygon fill=\"#fefecd\" stroke=\"none\" points=\"66.85,-460.72 66.85,-474.72 199.85,-474.72 199.85,-460.72 66.85,-460.72\"/>\n",
       "<text text-anchor=\"start\" x=\"73.72\" y=\"-463.27\" font-family=\"Helvetica,sans-Serif\" font-size=\"11.00\" fill=\"#444443\"> 0.037411127239465714</text>\n",
       "<polygon fill=\"#fefecd\" stroke=\"none\" points=\"37.85,-458.72 37.85,-460.72 199.85,-460.72 199.85,-458.72 37.85,-458.72\"/>\n",
       "<polygon fill=\"#fefecd\" stroke=\"none\" points=\"37.85,-444.72 37.85,-458.72 66.85,-458.72 66.85,-444.72 37.85,-444.72\"/>\n",
       "<polyline fill=\"none\" stroke=\"black\" points=\"66.85,-444.72 66.85,-458.72\"/>\n",
       "<text text-anchor=\"start\" x=\"56.85\" y=\"-447.27\" font-family=\"Helvetica,sans-Serif\" font-size=\"11.00\" fill=\"#444443\">5 </text>\n",
       "<polygon fill=\"#fefecd\" stroke=\"none\" points=\"66.85,-444.72 66.85,-458.72 199.85,-458.72 199.85,-444.72 66.85,-444.72\"/>\n",
       "<text text-anchor=\"start\" x=\"67.72\" y=\"-447.27\" font-family=\"Helvetica,sans-Serif\" font-size=\"11.00\" fill=\"#444443\"> &#39;&#45;0.01585154421627521...&#39;</text>\n",
       "<polygon fill=\"#fefecd\" stroke=\"none\" points=\"37.85,-442.72 37.85,-444.72 199.85,-444.72 199.85,-442.72 37.85,-442.72\"/>\n",
       "<polygon fill=\"#fefecd\" stroke=\"none\" points=\"37.85,-428.72 37.85,-442.72 66.85,-442.72 66.85,-428.72 37.85,-428.72\"/>\n",
       "<polyline fill=\"none\" stroke=\"black\" points=\"66.85,-428.72 66.85,-442.72\"/>\n",
       "<text text-anchor=\"start\" x=\"56.85\" y=\"-431.27\" font-family=\"Helvetica,sans-Serif\" font-size=\"11.00\" fill=\"#444443\">6 </text>\n",
       "<polygon fill=\"#fefecd\" stroke=\"none\" points=\"66.85,-428.72 66.85,-442.72 199.85,-442.72 199.85,-428.72 66.85,-428.72\"/>\n",
       "<text text-anchor=\"start\" x=\"67.72\" y=\"-431.27\" font-family=\"Helvetica,sans-Serif\" font-size=\"11.00\" fill=\"#444443\"> &#39;&#45;0.00704238517209887...&#39;</text>\n",
       "<polygon fill=\"#fefecd\" stroke=\"none\" points=\"37.85,-426.72 37.85,-428.72 199.85,-428.72 199.85,-426.72 37.85,-426.72\"/>\n",
       "<polygon fill=\"#fefecd\" stroke=\"none\" points=\"37.85,-412.72 37.85,-426.72 66.85,-426.72 66.85,-412.72 37.85,-412.72\"/>\n",
       "<polyline fill=\"none\" stroke=\"black\" points=\"66.85,-412.72 66.85,-426.72\"/>\n",
       "<text text-anchor=\"start\" x=\"56.85\" y=\"-415.27\" font-family=\"Helvetica,sans-Serif\" font-size=\"11.00\" fill=\"#444443\">7 </text>\n",
       "<polygon fill=\"#fefecd\" stroke=\"none\" points=\"66.85,-412.72 66.85,-426.72 199.85,-426.72 199.85,-412.72 66.85,-412.72\"/>\n",
       "<text text-anchor=\"start\" x=\"76.35\" y=\"-415.27\" font-family=\"Helvetica,sans-Serif\" font-size=\"11.00\" fill=\"#444443\"> 0.03370460867881775</text>\n",
       "<polygon fill=\"#fefecd\" stroke=\"none\" points=\"37.85,-410.72 37.85,-412.72 199.85,-412.72 199.85,-410.72 37.85,-410.72\"/>\n",
       "<polygon fill=\"#fefecd\" stroke=\"none\" points=\"37.85,-396.72 37.85,-410.72 66.85,-410.72 66.85,-396.72 37.85,-396.72\"/>\n",
       "<polyline fill=\"none\" stroke=\"black\" points=\"66.85,-396.72 66.85,-410.72\"/>\n",
       "<text text-anchor=\"start\" x=\"56.85\" y=\"-399.27\" font-family=\"Helvetica,sans-Serif\" font-size=\"11.00\" fill=\"#444443\">8 </text>\n",
       "<polygon fill=\"#fefecd\" stroke=\"none\" points=\"66.85,-396.72 66.85,-410.72 199.85,-410.72 199.85,-396.72 66.85,-396.72\"/>\n",
       "<text text-anchor=\"start\" x=\"76.35\" y=\"-399.27\" font-family=\"Helvetica,sans-Serif\" font-size=\"11.00\" fill=\"#444443\"> 0.02947917766869068</text>\n",
       "<polygon fill=\"#fefecd\" stroke=\"none\" points=\"37.85,-394.72 37.85,-396.72 199.85,-396.72 199.85,-394.72 37.85,-394.72\"/>\n",
       "<polygon fill=\"#fefecd\" stroke=\"none\" points=\"37.85,-380.72 37.85,-394.72 66.85,-394.72 66.85,-380.72 37.85,-380.72\"/>\n",
       "<polyline fill=\"none\" stroke=\"black\" points=\"66.85,-380.72 66.85,-394.72\"/>\n",
       "<text text-anchor=\"start\" x=\"53.85\" y=\"-383.27\" font-family=\"Helvetica,sans-Serif\" font-size=\"11.00\" fill=\"#444443\">... </text>\n",
       "<polygon fill=\"#fefecd\" stroke=\"none\" points=\"66.85,-380.72 66.85,-394.72 199.85,-394.72 199.85,-380.72 66.85,-380.72\"/>\n",
       "<text text-anchor=\"start\" x=\"127.35\" y=\"-383.27\" font-family=\"Helvetica,sans-Serif\" font-size=\"11.00\" fill=\"#444443\"> ...</text>\n",
       "<polygon fill=\"#fefecd\" stroke=\"none\" points=\"37.85,-378.72 37.85,-380.72 199.85,-380.72 199.85,-378.72 37.85,-378.72\"/>\n",
       "<polygon fill=\"#fefecd\" stroke=\"none\" points=\"37.85,-364.72 37.85,-378.72 66.85,-378.72 66.85,-364.72 37.85,-364.72\"/>\n",
       "<polyline fill=\"none\" stroke=\"black\" points=\"66.85,-364.72 66.85,-378.72\"/>\n",
       "<text text-anchor=\"start\" x=\"38.85\" y=\"-367.27\" font-family=\"Helvetica,sans-Serif\" font-size=\"11.00\" fill=\"#444443\">1535 </text>\n",
       "<polygon fill=\"#fefecd\" stroke=\"none\" points=\"66.85,-364.72 66.85,-378.72 199.85,-378.72 199.85,-364.72 66.85,-364.72\"/>\n",
       "<text text-anchor=\"start\" x=\"73.35\" y=\"-367.27\" font-family=\"Helvetica,sans-Serif\" font-size=\"11.00\" fill=\"#444443\"> 0.011879391968250275</text>\n",
       "</g>\n",
       "<!-- node6305225600&#45;&gt;node4558448704 -->\n",
       "<g id=\"edge5\" class=\"edge\">\n",
       "<title>node6305225600:4&#45;&gt;node4558448704:w</title>\n",
       "<path fill=\"none\" stroke=\"#444443\" stroke-width=\"0.5\" d=\"M13.69,-617.97C49.37,-617.97 3.16,-465.7 31.81,-452.61\"/>\n",
       "<polygon fill=\"#444443\" stroke=\"#444443\" stroke-width=\"0.5\" points=\"31.76,-454.05 35.39,-451.87 31.19,-451.31 31.76,-454.05\"/>\n",
       "</g>\n",
       "<!-- node4558140736 -->\n",
       "<g id=\"node7\" class=\"node\">\n",
       "<title>node4558140736</title>\n",
       "<polygon fill=\"none\" stroke=\"black\" stroke-width=\"0.5\" points=\"200.57,-357.44 37.13,-357.44 37.13,-182 200.57,-182 200.57,-357.44\"/>\n",
       "<polygon fill=\"#fefecd\" stroke=\"none\" points=\"37.85,-342.72 37.85,-356.72 66.85,-356.72 66.85,-342.72 37.85,-342.72\"/>\n",
       "<polyline fill=\"none\" stroke=\"black\" points=\"66.85,-342.72 66.85,-356.72\"/>\n",
       "<text text-anchor=\"start\" x=\"56.85\" y=\"-345.27\" font-family=\"Helvetica,sans-Serif\" font-size=\"11.00\" fill=\"#444443\">0 </text>\n",
       "<polygon fill=\"#fefecd\" stroke=\"none\" points=\"66.85,-342.72 66.85,-356.72 199.85,-356.72 199.85,-342.72 66.85,-342.72\"/>\n",
       "<text text-anchor=\"start\" x=\"73.35\" y=\"-345.27\" font-family=\"Helvetica,sans-Serif\" font-size=\"11.00\" fill=\"#444443\"> 0.019137799739837646</text>\n",
       "<polygon fill=\"#fefecd\" stroke=\"none\" points=\"37.85,-340.72 37.85,-342.72 199.85,-342.72 199.85,-340.72 37.85,-340.72\"/>\n",
       "<polygon fill=\"#fefecd\" stroke=\"none\" points=\"37.85,-326.72 37.85,-340.72 66.85,-340.72 66.85,-326.72 37.85,-326.72\"/>\n",
       "<polyline fill=\"none\" stroke=\"black\" points=\"66.85,-326.72 66.85,-340.72\"/>\n",
       "<text text-anchor=\"start\" x=\"56.85\" y=\"-329.27\" font-family=\"Helvetica,sans-Serif\" font-size=\"11.00\" fill=\"#444443\">1 </text>\n",
       "<polygon fill=\"#fefecd\" stroke=\"none\" points=\"66.85,-326.72 66.85,-340.72 199.85,-340.72 199.85,-326.72 66.85,-326.72\"/>\n",
       "<text text-anchor=\"start\" x=\"73.35\" y=\"-329.27\" font-family=\"Helvetica,sans-Serif\" font-size=\"11.00\" fill=\"#444443\"> 0.010499123483896255</text>\n",
       "<polygon fill=\"#fefecd\" stroke=\"none\" points=\"37.85,-324.72 37.85,-326.72 199.85,-326.72 199.85,-324.72 37.85,-324.72\"/>\n",
       "<polygon fill=\"#fefecd\" stroke=\"none\" points=\"37.85,-310.72 37.85,-324.72 66.85,-324.72 66.85,-310.72 37.85,-310.72\"/>\n",
       "<polyline fill=\"none\" stroke=\"black\" points=\"66.85,-310.72 66.85,-324.72\"/>\n",
       "<text text-anchor=\"start\" x=\"56.85\" y=\"-313.27\" font-family=\"Helvetica,sans-Serif\" font-size=\"11.00\" fill=\"#444443\">2 </text>\n",
       "<polygon fill=\"#fefecd\" stroke=\"none\" points=\"66.85,-310.72 66.85,-324.72 199.85,-324.72 199.85,-310.72 66.85,-310.72\"/>\n",
       "<text text-anchor=\"start\" x=\"67.72\" y=\"-313.27\" font-family=\"Helvetica,sans-Serif\" font-size=\"11.00\" fill=\"#444443\"> &#39;&#45;0.00246044131927192...&#39;</text>\n",
       "<polygon fill=\"#fefecd\" stroke=\"none\" points=\"37.85,-308.72 37.85,-310.72 199.85,-310.72 199.85,-308.72 37.85,-308.72\"/>\n",
       "<polygon fill=\"#fefecd\" stroke=\"none\" points=\"37.85,-294.72 37.85,-308.72 66.85,-308.72 66.85,-294.72 37.85,-294.72\"/>\n",
       "<polyline fill=\"none\" stroke=\"black\" points=\"66.85,-294.72 66.85,-308.72\"/>\n",
       "<text text-anchor=\"start\" x=\"56.85\" y=\"-297.27\" font-family=\"Helvetica,sans-Serif\" font-size=\"11.00\" fill=\"#444443\">3 </text>\n",
       "<polygon fill=\"#fefecd\" stroke=\"none\" points=\"66.85,-294.72 66.85,-308.72 199.85,-308.72 199.85,-294.72 66.85,-294.72\"/>\n",
       "<text text-anchor=\"start\" x=\"76.35\" y=\"-297.27\" font-family=\"Helvetica,sans-Serif\" font-size=\"11.00\" fill=\"#444443\"> 0.01728975586593151</text>\n",
       "<polygon fill=\"#fefecd\" stroke=\"none\" points=\"37.85,-292.72 37.85,-294.72 199.85,-294.72 199.85,-292.72 37.85,-292.72\"/>\n",
       "<polygon fill=\"#fefecd\" stroke=\"none\" points=\"37.85,-278.72 37.85,-292.72 66.85,-292.72 66.85,-278.72 37.85,-278.72\"/>\n",
       "<polyline fill=\"none\" stroke=\"black\" points=\"66.85,-278.72 66.85,-292.72\"/>\n",
       "<text text-anchor=\"start\" x=\"56.85\" y=\"-281.27\" font-family=\"Helvetica,sans-Serif\" font-size=\"11.00\" fill=\"#444443\">4 </text>\n",
       "<polygon fill=\"#fefecd\" stroke=\"none\" points=\"66.85,-278.72 66.85,-292.72 199.85,-292.72 199.85,-278.72 66.85,-278.72\"/>\n",
       "<text text-anchor=\"start\" x=\"73.35\" y=\"-281.27\" font-family=\"Helvetica,sans-Serif\" font-size=\"11.00\" fill=\"#444443\"> 0.044849175959825516</text>\n",
       "<polygon fill=\"#fefecd\" stroke=\"none\" points=\"37.85,-276.72 37.85,-278.72 199.85,-278.72 199.85,-276.72 37.85,-276.72\"/>\n",
       "<polygon fill=\"#fefecd\" stroke=\"none\" points=\"37.85,-262.72 37.85,-276.72 66.85,-276.72 66.85,-262.72 37.85,-262.72\"/>\n",
       "<polyline fill=\"none\" stroke=\"black\" points=\"66.85,-262.72 66.85,-276.72\"/>\n",
       "<text text-anchor=\"start\" x=\"56.85\" y=\"-265.27\" font-family=\"Helvetica,sans-Serif\" font-size=\"11.00\" fill=\"#444443\">5 </text>\n",
       "<polygon fill=\"#fefecd\" stroke=\"none\" points=\"66.85,-262.72 66.85,-276.72 199.85,-276.72 199.85,-262.72 66.85,-262.72\"/>\n",
       "<text text-anchor=\"start\" x=\"73.35\" y=\"-265.27\" font-family=\"Helvetica,sans-Serif\" font-size=\"11.00\" fill=\"#444443\"> 0.014895979315042496</text>\n",
       "<polygon fill=\"#fefecd\" stroke=\"none\" points=\"37.85,-260.72 37.85,-262.72 199.85,-262.72 199.85,-260.72 37.85,-260.72\"/>\n",
       "<polygon fill=\"#fefecd\" stroke=\"none\" points=\"37.85,-246.72 37.85,-260.72 66.85,-260.72 66.85,-246.72 37.85,-246.72\"/>\n",
       "<polyline fill=\"none\" stroke=\"black\" points=\"66.85,-246.72 66.85,-260.72\"/>\n",
       "<text text-anchor=\"start\" x=\"56.85\" y=\"-249.27\" font-family=\"Helvetica,sans-Serif\" font-size=\"11.00\" fill=\"#444443\">6 </text>\n",
       "<polygon fill=\"#fefecd\" stroke=\"none\" points=\"66.85,-246.72 66.85,-260.72 199.85,-260.72 199.85,-246.72 66.85,-246.72\"/>\n",
       "<text text-anchor=\"start\" x=\"74.47\" y=\"-249.27\" font-family=\"Helvetica,sans-Serif\" font-size=\"11.00\" fill=\"#444443\"> &#45;0.00397825613617897</text>\n",
       "<polygon fill=\"#fefecd\" stroke=\"none\" points=\"37.85,-244.72 37.85,-246.72 199.85,-246.72 199.85,-244.72 37.85,-244.72\"/>\n",
       "<polygon fill=\"#fefecd\" stroke=\"none\" points=\"37.85,-230.72 37.85,-244.72 66.85,-244.72 66.85,-230.72 37.85,-230.72\"/>\n",
       "<polyline fill=\"none\" stroke=\"black\" points=\"66.85,-230.72 66.85,-244.72\"/>\n",
       "<text text-anchor=\"start\" x=\"56.85\" y=\"-233.27\" font-family=\"Helvetica,sans-Serif\" font-size=\"11.00\" fill=\"#444443\">7 </text>\n",
       "<polygon fill=\"#fefecd\" stroke=\"none\" points=\"66.85,-230.72 66.85,-244.72 199.85,-244.72 199.85,-230.72 66.85,-230.72\"/>\n",
       "<text text-anchor=\"start\" x=\"67.72\" y=\"-233.27\" font-family=\"Helvetica,sans-Serif\" font-size=\"11.00\" fill=\"#444443\"> &#39;&#45;0.00688365427777171...&#39;</text>\n",
       "<polygon fill=\"#fefecd\" stroke=\"none\" points=\"37.85,-228.72 37.85,-230.72 199.85,-230.72 199.85,-228.72 37.85,-228.72\"/>\n",
       "<polygon fill=\"#fefecd\" stroke=\"none\" points=\"37.85,-214.72 37.85,-228.72 66.85,-228.72 66.85,-214.72 37.85,-214.72\"/>\n",
       "<polyline fill=\"none\" stroke=\"black\" points=\"66.85,-214.72 66.85,-228.72\"/>\n",
       "<text text-anchor=\"start\" x=\"56.85\" y=\"-217.27\" font-family=\"Helvetica,sans-Serif\" font-size=\"11.00\" fill=\"#444443\">8 </text>\n",
       "<polygon fill=\"#fefecd\" stroke=\"none\" points=\"66.85,-214.72 66.85,-228.72 199.85,-228.72 199.85,-214.72 66.85,-214.72\"/>\n",
       "<text text-anchor=\"start\" x=\"67.72\" y=\"-217.27\" font-family=\"Helvetica,sans-Serif\" font-size=\"11.00\" fill=\"#444443\"> &#39;&#45;0.01273786090314388...&#39;</text>\n",
       "<polygon fill=\"#fefecd\" stroke=\"none\" points=\"37.85,-212.72 37.85,-214.72 199.85,-214.72 199.85,-212.72 37.85,-212.72\"/>\n",
       "<polygon fill=\"#fefecd\" stroke=\"none\" points=\"37.85,-198.72 37.85,-212.72 66.85,-212.72 66.85,-198.72 37.85,-198.72\"/>\n",
       "<polyline fill=\"none\" stroke=\"black\" points=\"66.85,-198.72 66.85,-212.72\"/>\n",
       "<text text-anchor=\"start\" x=\"53.85\" y=\"-201.27\" font-family=\"Helvetica,sans-Serif\" font-size=\"11.00\" fill=\"#444443\">... </text>\n",
       "<polygon fill=\"#fefecd\" stroke=\"none\" points=\"66.85,-198.72 66.85,-212.72 199.85,-212.72 199.85,-198.72 66.85,-198.72\"/>\n",
       "<text text-anchor=\"start\" x=\"127.35\" y=\"-201.27\" font-family=\"Helvetica,sans-Serif\" font-size=\"11.00\" fill=\"#444443\"> ...</text>\n",
       "<polygon fill=\"#fefecd\" stroke=\"none\" points=\"37.85,-196.72 37.85,-198.72 199.85,-198.72 199.85,-196.72 37.85,-196.72\"/>\n",
       "<polygon fill=\"#fefecd\" stroke=\"none\" points=\"37.85,-182.72 37.85,-196.72 66.85,-196.72 66.85,-182.72 37.85,-182.72\"/>\n",
       "<polyline fill=\"none\" stroke=\"black\" points=\"66.85,-182.72 66.85,-196.72\"/>\n",
       "<text text-anchor=\"start\" x=\"38.85\" y=\"-185.27\" font-family=\"Helvetica,sans-Serif\" font-size=\"11.00\" fill=\"#444443\">1535 </text>\n",
       "<polygon fill=\"#fefecd\" stroke=\"none\" points=\"66.85,-182.72 66.85,-196.72 199.85,-196.72 199.85,-182.72 66.85,-182.72\"/>\n",
       "<text text-anchor=\"start\" x=\"67.72\" y=\"-185.27\" font-family=\"Helvetica,sans-Serif\" font-size=\"11.00\" fill=\"#444443\"> &#39;&#45;0.02344163320958614...&#39;</text>\n",
       "</g>\n",
       "<!-- node6305225600&#45;&gt;node4558140736 -->\n",
       "<g id=\"edge6\" class=\"edge\">\n",
       "<title>node6305225600:5&#45;&gt;node4558140736:w</title>\n",
       "<path fill=\"none\" stroke=\"#444443\" stroke-width=\"0.5\" d=\"M13.69,-602.22C49.13,-602.22 3.37,-297.68 31.83,-271.51\"/>\n",
       "<polygon fill=\"#444443\" stroke=\"#444443\" stroke-width=\"0.5\" points=\"32.28,-272.84 35.43,-270.01 31.2,-270.26 32.28,-272.84\"/>\n",
       "</g>\n",
       "<!-- node4558140864 -->\n",
       "<g id=\"node8\" class=\"node\">\n",
       "<title>node4558140864</title>\n",
       "<polygon fill=\"none\" stroke=\"black\" stroke-width=\"0.5\" points=\"200.57,-175.44 37.13,-175.44 37.13,0 200.57,0 200.57,-175.44\"/>\n",
       "<polygon fill=\"#fefecd\" stroke=\"none\" points=\"37.85,-160.72 37.85,-174.72 66.85,-174.72 66.85,-160.72 37.85,-160.72\"/>\n",
       "<polyline fill=\"none\" stroke=\"black\" points=\"66.85,-160.72 66.85,-174.72\"/>\n",
       "<text text-anchor=\"start\" x=\"56.85\" y=\"-163.27\" font-family=\"Helvetica,sans-Serif\" font-size=\"11.00\" fill=\"#444443\">0 </text>\n",
       "<polygon fill=\"#fefecd\" stroke=\"none\" points=\"66.85,-160.72 66.85,-174.72 199.85,-174.72 199.85,-160.72 66.85,-160.72\"/>\n",
       "<text text-anchor=\"start\" x=\"74.47\" y=\"-163.27\" font-family=\"Helvetica,sans-Serif\" font-size=\"11.00\" fill=\"#444443\"> &#45;0.02740684524178505</text>\n",
       "<polygon fill=\"#fefecd\" stroke=\"none\" points=\"37.85,-158.72 37.85,-160.72 199.85,-160.72 199.85,-158.72 37.85,-158.72\"/>\n",
       "<polygon fill=\"#fefecd\" stroke=\"none\" points=\"37.85,-144.72 37.85,-158.72 66.85,-158.72 66.85,-144.72 37.85,-144.72\"/>\n",
       "<polyline fill=\"none\" stroke=\"black\" points=\"66.85,-144.72 66.85,-158.72\"/>\n",
       "<text text-anchor=\"start\" x=\"56.85\" y=\"-147.27\" font-family=\"Helvetica,sans-Serif\" font-size=\"11.00\" fill=\"#444443\">1 </text>\n",
       "<polygon fill=\"#fefecd\" stroke=\"none\" points=\"66.85,-144.72 66.85,-158.72 199.85,-158.72 199.85,-144.72 66.85,-144.72\"/>\n",
       "<text text-anchor=\"start\" x=\"73.35\" y=\"-147.27\" font-family=\"Helvetica,sans-Serif\" font-size=\"11.00\" fill=\"#444443\"> 0.014704234898090363</text>\n",
       "<polygon fill=\"#fefecd\" stroke=\"none\" points=\"37.85,-142.72 37.85,-144.72 199.85,-144.72 199.85,-142.72 37.85,-142.72\"/>\n",
       "<polygon fill=\"#fefecd\" stroke=\"none\" points=\"37.85,-128.72 37.85,-142.72 66.85,-142.72 66.85,-128.72 37.85,-128.72\"/>\n",
       "<polyline fill=\"none\" stroke=\"black\" points=\"66.85,-128.72 66.85,-142.72\"/>\n",
       "<text text-anchor=\"start\" x=\"56.85\" y=\"-131.27\" font-family=\"Helvetica,sans-Serif\" font-size=\"11.00\" fill=\"#444443\">2 </text>\n",
       "<polygon fill=\"#fefecd\" stroke=\"none\" points=\"66.85,-128.72 66.85,-142.72 199.85,-142.72 199.85,-128.72 66.85,-128.72\"/>\n",
       "<text text-anchor=\"start\" x=\"76.35\" y=\"-131.27\" font-family=\"Helvetica,sans-Serif\" font-size=\"11.00\" fill=\"#444443\"> 0.05921286344528198</text>\n",
       "<polygon fill=\"#fefecd\" stroke=\"none\" points=\"37.85,-126.72 37.85,-128.72 199.85,-128.72 199.85,-126.72 37.85,-126.72\"/>\n",
       "<polygon fill=\"#fefecd\" stroke=\"none\" points=\"37.85,-112.72 37.85,-126.72 66.85,-126.72 66.85,-112.72 37.85,-112.72\"/>\n",
       "<polyline fill=\"none\" stroke=\"black\" points=\"66.85,-112.72 66.85,-126.72\"/>\n",
       "<text text-anchor=\"start\" x=\"56.85\" y=\"-115.27\" font-family=\"Helvetica,sans-Serif\" font-size=\"11.00\" fill=\"#444443\">3 </text>\n",
       "<polygon fill=\"#fefecd\" stroke=\"none\" points=\"66.85,-112.72 66.85,-126.72 199.85,-126.72 199.85,-112.72 66.85,-112.72\"/>\n",
       "<text text-anchor=\"start\" x=\"73.35\" y=\"-115.27\" font-family=\"Helvetica,sans-Serif\" font-size=\"11.00\" fill=\"#444443\"> 0.016870826482772827</text>\n",
       "<polygon fill=\"#fefecd\" stroke=\"none\" points=\"37.85,-110.72 37.85,-112.72 199.85,-112.72 199.85,-110.72 37.85,-110.72\"/>\n",
       "<polygon fill=\"#fefecd\" stroke=\"none\" points=\"37.85,-96.72 37.85,-110.72 66.85,-110.72 66.85,-96.72 37.85,-96.72\"/>\n",
       "<polyline fill=\"none\" stroke=\"black\" points=\"66.85,-96.72 66.85,-110.72\"/>\n",
       "<text text-anchor=\"start\" x=\"56.85\" y=\"-99.27\" font-family=\"Helvetica,sans-Serif\" font-size=\"11.00\" fill=\"#444443\">4 </text>\n",
       "<polygon fill=\"#fefecd\" stroke=\"none\" points=\"66.85,-96.72 66.85,-110.72 199.85,-110.72 199.85,-96.72 66.85,-96.72\"/>\n",
       "<text text-anchor=\"start\" x=\"76.35\" y=\"-99.27\" font-family=\"Helvetica,sans-Serif\" font-size=\"11.00\" fill=\"#444443\"> 0.08815941959619522</text>\n",
       "<polygon fill=\"#fefecd\" stroke=\"none\" points=\"37.85,-94.72 37.85,-96.72 199.85,-96.72 199.85,-94.72 37.85,-94.72\"/>\n",
       "<polygon fill=\"#fefecd\" stroke=\"none\" points=\"37.85,-80.72 37.85,-94.72 66.85,-94.72 66.85,-80.72 37.85,-80.72\"/>\n",
       "<polyline fill=\"none\" stroke=\"black\" points=\"66.85,-80.72 66.85,-94.72\"/>\n",
       "<text text-anchor=\"start\" x=\"56.85\" y=\"-83.27\" font-family=\"Helvetica,sans-Serif\" font-size=\"11.00\" fill=\"#444443\">5 </text>\n",
       "<polygon fill=\"#fefecd\" stroke=\"none\" points=\"66.85,-80.72 66.85,-94.72 199.85,-94.72 199.85,-80.72 66.85,-80.72\"/>\n",
       "<text text-anchor=\"start\" x=\"67.72\" y=\"-83.27\" font-family=\"Helvetica,sans-Serif\" font-size=\"11.00\" fill=\"#444443\"> &#39;&#45;0.00154933368321508...&#39;</text>\n",
       "<polygon fill=\"#fefecd\" stroke=\"none\" points=\"37.85,-78.72 37.85,-80.72 199.85,-80.72 199.85,-78.72 37.85,-78.72\"/>\n",
       "<polygon fill=\"#fefecd\" stroke=\"none\" points=\"37.85,-64.72 37.85,-78.72 66.85,-78.72 66.85,-64.72 37.85,-64.72\"/>\n",
       "<polyline fill=\"none\" stroke=\"black\" points=\"66.85,-64.72 66.85,-78.72\"/>\n",
       "<text text-anchor=\"start\" x=\"56.85\" y=\"-67.27\" font-family=\"Helvetica,sans-Serif\" font-size=\"11.00\" fill=\"#444443\">6 </text>\n",
       "<polygon fill=\"#fefecd\" stroke=\"none\" points=\"66.85,-64.72 66.85,-78.72 199.85,-78.72 199.85,-64.72 66.85,-64.72\"/>\n",
       "<text text-anchor=\"start\" x=\"74.47\" y=\"-67.27\" font-family=\"Helvetica,sans-Serif\" font-size=\"11.00\" fill=\"#444443\"> &#45;0.04315588250756264</text>\n",
       "<polygon fill=\"#fefecd\" stroke=\"none\" points=\"37.85,-62.72 37.85,-64.72 199.85,-64.72 199.85,-62.72 37.85,-62.72\"/>\n",
       "<polygon fill=\"#fefecd\" stroke=\"none\" points=\"37.85,-48.72 37.85,-62.72 66.85,-62.72 66.85,-48.72 37.85,-48.72\"/>\n",
       "<polyline fill=\"none\" stroke=\"black\" points=\"66.85,-48.72 66.85,-62.72\"/>\n",
       "<text text-anchor=\"start\" x=\"56.85\" y=\"-51.27\" font-family=\"Helvetica,sans-Serif\" font-size=\"11.00\" fill=\"#444443\">7 </text>\n",
       "<polygon fill=\"#fefecd\" stroke=\"none\" points=\"66.85,-48.72 66.85,-62.72 199.85,-62.72 199.85,-48.72 66.85,-48.72\"/>\n",
       "<text text-anchor=\"start\" x=\"76.35\" y=\"-51.27\" font-family=\"Helvetica,sans-Serif\" font-size=\"11.00\" fill=\"#444443\"> 0.03574327751994133</text>\n",
       "<polygon fill=\"#fefecd\" stroke=\"none\" points=\"37.85,-46.72 37.85,-48.72 199.85,-48.72 199.85,-46.72 37.85,-46.72\"/>\n",
       "<polygon fill=\"#fefecd\" stroke=\"none\" points=\"37.85,-32.72 37.85,-46.72 66.85,-46.72 66.85,-32.72 37.85,-32.72\"/>\n",
       "<polyline fill=\"none\" stroke=\"black\" points=\"66.85,-32.72 66.85,-46.72\"/>\n",
       "<text text-anchor=\"start\" x=\"56.85\" y=\"-35.27\" font-family=\"Helvetica,sans-Serif\" font-size=\"11.00\" fill=\"#444443\">8 </text>\n",
       "<polygon fill=\"#fefecd\" stroke=\"none\" points=\"66.85,-32.72 66.85,-46.72 199.85,-46.72 199.85,-32.72 66.85,-32.72\"/>\n",
       "<text text-anchor=\"start\" x=\"73.35\" y=\"-35.27\" font-family=\"Helvetica,sans-Serif\" font-size=\"11.00\" fill=\"#444443\"> 0.013714420609176159</text>\n",
       "<polygon fill=\"#fefecd\" stroke=\"none\" points=\"37.85,-30.72 37.85,-32.72 199.85,-32.72 199.85,-30.72 37.85,-30.72\"/>\n",
       "<polygon fill=\"#fefecd\" stroke=\"none\" points=\"37.85,-16.72 37.85,-30.72 66.85,-30.72 66.85,-16.72 37.85,-16.72\"/>\n",
       "<polyline fill=\"none\" stroke=\"black\" points=\"66.85,-16.72 66.85,-30.72\"/>\n",
       "<text text-anchor=\"start\" x=\"53.85\" y=\"-19.27\" font-family=\"Helvetica,sans-Serif\" font-size=\"11.00\" fill=\"#444443\">... </text>\n",
       "<polygon fill=\"#fefecd\" stroke=\"none\" points=\"66.85,-16.72 66.85,-30.72 199.85,-30.72 199.85,-16.72 66.85,-16.72\"/>\n",
       "<text text-anchor=\"start\" x=\"127.35\" y=\"-19.27\" font-family=\"Helvetica,sans-Serif\" font-size=\"11.00\" fill=\"#444443\"> ...</text>\n",
       "<polygon fill=\"#fefecd\" stroke=\"none\" points=\"37.85,-14.72 37.85,-16.72 199.85,-16.72 199.85,-14.72 37.85,-14.72\"/>\n",
       "<polygon fill=\"#fefecd\" stroke=\"none\" points=\"37.85,-0.72 37.85,-14.72 66.85,-14.72 66.85,-0.72 37.85,-0.72\"/>\n",
       "<polyline fill=\"none\" stroke=\"black\" points=\"66.85,-0.72 66.85,-14.72\"/>\n",
       "<text text-anchor=\"start\" x=\"38.85\" y=\"-3.27\" font-family=\"Helvetica,sans-Serif\" font-size=\"11.00\" fill=\"#444443\">1535 </text>\n",
       "<polygon fill=\"#fefecd\" stroke=\"none\" points=\"66.85,-0.72 66.85,-14.72 199.85,-14.72 199.85,-0.72 66.85,-0.72\"/>\n",
       "<text text-anchor=\"start\" x=\"73.35\" y=\"-3.27\" font-family=\"Helvetica,sans-Serif\" font-size=\"11.00\" fill=\"#444443\"> 0.002646377310156822</text>\n",
       "</g>\n",
       "<!-- node6305225600&#45;&gt;node4558140864 -->\n",
       "<g id=\"edge7\" class=\"edge\">\n",
       "<title>node6305225600:6&#45;&gt;node4558140864:w</title>\n",
       "<path fill=\"none\" stroke=\"#444443\" stroke-width=\"0.5\" d=\"M7.06,-577.6C7.06,-551.61 8.7,-130.13 32.46,-90.68\"/>\n",
       "<polygon fill=\"#444443\" stroke=\"#444443\" stroke-width=\"0.5\" points=\"33.31,-91.8 35.54,-88.19 31.55,-89.62 33.31,-91.8\"/>\n",
       "</g>\n",
       "</g>\n",
       "</svg>\n"
      ],
      "text/plain": [
       "<graphviz.sources.Source at 0x174fc45c0>"
      ]
     },
     "execution_count": 16,
     "metadata": {},
     "output_type": "execute_result"
    }
   ],
   "source": [
    "# Note that there are 7 items in the list, each represents the embeddings (list of numerical values) for each of the inputs\n",
    "# Each embedding vector contains 1,536 numerical values that represent the original text\n",
    "# This cell uses the lolviz library to understand the response object, similar to the previous cells\n",
    "\n",
    "import lolviz\n",
    "lolviz.objviz(response)"
   ]
  },
  {
   "cell_type": "code",
   "execution_count": null,
   "id": "e9f74a2f",
   "metadata": {
    "id": "e9f74a2f",
    "outputId": "9709af2a-8ac0-4af6-b5e4-0e69b3254a96"
   },
   "outputs": [
    {
     "data": {
      "text/plain": [
       "<Axes: >"
      ]
     },
     "execution_count": 14,
     "metadata": {},
     "output_type": "execute_result"
    },
    {
     "data": {
      "image/png": "[encoded data removed]",
      "text/plain": [
       "<Figure size 640x480 with 1 Axes>"
      ]
     },
     "metadata": {},
     "output_type": "display_data"
    }
   ],
   "source": [
    "# Due to the high dimensionality of the vectors, we can't easily visualize nor interpret them\n",
    "import seaborn as sns\n",
    "sns.lineplot(x=range(1536), y=response[0])"
   ]
  },
  {
   "cell_type": "markdown",
   "id": "f5a7df03-6a1a-46d6-bb59-aa564e748782",
   "metadata": {
    "id": "f5a7df03-6a1a-46d6-bb59-aa564e748782"
   },
   "source": [
    "## Visualize Embedding"
   ]
  },
  {
   "cell_type": "markdown",
   "id": "6402060c-e174-4c5f-8564-a14df5547d85",
   "metadata": {
    "id": "6402060c-e174-4c5f-8564-a14df5547d85"
   },
   "source": [
    "---"
   ]
  },
  {
   "cell_type": "markdown",
   "id": "de21b451-5953-4e5b-9192-c0dbbd9f42a5",
   "metadata": {
    "id": "de21b451-5953-4e5b-9192-c0dbbd9f42a5"
   },
   "source": [
    "### Understanding UMAP for Data Analysts\n",
    "\n",
    "- Uniform Manifold Approximation and Projection (UMAP) is a powerful dimensionality reduction technique that can be used to visualize high-dimensional data in a lower-dimensional space.\n",
    "- Unlike other dimensionality reduction techniques, UMAP preserves both the local and global structure of the data, making it an excellent tool for exploratory data analysis.\n",
    "\n",
    "### Using UMAP in Python\n",
    "\n",
    "The UMAP algorithm is implemented in the `umap-learn` package in Python. Here's a simple example of how to use it:\n",
    "\n",
    "---\n",
    "\n",
    "```python\n",
    "import umap\n",
    "import numpy as np\n",
    "\n",
    "# Assume embeddings is your high-dimensional data\n",
    "embeddings = np.random.rand(100, 50)\n",
    "\n",
    "reducer = umap.UMAP()\n",
    "umap_embeddings = reducer.fit_transform(embeddings)\n",
    "```\n",
    "\n",
    "---\n",
    "\n",
    "In this example, `umap.UMAP()` creates a UMAP object, and `fit_transform()` fits the model to the data and then transforms the data to a lower-dimensional representation. The result, `umap_embeddings`, is a 2D array of the lower-dimensional embeddings of your data.\n"
   ]
  },
  {
   "cell_type": "markdown",
   "id": "1c2939a4-4857-4cda-84a6-545ee60107bf",
   "metadata": {
    "id": "1c2939a4-4857-4cda-84a6-545ee60107bf"
   },
   "source": [
    "<br>\n",
    "\n",
    "---\n",
    "\n",
    "In this following example, we will use UMAP to visualize the 7 pieces of texts from the previous example"
   ]
  },
  {
   "cell_type": "code",
   "execution_count": null,
   "id": "44dc8898-eac1-4f75-99ed-c71e9bdbb71c",
   "metadata": {
    "ExecuteTime": {
     "end_time": "2024-04-18T10:07:33.930685Z",
     "start_time": "2024-04-18T10:07:01.618167Z"
    },
    "id": "44dc8898-eac1-4f75-99ed-c71e9bdbb71c"
   },
   "outputs": [],
   "source": [
    "import numpy as np\n",
    "import pandas as pd\n",
    "import umap # For compressing high-dimensional data (many columns) into lower-dimensional data (e.g. 2 columns)\n",
    "\n",
    "import matplotlib.pyplot as plt\n",
    "import seaborn as sns # For data visualization"
   ]
  },
  {
   "cell_type": "code",
   "execution_count": null,
   "id": "adba5580-ea80-4014-a25b-9b03ffc96a9b",
   "metadata": {
    "ExecuteTime": {
     "end_time": "2024-04-18T10:08:05.571378Z",
     "start_time": "2024-04-18T10:08:05.568660Z"
    },
    "id": "adba5580-ea80-4014-a25b-9b03ffc96a9b"
   },
   "outputs": [],
   "source": [
    "def get_projected_embeddings(embeddings, random_state=42):\n",
    "    reducer = umap.UMAP(random_state=random_state).fit(embeddings)\n",
    "    embeddings_2d_array = reducer.transform(embeddings)\n",
    "    return pd.DataFrame(embeddings_2d_array, columns=['x', 'y'])"
   ]
  },
  {
   "cell_type": "markdown",
   "id": "bc7529044dd3fce3",
   "metadata": {
    "id": "bc7529044dd3fce3"
   },
   "source": [
    "> 💡 Explanation for the cell above:\n",
    "> - `def get_projected_embeddings(embeddings, random_state=0):` This line defines the function and its parameters. The function takes in two arguments: embeddings (your high-dimensional data) and random_state (a seed for the random number generator, which ensures that the results are reproducible).  \n",
    "> - `reducer = umap.UMAP(random_state=random_state).fit(embeddings)` This line creates a UMAP object and fits it to your data. The fit method learns the structure of the data.  \n",
    "> - `embeddings_2d_array = reducer.transform(embeddings)` This line transforms the high-dimensional data into a lower-dimensional space. The transformed data is stored in embeddings_2d_array.  \n",
    "> - `return pd.DataFrame(embeddings_2d_array, columns=['x', 'y'])` This line converts the lower-dimensional data into a pandas DataFrame for easier manipulation and returns it. The DataFrame has two columns, 'x' and 'y', which represent the two dimensions of the reduced data."
   ]
  },
  {
   "cell_type": "code",
   "execution_count": null,
   "id": "e9fe0796-a56f-48bc-8d38-08eb1151c610",
   "metadata": {
    "ExecuteTime": {
     "end_time": "2024-04-18T10:10:35.339543Z",
     "start_time": "2024-04-18T10:10:31.247888Z"
    },
    "id": "e9fe0796-a56f-48bc-8d38-08eb1151c610",
    "outputId": "3d927a94-9d53-473b-88b8-fe21a3db2204"
   },
   "outputs": [
    {
     "name": "stderr",
     "output_type": "stream",
     "text": [
      "/Users/dsaid/.local/share/virtualenvs/ai_champ_bootcamp-CNnsiwQ3/lib/python3.12/site-packages/umap/umap_.py:1945: UserWarning: n_jobs value 1 overridden to 1 by setting random_state. Use no seed for parallelism.\n",
      "  warn(f\"n_jobs value {self.n_jobs} overridden to 1 by setting random_state. Use no seed for parallelism.\")\n",
      "/Users/dsaid/.local/share/virtualenvs/ai_champ_bootcamp-CNnsiwQ3/lib/python3.12/site-packages/umap/umap_.py:2437: UserWarning: n_neighbors is larger than the dataset size; truncating to X.shape[0] - 1\n",
      "  warn(\n"
     ]
    },
    {
     "data": {
      "text/html": [
       "<div>\n",
       "<style scoped>\n",
       "    .dataframe tbody tr th:only-of-type {\n",
       "        vertical-align: middle;\n",
       "    }\n",
       "\n",
       "    .dataframe tbody tr th {\n",
       "        vertical-align: top;\n",
       "    }\n",
       "\n",
       "    .dataframe thead th {\n",
       "        text-align: right;\n",
       "    }\n",
       "</style>\n",
       "<table border=\"1\" class=\"dataframe\">\n",
       "  <thead>\n",
       "    <tr style=\"text-align: right;\">\n",
       "      <th></th>\n",
       "      <th>x</th>\n",
       "      <th>y</th>\n",
       "      <th>text</th>\n",
       "    </tr>\n",
       "  </thead>\n",
       "  <tbody>\n",
       "    <tr>\n",
       "      <th>0</th>\n",
       "      <td>14.781705</td>\n",
       "      <td>2.911349</td>\n",
       "      <td>Flamingo spotted at the in the bird park</td>\n",
       "    </tr>\n",
       "    <tr>\n",
       "      <th>1</th>\n",
       "      <td>15.536589</td>\n",
       "      <td>2.916723</td>\n",
       "      <td>Sea otter seen playing at the marine park</td>\n",
       "    </tr>\n",
       "    <tr>\n",
       "      <th>2</th>\n",
       "      <td>15.082713</td>\n",
       "      <td>2.202917</td>\n",
       "      <td>Baby panda born at the city zoo</td>\n",
       "    </tr>\n",
       "    <tr>\n",
       "      <th>3</th>\n",
       "      <td>17.285446</td>\n",
       "      <td>2.014951</td>\n",
       "      <td>Python developers prefer snake_case for variab...</td>\n",
       "    </tr>\n",
       "    <tr>\n",
       "      <th>4</th>\n",
       "      <td>16.244133</td>\n",
       "      <td>1.862801</td>\n",
       "      <td>New JavaScript framework aims to simplify coding</td>\n",
       "    </tr>\n",
       "    <tr>\n",
       "      <th>5</th>\n",
       "      <td>16.676155</td>\n",
       "      <td>2.591842</td>\n",
       "      <td>C++ developers appreciate the power of OOP</td>\n",
       "    </tr>\n",
       "    <tr>\n",
       "      <th>6</th>\n",
       "      <td>16.895311</td>\n",
       "      <td>1.349385</td>\n",
       "      <td>Java is a popular choice for enterprise applic...</td>\n",
       "    </tr>\n",
       "  </tbody>\n",
       "</table>\n",
       "</div>"
      ],
      "text/plain": [
       "           x         y                                               text\n",
       "0  14.781705  2.911349           Flamingo spotted at the in the bird park\n",
       "1  15.536589  2.916723          Sea otter seen playing at the marine park\n",
       "2  15.082713  2.202917                    Baby panda born at the city zoo\n",
       "3  17.285446  2.014951  Python developers prefer snake_case for variab...\n",
       "4  16.244133  1.862801   New JavaScript framework aims to simplify coding\n",
       "5  16.676155  2.591842         C++ developers appreciate the power of OOP\n",
       "6  16.895311  1.349385  Java is a popular choice for enterprise applic..."
      ]
     },
     "execution_count": 34,
     "metadata": {},
     "output_type": "execute_result"
    }
   ],
   "source": [
    "# Get the embeddings in a DataFrame object\n",
    "projected_embeddings = get_projected_embeddings(response)\n",
    "\n",
    "# Insert a new column to store the original texts\n",
    "projected_embeddings['text'] = list_of_input_texts\n",
    "\n",
    "projected_embeddings"
   ]
  },
  {
   "cell_type": "code",
   "execution_count": null,
   "id": "5fd93637-e5c9-4f06-a633-4056c99dcec3",
   "metadata": {
    "ExecuteTime": {
     "end_time": "2024-04-18T10:10:46.570755Z",
     "start_time": "2024-04-18T10:10:45.970489Z"
    },
    "id": "5fd93637-e5c9-4f06-a633-4056c99dcec3",
    "outputId": "d1a9faf0-e369-43f5-cc7f-d66a89978c0c",
    "scrolled": true
   },
   "outputs": [
    {
     "data": {
      "image/png": "[encoded data removed]",
      "text/plain": [
       "<Figure size 640x480 with 1 Axes>"
      ]
     },
     "metadata": {},
     "output_type": "display_data"
    }
   ],
   "source": [
    "# Create the Scatter plot that visualize the locations of the embeddings in the number space (commonly known as \"vector space\")\n",
    "sns.scatterplot(x=projected_embeddings['x'], y=projected_embeddings['y'])\n",
    "\n",
    "# Add labels to each point\n",
    "for i in range(projected_embeddings.shape[0]):\n",
    "    plt.text(x=projected_embeddings.loc[i, 'x'],\n",
    "             y=projected_embeddings.loc[i, 'y'],\n",
    "             s=projected_embeddings.loc[i, 'text'],\n",
    "             fontsize='x-small')"
   ]
  },
  {
   "cell_type": "markdown",
   "id": "88c763db-f8fc-453c-b3c5-d8de4173209d",
   "metadata": {
    "id": "88c763db-f8fc-453c-b3c5-d8de4173209d"
   },
   "source": [
    "- Observe the distances between the different texts\n",
    "  - Although the text starts with *\"Python developers prefer snake_case for variable naming\"*, contains two animals, the embedding is further away from the three data points that truly focus about the \"real\" animals.\n",
    "  - It is closer to the other data points that are focusing on programming/coding\n"
   ]
  },
  {
   "cell_type": "markdown",
   "id": "88fafc46-68d9-4d76-80fa-e364fc5a5650",
   "metadata": {
    "id": "88fafc46-68d9-4d76-80fa-e364fc5a5650"
   },
   "source": [
    "---"
   ]
  },
  {
   "cell_type": "markdown",
   "id": "95a34587-c504-4de6-b322-a315b79f8a9a",
   "metadata": {
    "id": "95a34587-c504-4de6-b322-a315b79f8a9a"
   },
   "source": [
    "\n",
    "### Understanding Cosine Similarity for LLM Embeddings"
   ]
  },
  {
   "cell_type": "markdown",
   "id": "c6e05896-f5d4-458b-b953-7b1c5cccedfd",
   "metadata": {
    "id": "c6e05896-f5d4-458b-b953-7b1c5cccedfd"
   },
   "source": [
    "Cosine similarity is a metric used to measure how similar two vectors are, irrespective of their size. It's widely used in natural language processing to calculate the similarity between text documents represented as vector embeddings, such as those produced by Language Learning Models (LLMs).\n",
    "\n",
    "The cosine similarity between two vectors is calculated as the cosine of the angle between them.\n",
    "- If the vectors are identical, the angle is 0 and the cosine similarity is 1.\n",
    "- If the vectors are orthogonal, the angle is 90 degrees and the cosine similarity is 0, indicating no similarity.\n",
    "\n",
    "Cosine similarity is particularly useful for LLM embeddings because it effectively captures the semantic similarity between text documents. It's robust to the high dimensionality of LLM embeddings and is relatively efficient to compute, making it a popular choice for measuring the distance between LLM embeddings\n"
   ]
  },
  {
   "cell_type": "markdown",
   "id": "683c05f1-8205-48d5-9424-fc62e6f88541",
   "metadata": {
    "id": "683c05f1-8205-48d5-9424-fc62e6f88541"
   },
   "source": [
    "---\n",
    "---\n",
    "<br>"
   ]
  },
  {
   "cell_type": "markdown",
   "id": "5b61200f-df27-4a09-8263-56b9a430cf2c",
   "metadata": {
    "id": "5b61200f-df27-4a09-8263-56b9a430cf2c"
   },
   "source": [
    "# Setting up Credentials for langchain\n",
    "---"
   ]
  },
  {
   "cell_type": "markdown",
   "id": "5345ec3e-d2ee-43b3-a8c5-1166af6e2ec3",
   "metadata": {
    "id": "5345ec3e-d2ee-43b3-a8c5-1166af6e2ec3"
   },
   "source": [
    "We will be using `Langchain` for our Use Cases in the next section.\n",
    "- The code cell below is to set up the credentials (i.e., the OPENAI API KEY) to allow `Langchain` to use OpenAI API Endpoints,\n",
    "such as the `ChatCompletion` and `Embedding`.\n",
    "- This also means that we will not directly use OpenAI's SDK in some of the use cases below.\n",
    "- `Langchain`'s components like those `retriever` (that we discussed in the Knowledge Base) will handle the API calls to OpenAI's API endpoints automatically. All we need to do is to specify the `API_KEY` as required by Langchain, as indicated in the cell below.\n",
    "- This way of providing credentials is called `environment variable assignment` or `setting environment variable`\n",
    "- Specifically, it sets the value of the environment variable named `OPENAI_API_KEY` to the value stored in the Python variable `API_KEY` (we entered earlier in this notebook).\n",
    "- Environment variables are used to configure and customize the behavior of software applications by allowing them to access external settings or secrets without hardcoding them directly into the code.\n",
    "- We will learn more about setting the credentials  more efficiency and securly in later part of our training.\n"
   ]
  },
  {
   "cell_type": "code",
   "execution_count": null,
   "id": "67cbb04f-6064-459e-8e82-edb394d8f473",
   "metadata": {
    "id": "67cbb04f-6064-459e-8e82-edb394d8f473"
   },
   "outputs": [],
   "source": [
    "import os\n",
    "\n",
    "os.environ[\"OPENAI_API_KEY\"] = API_KEY"
   ]
  },
  {
   "cell_type": "markdown",
   "id": "3c839ecb-894a-44b8-81b5-3d04a5ab6f83",
   "metadata": {
    "id": "3c839ecb-894a-44b8-81b5-3d04a5ab6f83",
    "jp-MarkdownHeadingCollapsed": true
   },
   "source": [
    "---\n",
    "---\n",
    "\n",
    "<br>"
   ]
  },
  {
   "cell_type": "markdown",
   "id": "6237d78e-11a9-4bc7-846b-fb3b80493719",
   "metadata": {
    "id": "6237d78e-11a9-4bc7-846b-fb3b80493719"
   },
   "source": [
    "# Use Cases of Embeddings\n",
    "---"
   ]
  },
  {
   "cell_type": "markdown",
   "id": "e5c90f1c-3eba-4185-a6f4-200434fd9a11",
   "metadata": {
    "id": "e5c90f1c-3eba-4185-a6f4-200434fd9a11"
   },
   "source": [
    "## Use Case #1: Semantic Search & Recommendation System"
   ]
  },
  {
   "cell_type": "markdown",
   "id": "2c135ee0-b0bc-4f3a-85c7-a7efcd7f758d",
   "metadata": {
    "id": "2c135ee0-b0bc-4f3a-85c7-a7efcd7f758d"
   },
   "source": [
    "### Understanding Keyword Retrieval and Dense Retrieval"
   ]
  },
  {
   "cell_type": "markdown",
   "id": "e45cdd84-7cb9-4289-ae72-442e02625a78",
   "metadata": {
    "id": "e45cdd84-7cb9-4289-ae72-442e02625a78"
   },
   "source": [
    "- Keyword retrieval and dense retrieval are two different methods used in information retrieval systems.\n",
    "\n",
    "- **Keyword Retrieval**:\n",
    "    - Keyword retrieval, also known as sparse retrieval, is a traditional method of information retrieval.\n",
    "    - It involves matching the exact keywords in the query with the documents in the database.\n",
    "    - This method is simple and explainable, but it has some limitations\n",
    "    - It doesn’t fully capture the semantics of each term in the context of the whole text.\n",
    "    - It may not perform well when the query words do not exactly match the words in the document.\n",
    "- **Dense Retrieval (or Semantic Search)**:\n",
    "    - Dense retrieval, on the other hand, uses dense vector representations (embeddings) of the text to capture the deep semantic relationship between queries and documents.\n",
    "    - These vectors are usually generated by neural networks, particularly transformer-based models.\n",
    "    - This method shows a huge improvement over keyword search as it captures the semantics of the text1. However, it’s more complex and computationally intensive than keyword retrieval.\n",
    "\n",
    "<br>\n",
    "    \n",
    "- Here are the key differences between the two methods:\n",
    "    - **Semantics**: Dense retrieval captures the semantics of the text, while keyword retrieval does not.\n",
    "    - **Matching**: Keyword retrieval relies on exact keyword matching, while dense retrieval uses semantic matching.\n",
    "    - **Performance**: Dense retrieval generally outperforms keyword retrieval, especially when the query words do not exactly match the words in the document.\n",
    "    - **Complexity**: Dense retrieval is more complex and computationally intensive than keyword retrieval"
   ]
  },
  {
   "cell_type": "markdown",
   "id": "02000dcd-fc56-4dcb-ba09-ebd08fe0f071",
   "metadata": {
    "id": "02000dcd-fc56-4dcb-ba09-ebd08fe0f071"
   },
   "source": [
    "[Reference for Products - https://www.developer.tech.gov.sg/products/all-products/](https://www.developer.tech.gov.sg/products/all-products/)"
   ]
  },
  {
   "cell_type": "code",
   "execution_count": null,
   "id": "9d451814-1478-4abf-9d33-1d1debe4216d",
   "metadata": {
    "id": "9d451814-1478-4abf-9d33-1d1debe4216d"
   },
   "outputs": [],
   "source": [
    "# The variable `corpus`  contains a list of documents (text data).\n",
    "# We are using the products & services from Reference https://www.developer.tech.gov.sg/products/all-products/\n",
    "corpus = [\n",
    "    'Cybersecurity. AI Document Parser (AISAY) – An AI-Powered Document Reader and Transcription API Service. AISAY is an AI-Powered Document Reader and Transcription API Service for public officers. Learn more here!',\n",
    "    'Analytics. Analytics.gov – Enabling Data Exploitation for Whole-of-Government (WOG). Analytics.gov is a Whole-Of-Government (WOG) data exploitation platform to support the analysis of data by agencies.',\n",
    "    'Productivity. Cloak – The Central Privacy Toolkit for Policy-Compliant Data Anonymisation. Cloak helps public officers to anonymise sensitive data based on public sector guidelines through a one-stop, self-service web application. Learn more here!',\n",
    "    'DevOps. Container Stack (CStack) – Managed Platform for Apps using Kubernetes. Container Stack is a cloud-based container hosting platform and a Runtime component within Singapore Government Tech Stack.',\n",
    "    'Data and APIs. Data.gov.sg — The One-Stop Open Data Portal for Publicly Available Singapore Government Datasets. Learn from Data.gov.sg, Singapore’s one-stop open data portal offering government datasets. Dive in now!',\n",
    "    'Analytics. GovText – The Whole-of-Government Text Analytics Platform. Analyse your textual data efficiently with the GovText Natural Language Processing (NLP) platform for WOG. Discover more!',\n",
    "    'Data and APIs. Monetary Authority of Singapore (MAS) APIs - Streamlining of Financial Applications through Data. The Monetary Authority of Singapore (MAS) provides APIs for developers, allowing MAS’ applications to be streamlined.',\n",
    "    'Analytics. Whole-of-Government Application Analytics (WOGAA) - Improve Government Services with Data. WOGAA is an analytics & performance platform for public officers to monitor the health of their government websites and optimise the performance of their digital services with data.',\n",
    "    'Data and APIs. Vault - A Central Data Discovery and Distribution Platform for WOG Vault is a platform where government data is consolidated, organised and made discoverable for public servants to explore, search and securely access.',\n",
    "    'Productivity. Transcribe provides auto-transcription and localised Speech-to-Text services for Singapore government officers.',\n",
    "    'Data and APIs. SingStat Table Builder. The SingStat Table Builder contains over 1,800 statistical data tables from 60 public sector agencies providing a comprehensive statistical view of Singapore’s economic and socio-demographic characteristics.',\n",
    "    'Productivity. Postman — Deliver Messages to Citizens in Minutes. Postman is a multichannel cloud-based service for Singapore government agencies to send mass personalized messages in minutes.',\n",
    "]"
   ]
  },
  {
   "cell_type": "markdown",
   "id": "119034ab-42fe-4eb7-b402-402369b30c40",
   "metadata": {
    "id": "119034ab-42fe-4eb7-b402-402369b30c40"
   },
   "source": [
    "#### Keywords Retrieval"
   ]
  },
  {
   "cell_type": "code",
   "execution_count": null,
   "id": "ae178dbd-1031-471c-9a9c-b92e05df0585",
   "metadata": {
    "id": "ae178dbd-1031-471c-9a9c-b92e05df0585"
   },
   "outputs": [],
   "source": [
    "# This library provides an implementation of the BM25 algorithm,\n",
    "# which is commonly used for information retrieval and text search\n",
    "from rank_bm25 import BM25Okapi\n",
    "\n",
    "# Tokenizes each document in the corpus\n",
    "# by splitting it into individual words based on spaces.\n",
    "tokenized_corpus = [doc.split(\" \") for doc in corpus]\n",
    "\n",
    "# Initialize BM25\n",
    "# The BM25Okapi model is now ready to compute relevance scores for queries against this corpus.\n",
    "bm25 = BM25Okapi(tokenized_corpus)"
   ]
  },
  {
   "cell_type": "code",
   "execution_count": null,
   "id": "78873b2c-a849-4ff9-a4e7-4a4903661302",
   "metadata": {
    "id": "78873b2c-a849-4ff9-a4e7-4a4903661302",
    "outputId": "14f45dc5-a342-4071-887b-c99260808e04"
   },
   "outputs": [
    {
     "name": "stdout",
     "output_type": "stream",
     "text": [
      "[0.         2.17167558 0.         0.         0.         0.\n",
      " 0.         0.         0.         0.         0.         0.        ]\n"
     ]
    }
   ],
   "source": [
    "# Now let's say we have the following query\n",
    "query = \"Data exploitation\"\n",
    "\n",
    "# The query is tokenized into individual words: tokenized_query = query.split(\" \")\n",
    "# The query must be tokenized in the same way as the corpus (list of input documents)\n",
    "tokenized_query = query.split(\" \")\n",
    "\n",
    "# Computes BM25 scores for each document in the corpus based on the query.\n",
    "doc_scores = bm25.get_scores(tokenized_query)\n",
    "\n",
    "# Print the list of relevance scores corresponding to each document.\n",
    "# It's  a position (index) based listing of the score,\n",
    "# based on the original order of the text in our `corpus` variable\n",
    "print(doc_scores)"
   ]
  },
  {
   "cell_type": "code",
   "execution_count": null,
   "id": "ed51c053-7513-4cce-86de-f4d137945e66",
   "metadata": {
    "id": "ed51c053-7513-4cce-86de-f4d137945e66",
    "outputId": "d06bf2d3-4675-46d9-b018-77018e767cdb"
   },
   "outputs": [
    {
     "data": {
      "text/plain": [
       "'Analytics. Analytics.gov – Enabling Data Exploitation for Whole-of-Government (WOG). Analytics.gov is a Whole-Of-Government (WOG) data exploitation platform to support the analysis of data by agencies.'"
      ]
     },
     "execution_count": 40,
     "metadata": {},
     "output_type": "execute_result"
    }
   ],
   "source": [
    "# Finding the Most Relevant Document:\n",
    "import numpy as np\n",
    "x = np.array(doc_scores)\n",
    "\n",
    "# The argmax() function returns the index of the maximum value in the array.\n",
    "# This line use \"indexing\" apprach to retrieve the most relevant document\n",
    "# from the original corpus based on the highest BM25 scores.\n",
    "corpus[x.argmax()]"
   ]
  },
  {
   "cell_type": "markdown",
   "id": "2942c9c0-3bbf-43db-9b29-dc060774375a",
   "metadata": {
    "id": "2942c9c0-3bbf-43db-9b29-dc060774375a"
   },
   "source": [
    "> 💡 Experiemnt with different `query` to see how well the `Keyword-based Retriever` works and when does it hit its limitations\n",
    "\n",
    "---"
   ]
  },
  {
   "cell_type": "markdown",
   "id": "567e67e4-7e81-41cd-825d-c9ed88966e05",
   "metadata": {
    "id": "567e67e4-7e81-41cd-825d-c9ed88966e05"
   },
   "source": [
    "> ⚠️ The provided code demonstrates a basic implementation of the BM25 algorithm for keyword-based search.\n",
    "> - However, it’s essential to recognize that real-world production-level keyword search systems are significantly more complex.\n",
    "> - While this simplified BM25 example provides a foundational understanding, building robust search systems involves addressing these complexities.\n",
    "> - Production-level search engines require a combination of information retrieval, machine learning, and engineering expertise to deliver accurate and efficient results.\n",
    "\n",
    "---\n",
    "\n",
    "\n",
    "<br>\n",
    "\n"
   ]
  },
  {
   "cell_type": "markdown",
   "id": "320dc4cd-2963-467a-b9ef-9fe27805e943",
   "metadata": {
    "id": "320dc4cd-2963-467a-b9ef-9fe27805e943"
   },
   "source": [
    "#### Dense Retrieval"
   ]
  },
  {
   "cell_type": "code",
   "execution_count": null,
   "id": "c4ffb128-16d3-4c1f-9c4b-072de063f7fd",
   "metadata": {
    "id": "c4ffb128-16d3-4c1f-9c4b-072de063f7fd"
   },
   "outputs": [],
   "source": [
    "from langchain_openai import OpenAIEmbeddings\n",
    "from langchain_community.vectorstores import Chroma"
   ]
  },
  {
   "cell_type": "code",
   "execution_count": null,
   "id": "fccf8b2a-e6b2-4ee2-89c9-756a7c7ad489",
   "metadata": {
    "id": "fccf8b2a-e6b2-4ee2-89c9-756a7c7ad489"
   },
   "outputs": [],
   "source": [
    "query = \"Data exploitation\""
   ]
  },
  {
   "cell_type": "code",
   "execution_count": null,
   "id": "c2148e2a-34e0-4f2d-8dd9-c5e15ce2de1c",
   "metadata": {
    "id": "c2148e2a-34e0-4f2d-8dd9-c5e15ce2de1c"
   },
   "outputs": [],
   "source": [
    "# an embeddings model is initialized using the OpenAIEmbeddings class.\n",
    "# The specified model is 'text-embedding-3-small'.\n",
    "embeddings_model = OpenAIEmbeddings(model='text-embedding-3-small')"
   ]
  },
  {
   "cell_type": "code",
   "execution_count": null,
   "id": "959d0dc8-cf15-4fd1-ba9a-86c7dd350b9a",
   "metadata": {
    "id": "959d0dc8-cf15-4fd1-ba9a-86c7dd350b9a"
   },
   "outputs": [],
   "source": [
    "# A vector store is created using the Chroma class.\n",
    "# It stores embeddings for a given set of texts (documents).\n",
    "# The embeddings_model is used to convert the texts into embeddings.\n",
    "vectorstore = Chroma.from_texts(corpus, embeddings_model)"
   ]
  },
  {
   "cell_type": "code",
   "execution_count": null,
   "id": "045c7add-9773-420e-92e2-149fd46a2162",
   "metadata": {
    "id": "045c7add-9773-420e-92e2-149fd46a2162",
    "outputId": "bbadfb26-b87b-4dc5-a304-082c0e75685c"
   },
   "outputs": [
    {
     "data": {
      "text/plain": [
       "[(Document(page_content='Analytics. Analytics.gov – Enabling Data Exploitation for Whole-of-Government (WOG). Analytics.gov is a Whole-Of-Government (WOG) data exploitation platform to support the analysis of data by agencies.'),\n",
       "  0.2073534923622884),\n",
       " (Document(page_content='Analytics. GovText – The Whole-of-Government Text Analytics Platform. Analyse your textual data efficiently with the GovText Natural Language Processing (NLP) platform for WOG. Discover more!'),\n",
       "  0.0708701957664305),\n",
       " (Document(page_content='Data and APIs. Data.gov.sg — The One-Stop Open Data Portal for Publicly Available Singapore Government Datasets. Learn from Data.gov.sg, Singapore’s one-stop open data portal offering government datasets. Dive in now!'),\n",
       "  0.029292414004130518),\n",
       " (Document(page_content='Data and APIs. Vault - A Central Data Discovery and Distribution Platform for WOG Vault is a platform where government data is consolidated, organised and made discoverable for public servants to explore, search and securely access.'),\n",
       "  0.023446814703063534),\n",
       " (Document(page_content='Cybersecurity. AI Document Parser (AISAY) – An AI-Powered Document Reader and Transcription API Service. AISAY is an AI-Powered Document Reader and Transcription API Service for public officers. Learn more here!'),\n",
       "  0.003450916776646107)]"
      ]
     },
     "execution_count": 47,
     "metadata": {},
     "output_type": "execute_result"
    }
   ],
   "source": [
    "# This line performs a similarity search within the vector store for the query\n",
    "# The k=3 parameter specifies that we want to retrieve the top 3 most similar documents.\n",
    "# The method returns both the similar documents and their associated relevance scores.\n",
    "# These scores indicate how similar each retrieved document is to the query (higher value means highly similar).\n",
    "vectorstore.similarity_search_with_relevance_scores(query, k=5)"
   ]
  },
  {
   "cell_type": "markdown",
   "id": "5d16ca2f-e65a-476f-9564-dfcc6d419bf9",
   "metadata": {
    "id": "5d16ca2f-e65a-476f-9564-dfcc6d419bf9"
   },
   "source": [
    "> 💡 Experiemnt with different `query` to see how well the `Keyword-based Retriever` works on vague query and non-direct match\n",
    ">\n",
    "> - What is the drawbacks of this approach?\n",
    ">\n",
    "> - What if we change the parameter `k` to 6. Are all of those results make sense based on the query?\n",
    ">\n",
    "> - Any ideas / thoughts on how we can select those results that are more relevant to the query?\n",
    "---"
   ]
  },
  {
   "cell_type": "markdown",
   "id": "bc881409-e987-41fc-aab6-9e2761236473",
   "metadata": {
    "id": "bc881409-e987-41fc-aab6-9e2761236473"
   },
   "source": [
    "## Use Case #2: Building Predictive Models with Semantic Meanings of Text"
   ]
  },
  {
   "cell_type": "markdown",
   "id": "99e15ca4-78e1-4f54-832a-c57441387bbb",
   "metadata": {
    "id": "99e15ca4-78e1-4f54-832a-c57441387bbb"
   },
   "source": [
    "---\n",
    "\n",
    "We are preparing the data for our machine learning model later,\n",
    "where we want to use the \"description of the product\" to derive at the classification of the products\n",
    "e.g., is it `productivity`, `cybersecurity`, `analytics` or other categories"
   ]
  },
  {
   "cell_type": "code",
   "execution_count": null,
   "id": "inQZn67k0TJW",
   "metadata": {
    "id": "inQZn67k0TJW"
   },
   "outputs": [],
   "source": [
    "import pandas as pd"
   ]
  },
  {
   "cell_type": "code",
   "execution_count": null,
   "id": "e53e3fbf-0533-4937-a004-c29c3bacf3f9",
   "metadata": {
    "id": "e53e3fbf-0533-4937-a004-c29c3bacf3f9",
    "outputId": "d01b8d2a-38fb-45bc-ba03-96809939b547"
   },
   "outputs": [
    {
     "data": {
      "text/html": [
       "<div>\n",
       "<style scoped>\n",
       "    .dataframe tbody tr th:only-of-type {\n",
       "        vertical-align: middle;\n",
       "    }\n",
       "\n",
       "    .dataframe tbody tr th {\n",
       "        vertical-align: top;\n",
       "    }\n",
       "\n",
       "    .dataframe thead th {\n",
       "        text-align: right;\n",
       "    }\n",
       "</style>\n",
       "<table border=\"1\" class=\"dataframe\">\n",
       "  <thead>\n",
       "    <tr style=\"text-align: right;\">\n",
       "      <th></th>\n",
       "      <th>label</th>\n",
       "      <th>text</th>\n",
       "    </tr>\n",
       "  </thead>\n",
       "  <tbody>\n",
       "    <tr>\n",
       "      <th>32</th>\n",
       "      <td>Productivity</td>\n",
       "      <td>Cloak – The Central Privacy Toolkit for Policy...</td>\n",
       "    </tr>\n",
       "    <tr>\n",
       "      <th>33</th>\n",
       "      <td>DevOps</td>\n",
       "      <td>Container Stack (CStack) – Managed Platform fo...</td>\n",
       "    </tr>\n",
       "    <tr>\n",
       "      <th>34</th>\n",
       "      <td>Data and APIs</td>\n",
       "      <td>Data.gov.sg — The One-Stop Open Data Portal fo...</td>\n",
       "    </tr>\n",
       "    <tr>\n",
       "      <th>35</th>\n",
       "      <td>Analytics</td>\n",
       "      <td>GovText – The Whole-of-Government Text Analyti...</td>\n",
       "    </tr>\n",
       "    <tr>\n",
       "      <th>36</th>\n",
       "      <td>Data and APIs</td>\n",
       "      <td>Monetary Authority of Singapore (MAS) APIs - S...</td>\n",
       "    </tr>\n",
       "    <tr>\n",
       "      <th>37</th>\n",
       "      <td>Analytics</td>\n",
       "      <td>Whole-of-Government Application Analytics (WOG...</td>\n",
       "    </tr>\n",
       "    <tr>\n",
       "      <th>38</th>\n",
       "      <td>Data and APIs</td>\n",
       "      <td>Vault - A Central Data Discovery and Distribut...</td>\n",
       "    </tr>\n",
       "    <tr>\n",
       "      <th>39</th>\n",
       "      <td>Productivity</td>\n",
       "      <td>Transcribe provides auto-transcription and loc...</td>\n",
       "    </tr>\n",
       "    <tr>\n",
       "      <th>40</th>\n",
       "      <td>Data and APIs</td>\n",
       "      <td>SingStat Table Builder. The SingStat Table Bui...</td>\n",
       "    </tr>\n",
       "    <tr>\n",
       "      <th>41</th>\n",
       "      <td>Productivity</td>\n",
       "      <td>Postman — Deliver Messages to Citizens in Minu...</td>\n",
       "    </tr>\n",
       "  </tbody>\n",
       "</table>\n",
       "</div>"
      ],
      "text/plain": [
       "            label                                               text\n",
       "32   Productivity  Cloak – The Central Privacy Toolkit for Policy...\n",
       "33         DevOps  Container Stack (CStack) – Managed Platform fo...\n",
       "34  Data and APIs  Data.gov.sg — The One-Stop Open Data Portal fo...\n",
       "35      Analytics  GovText – The Whole-of-Government Text Analyti...\n",
       "36  Data and APIs  Monetary Authority of Singapore (MAS) APIs - S...\n",
       "37      Analytics  Whole-of-Government Application Analytics (WOG...\n",
       "38  Data and APIs  Vault - A Central Data Discovery and Distribut...\n",
       "39   Productivity  Transcribe provides auto-transcription and loc...\n",
       "40  Data and APIs  SingStat Table Builder. The SingStat Table Bui...\n",
       "41   Productivity  Postman — Deliver Messages to Citizens in Minu..."
      ]
     },
     "execution_count": 49,
     "metadata": {},
     "output_type": "execute_result"
    }
   ],
   "source": [
    "df = pd.read_csv(\"digital_products.csv\")\n",
    "\n",
    "# Display the first 10 rows of the dataframe\n",
    "df[-10:]"
   ]
  },
  {
   "cell_type": "code",
   "execution_count": null,
   "id": "d46adcfb-8b02-43db-870c-47868134e8a2",
   "metadata": {
    "id": "d46adcfb-8b02-43db-870c-47868134e8a2"
   },
   "outputs": [],
   "source": [
    "# Get the embeddings of the \"description\" (text column)\n",
    "embeddings_vector_prods = get_embedding(df.text)"
   ]
  },
  {
   "cell_type": "code",
   "execution_count": null,
   "id": "188e1f57-cab5-4daa-bac1-96bf402ebc91",
   "metadata": {
    "id": "188e1f57-cab5-4daa-bac1-96bf402ebc91"
   },
   "outputs": [],
   "source": [
    "from sklearn.model_selection import train_test_split\n",
    "from sklearn.preprocessing import StandardScaler\n",
    "from sklearn.ensemble import RandomForestClassifier\n",
    "from sklearn.metrics import confusion_matrix, accuracy_score"
   ]
  },
  {
   "cell_type": "code",
   "execution_count": null,
   "id": "b9b9851b-c330-4e17-907f-d6c6fbb22d06",
   "metadata": {
    "id": "b9b9851b-c330-4e17-907f-d6c6fbb22d06"
   },
   "outputs": [],
   "source": [
    "# Split your data into training and testing sets\n",
    "X_train, X_test, y_train, y_test = train_test_split(embeddings_vector_prods, df.label, test_size=0.3, random_state=42)"
   ]
  },
  {
   "cell_type": "code",
   "execution_count": null,
   "id": "d0f8d316-cab6-47f3-977f-797dd3bcaec6",
   "metadata": {
    "id": "d0f8d316-cab6-47f3-977f-797dd3bcaec6"
   },
   "outputs": [],
   "source": [
    "# Choose a model\n",
    "classifier = RandomForestClassifier(max_depth=3, n_estimators=100, random_state=42)"
   ]
  },
  {
   "cell_type": "code",
   "execution_count": null,
   "id": "486ebc7f-6211-409b-9671-ea367867b01f",
   "metadata": {
    "id": "486ebc7f-6211-409b-9671-ea367867b01f",
    "outputId": "2e607e95-187a-48ce-dccb-48c2c1cd6892"
   },
   "outputs": [
    {
     "data": {
      "text/html": [
       "<style>#sk-container-id-1 {\n",
       "  /* Definition of color scheme common for light and dark mode */\n",
       "  --sklearn-color-text: black;\n",
       "  --sklearn-color-line: gray;\n",
       "  /* Definition of color scheme for unfitted estimators */\n",
       "  --sklearn-color-unfitted-level-0: #fff5e6;\n",
       "  --sklearn-color-unfitted-level-1: #f6e4d2;\n",
       "  --sklearn-color-unfitted-level-2: #ffe0b3;\n",
       "  --sklearn-color-unfitted-level-3: chocolate;\n",
       "  /* Definition of color scheme for fitted estimators */\n",
       "  --sklearn-color-fitted-level-0: #f0f8ff;\n",
       "  --sklearn-color-fitted-level-1: #d4ebff;\n",
       "  --sklearn-color-fitted-level-2: #b3dbfd;\n",
       "  --sklearn-color-fitted-level-3: cornflowerblue;\n",
       "\n",
       "  /* Specific color for light theme */\n",
       "  --sklearn-color-text-on-default-background: var(--sg-text-color, var(--theme-code-foreground, var(--jp-content-font-color1, black)));\n",
       "  --sklearn-color-background: var(--sg-background-color, var(--theme-background, var(--jp-layout-color0, white)));\n",
       "  --sklearn-color-border-box: var(--sg-text-color, var(--theme-code-foreground, var(--jp-content-font-color1, black)));\n",
       "  --sklearn-color-icon: #696969;\n",
       "\n",
       "  @media (prefers-color-scheme: dark) {\n",
       "    /* Redefinition of color scheme for dark theme */\n",
       "    --sklearn-color-text-on-default-background: var(--sg-text-color, var(--theme-code-foreground, var(--jp-content-font-color1, white)));\n",
       "    --sklearn-color-background: var(--sg-background-color, var(--theme-background, var(--jp-layout-color0, #111)));\n",
       "    --sklearn-color-border-box: var(--sg-text-color, var(--theme-code-foreground, var(--jp-content-font-color1, white)));\n",
       "    --sklearn-color-icon: #878787;\n",
       "  }\n",
       "}\n",
       "\n",
       "#sk-container-id-1 {\n",
       "  color: var(--sklearn-color-text);\n",
       "}\n",
       "\n",
       "#sk-container-id-1 pre {\n",
       "  padding: 0;\n",
       "}\n",
       "\n",
       "#sk-container-id-1 input.sk-hidden--visually {\n",
       "  border: 0;\n",
       "  clip: rect(1px 1px 1px 1px);\n",
       "  clip: rect(1px, 1px, 1px, 1px);\n",
       "  height: 1px;\n",
       "  margin: -1px;\n",
       "  overflow: hidden;\n",
       "  padding: 0;\n",
       "  position: absolute;\n",
       "  width: 1px;\n",
       "}\n",
       "\n",
       "#sk-container-id-1 div.sk-dashed-wrapped {\n",
       "  border: 1px dashed var(--sklearn-color-line);\n",
       "  margin: 0 0.4em 0.5em 0.4em;\n",
       "  box-sizing: border-box;\n",
       "  padding-bottom: 0.4em;\n",
       "  background-color: var(--sklearn-color-background);\n",
       "}\n",
       "\n",
       "#sk-container-id-1 div.sk-container {\n",
       "  /* jupyter's `normalize.less` sets `[hidden] { display: none; }`\n",
       "     but bootstrap.min.css set `[hidden] { display: none !important; }`\n",
       "     so we also need the `!important` here to be able to override the\n",
       "     default hidden behavior on the sphinx rendered scikit-learn.org.\n",
       "     See: https://github.com/scikit-learn/scikit-learn/issues/21755 */\n",
       "  display: inline-block !important;\n",
       "  position: relative;\n",
       "}\n",
       "\n",
       "#sk-container-id-1 div.sk-text-repr-fallback {\n",
       "  display: none;\n",
       "}\n",
       "\n",
       "div.sk-parallel-item,\n",
       "div.sk-serial,\n",
       "div.sk-item {\n",
       "  /* draw centered vertical line to link estimators */\n",
       "  background-image: linear-gradient(var(--sklearn-color-text-on-default-background), var(--sklearn-color-text-on-default-background));\n",
       "  background-size: 2px 100%;\n",
       "  background-repeat: no-repeat;\n",
       "  background-position: center center;\n",
       "}\n",
       "\n",
       "/* Parallel-specific style estimator block */\n",
       "\n",
       "#sk-container-id-1 div.sk-parallel-item::after {\n",
       "  content: \"\";\n",
       "  width: 100%;\n",
       "  border-bottom: 2px solid var(--sklearn-color-text-on-default-background);\n",
       "  flex-grow: 1;\n",
       "}\n",
       "\n",
       "#sk-container-id-1 div.sk-parallel {\n",
       "  display: flex;\n",
       "  align-items: stretch;\n",
       "  justify-content: center;\n",
       "  background-color: var(--sklearn-color-background);\n",
       "  position: relative;\n",
       "}\n",
       "\n",
       "#sk-container-id-1 div.sk-parallel-item {\n",
       "  display: flex;\n",
       "  flex-direction: column;\n",
       "}\n",
       "\n",
       "#sk-container-id-1 div.sk-parallel-item:first-child::after {\n",
       "  align-self: flex-end;\n",
       "  width: 50%;\n",
       "}\n",
       "\n",
       "#sk-container-id-1 div.sk-parallel-item:last-child::after {\n",
       "  align-self: flex-start;\n",
       "  width: 50%;\n",
       "}\n",
       "\n",
       "#sk-container-id-1 div.sk-parallel-item:only-child::after {\n",
       "  width: 0;\n",
       "}\n",
       "\n",
       "/* Serial-specific style estimator block */\n",
       "\n",
       "#sk-container-id-1 div.sk-serial {\n",
       "  display: flex;\n",
       "  flex-direction: column;\n",
       "  align-items: center;\n",
       "  background-color: var(--sklearn-color-background);\n",
       "  padding-right: 1em;\n",
       "  padding-left: 1em;\n",
       "}\n",
       "\n",
       "\n",
       "/* Toggleable style: style used for estimator/Pipeline/ColumnTransformer box that is\n",
       "clickable and can be expanded/collapsed.\n",
       "- Pipeline and ColumnTransformer use this feature and define the default style\n",
       "- Estimators will overwrite some part of the style using the `sk-estimator` class\n",
       "*/\n",
       "\n",
       "/* Pipeline and ColumnTransformer style (default) */\n",
       "\n",
       "#sk-container-id-1 div.sk-toggleable {\n",
       "  /* Default theme specific background. It is overwritten whether we have a\n",
       "  specific estimator or a Pipeline/ColumnTransformer */\n",
       "  background-color: var(--sklearn-color-background);\n",
       "}\n",
       "\n",
       "/* Toggleable label */\n",
       "#sk-container-id-1 label.sk-toggleable__label {\n",
       "  cursor: pointer;\n",
       "  display: block;\n",
       "  width: 100%;\n",
       "  margin-bottom: 0;\n",
       "  padding: 0.5em;\n",
       "  box-sizing: border-box;\n",
       "  text-align: center;\n",
       "}\n",
       "\n",
       "#sk-container-id-1 label.sk-toggleable__label-arrow:before {\n",
       "  /* Arrow on the left of the label */\n",
       "  content: \"▸\";\n",
       "  float: left;\n",
       "  margin-right: 0.25em;\n",
       "  color: var(--sklearn-color-icon);\n",
       "}\n",
       "\n",
       "#sk-container-id-1 label.sk-toggleable__label-arrow:hover:before {\n",
       "  color: var(--sklearn-color-text);\n",
       "}\n",
       "\n",
       "/* Toggleable content - dropdown */\n",
       "\n",
       "#sk-container-id-1 div.sk-toggleable__content {\n",
       "  max-height: 0;\n",
       "  max-width: 0;\n",
       "  overflow: hidden;\n",
       "  text-align: left;\n",
       "  /* unfitted */\n",
       "  background-color: var(--sklearn-color-unfitted-level-0);\n",
       "}\n",
       "\n",
       "#sk-container-id-1 div.sk-toggleable__content.fitted {\n",
       "  /* fitted */\n",
       "  background-color: var(--sklearn-color-fitted-level-0);\n",
       "}\n",
       "\n",
       "#sk-container-id-1 div.sk-toggleable__content pre {\n",
       "  margin: 0.2em;\n",
       "  border-radius: 0.25em;\n",
       "  color: var(--sklearn-color-text);\n",
       "  /* unfitted */\n",
       "  background-color: var(--sklearn-color-unfitted-level-0);\n",
       "}\n",
       "\n",
       "#sk-container-id-1 div.sk-toggleable__content.fitted pre {\n",
       "  /* unfitted */\n",
       "  background-color: var(--sklearn-color-fitted-level-0);\n",
       "}\n",
       "\n",
       "#sk-container-id-1 input.sk-toggleable__control:checked~div.sk-toggleable__content {\n",
       "  /* Expand drop-down */\n",
       "  max-height: 200px;\n",
       "  max-width: 100%;\n",
       "  overflow: auto;\n",
       "}\n",
       "\n",
       "#sk-container-id-1 input.sk-toggleable__control:checked~label.sk-toggleable__label-arrow:before {\n",
       "  content: \"▾\";\n",
       "}\n",
       "\n",
       "/* Pipeline/ColumnTransformer-specific style */\n",
       "\n",
       "#sk-container-id-1 div.sk-label input.sk-toggleable__control:checked~label.sk-toggleable__label {\n",
       "  color: var(--sklearn-color-text);\n",
       "  background-color: var(--sklearn-color-unfitted-level-2);\n",
       "}\n",
       "\n",
       "#sk-container-id-1 div.sk-label.fitted input.sk-toggleable__control:checked~label.sk-toggleable__label {\n",
       "  background-color: var(--sklearn-color-fitted-level-2);\n",
       "}\n",
       "\n",
       "/* Estimator-specific style */\n",
       "\n",
       "/* Colorize estimator box */\n",
       "#sk-container-id-1 div.sk-estimator input.sk-toggleable__control:checked~label.sk-toggleable__label {\n",
       "  /* unfitted */\n",
       "  background-color: var(--sklearn-color-unfitted-level-2);\n",
       "}\n",
       "\n",
       "#sk-container-id-1 div.sk-estimator.fitted input.sk-toggleable__control:checked~label.sk-toggleable__label {\n",
       "  /* fitted */\n",
       "  background-color: var(--sklearn-color-fitted-level-2);\n",
       "}\n",
       "\n",
       "#sk-container-id-1 div.sk-label label.sk-toggleable__label,\n",
       "#sk-container-id-1 div.sk-label label {\n",
       "  /* The background is the default theme color */\n",
       "  color: var(--sklearn-color-text-on-default-background);\n",
       "}\n",
       "\n",
       "/* On hover, darken the color of the background */\n",
       "#sk-container-id-1 div.sk-label:hover label.sk-toggleable__label {\n",
       "  color: var(--sklearn-color-text);\n",
       "  background-color: var(--sklearn-color-unfitted-level-2);\n",
       "}\n",
       "\n",
       "/* Label box, darken color on hover, fitted */\n",
       "#sk-container-id-1 div.sk-label.fitted:hover label.sk-toggleable__label.fitted {\n",
       "  color: var(--sklearn-color-text);\n",
       "  background-color: var(--sklearn-color-fitted-level-2);\n",
       "}\n",
       "\n",
       "/* Estimator label */\n",
       "\n",
       "#sk-container-id-1 div.sk-label label {\n",
       "  font-family: monospace;\n",
       "  font-weight: bold;\n",
       "  display: inline-block;\n",
       "  line-height: 1.2em;\n",
       "}\n",
       "\n",
       "#sk-container-id-1 div.sk-label-container {\n",
       "  text-align: center;\n",
       "}\n",
       "\n",
       "/* Estimator-specific */\n",
       "#sk-container-id-1 div.sk-estimator {\n",
       "  font-family: monospace;\n",
       "  border: 1px dotted var(--sklearn-color-border-box);\n",
       "  border-radius: 0.25em;\n",
       "  box-sizing: border-box;\n",
       "  margin-bottom: 0.5em;\n",
       "  /* unfitted */\n",
       "  background-color: var(--sklearn-color-unfitted-level-0);\n",
       "}\n",
       "\n",
       "#sk-container-id-1 div.sk-estimator.fitted {\n",
       "  /* fitted */\n",
       "  background-color: var(--sklearn-color-fitted-level-0);\n",
       "}\n",
       "\n",
       "/* on hover */\n",
       "#sk-container-id-1 div.sk-estimator:hover {\n",
       "  /* unfitted */\n",
       "  background-color: var(--sklearn-color-unfitted-level-2);\n",
       "}\n",
       "\n",
       "#sk-container-id-1 div.sk-estimator.fitted:hover {\n",
       "  /* fitted */\n",
       "  background-color: var(--sklearn-color-fitted-level-2);\n",
       "}\n",
       "\n",
       "/* Specification for estimator info (e.g. \"i\" and \"?\") */\n",
       "\n",
       "/* Common style for \"i\" and \"?\" */\n",
       "\n",
       ".sk-estimator-doc-link,\n",
       "a:link.sk-estimator-doc-link,\n",
       "a:visited.sk-estimator-doc-link {\n",
       "  float: right;\n",
       "  font-size: smaller;\n",
       "  line-height: 1em;\n",
       "  font-family: monospace;\n",
       "  background-color: var(--sklearn-color-background);\n",
       "  border-radius: 1em;\n",
       "  height: 1em;\n",
       "  width: 1em;\n",
       "  text-decoration: none !important;\n",
       "  margin-left: 1ex;\n",
       "  /* unfitted */\n",
       "  border: var(--sklearn-color-unfitted-level-1) 1pt solid;\n",
       "  color: var(--sklearn-color-unfitted-level-1);\n",
       "}\n",
       "\n",
       ".sk-estimator-doc-link.fitted,\n",
       "a:link.sk-estimator-doc-link.fitted,\n",
       "a:visited.sk-estimator-doc-link.fitted {\n",
       "  /* fitted */\n",
       "  border: var(--sklearn-color-fitted-level-1) 1pt solid;\n",
       "  color: var(--sklearn-color-fitted-level-1);\n",
       "}\n",
       "\n",
       "/* On hover */\n",
       "div.sk-estimator:hover .sk-estimator-doc-link:hover,\n",
       ".sk-estimator-doc-link:hover,\n",
       "div.sk-label-container:hover .sk-estimator-doc-link:hover,\n",
       ".sk-estimator-doc-link:hover {\n",
       "  /* unfitted */\n",
       "  background-color: var(--sklearn-color-unfitted-level-3);\n",
       "  color: var(--sklearn-color-background);\n",
       "  text-decoration: none;\n",
       "}\n",
       "\n",
       "div.sk-estimator.fitted:hover .sk-estimator-doc-link.fitted:hover,\n",
       ".sk-estimator-doc-link.fitted:hover,\n",
       "div.sk-label-container:hover .sk-estimator-doc-link.fitted:hover,\n",
       ".sk-estimator-doc-link.fitted:hover {\n",
       "  /* fitted */\n",
       "  background-color: var(--sklearn-color-fitted-level-3);\n",
       "  color: var(--sklearn-color-background);\n",
       "  text-decoration: none;\n",
       "}\n",
       "\n",
       "/* Span, style for the box shown on hovering the info icon */\n",
       ".sk-estimator-doc-link span {\n",
       "  display: none;\n",
       "  z-index: 9999;\n",
       "  position: relative;\n",
       "  font-weight: normal;\n",
       "  right: .2ex;\n",
       "  padding: .5ex;\n",
       "  margin: .5ex;\n",
       "  width: min-content;\n",
       "  min-width: 20ex;\n",
       "  max-width: 50ex;\n",
       "  color: var(--sklearn-color-text);\n",
       "  box-shadow: 2pt 2pt 4pt #999;\n",
       "  /* unfitted */\n",
       "  background: var(--sklearn-color-unfitted-level-0);\n",
       "  border: .5pt solid var(--sklearn-color-unfitted-level-3);\n",
       "}\n",
       "\n",
       ".sk-estimator-doc-link.fitted span {\n",
       "  /* fitted */\n",
       "  background: var(--sklearn-color-fitted-level-0);\n",
       "  border: var(--sklearn-color-fitted-level-3);\n",
       "}\n",
       "\n",
       ".sk-estimator-doc-link:hover span {\n",
       "  display: block;\n",
       "}\n",
       "\n",
       "/* \"?\"-specific style due to the `<a>` HTML tag */\n",
       "\n",
       "#sk-container-id-1 a.estimator_doc_link {\n",
       "  float: right;\n",
       "  font-size: 1rem;\n",
       "  line-height: 1em;\n",
       "  font-family: monospace;\n",
       "  background-color: var(--sklearn-color-background);\n",
       "  border-radius: 1rem;\n",
       "  height: 1rem;\n",
       "  width: 1rem;\n",
       "  text-decoration: none;\n",
       "  /* unfitted */\n",
       "  color: var(--sklearn-color-unfitted-level-1);\n",
       "  border: var(--sklearn-color-unfitted-level-1) 1pt solid;\n",
       "}\n",
       "\n",
       "#sk-container-id-1 a.estimator_doc_link.fitted {\n",
       "  /* fitted */\n",
       "  border: var(--sklearn-color-fitted-level-1) 1pt solid;\n",
       "  color: var(--sklearn-color-fitted-level-1);\n",
       "}\n",
       "\n",
       "/* On hover */\n",
       "#sk-container-id-1 a.estimator_doc_link:hover {\n",
       "  /* unfitted */\n",
       "  background-color: var(--sklearn-color-unfitted-level-3);\n",
       "  color: var(--sklearn-color-background);\n",
       "  text-decoration: none;\n",
       "}\n",
       "\n",
       "#sk-container-id-1 a.estimator_doc_link.fitted:hover {\n",
       "  /* fitted */\n",
       "  background-color: var(--sklearn-color-fitted-level-3);\n",
       "}\n",
       "</style><div id=\"sk-container-id-1\" class=\"sk-top-container\"><div class=\"sk-text-repr-fallback\"><pre>RandomForestClassifier(max_depth=3, random_state=42)</pre><b>In a Jupyter environment, please rerun this cell to show the HTML representation or trust the notebook. <br />On GitHub, the HTML representation is unable to render, please try loading this page with nbviewer.org.</b></div><div class=\"sk-container\" hidden><div class=\"sk-item\"><div class=\"sk-estimator fitted sk-toggleable\"><input class=\"sk-toggleable__control sk-hidden--visually\" id=\"sk-estimator-id-1\" type=\"checkbox\" checked><label for=\"sk-estimator-id-1\" class=\"sk-toggleable__label fitted sk-toggleable__label-arrow fitted\">&nbsp;&nbsp;RandomForestClassifier<a class=\"sk-estimator-doc-link fitted\" rel=\"noreferrer\" target=\"_blank\" href=\"https://scikit-learn.org/1.5/modules/generated/sklearn.ensemble.RandomForestClassifier.html\">?<span>Documentation for RandomForestClassifier</span></a><span class=\"sk-estimator-doc-link fitted\">i<span>Fitted</span></span></label><div class=\"sk-toggleable__content fitted\"><pre>RandomForestClassifier(max_depth=3, random_state=42)</pre></div> </div></div></div></div>"
      ],
      "text/plain": [
       "RandomForestClassifier(max_depth=3, random_state=42)"
      ]
     },
     "execution_count": 54,
     "metadata": {},
     "output_type": "execute_result"
    }
   ],
   "source": [
    "# Train the model\n",
    "classifier.fit(X_train, y_train)"
   ]
  },
  {
   "cell_type": "code",
   "execution_count": null,
   "id": "8eb98c54-82be-4494-a6ae-f64e2baa0c5d",
   "metadata": {
    "id": "8eb98c54-82be-4494-a6ae-f64e2baa0c5d",
    "outputId": "c43bebed-cd6b-40a0-bcff-d372f9d2b74b"
   },
   "outputs": [
    {
     "name": "stdout",
     "output_type": "stream",
     "text": [
      "[[4 0 1 0 0]\n",
      " [0 1 1 0 0]\n",
      " [0 0 3 0 0]\n",
      " [0 0 1 0 0]\n",
      " [0 0 1 0 1]]\n"
     ]
    }
   ],
   "source": [
    "# Evaluate the model\n",
    "y_pred = classifier.predict(X_test)\n",
    "print(confusion_matrix(y_test, y_pred))"
   ]
  },
  {
   "cell_type": "code",
   "execution_count": null,
   "id": "e2050bb6-c261-44f4-bf09-246b4be8dc30",
   "metadata": {
    "id": "e2050bb6-c261-44f4-bf09-246b4be8dc30",
    "outputId": "466603c7-1f7d-4619-f705-2d47a36cb048"
   },
   "outputs": [
    {
     "name": "stdout",
     "output_type": "stream",
     "text": [
      "0.6923076923076923\n"
     ]
    }
   ],
   "source": [
    "# Print out the Accuracy of the Model in predicting the \"cateogry of the products'\n",
    "# Based on the limited training data, this is actual not a bad accuracy score\n",
    "print(accuracy_score(y_test, y_pred))\n"
   ]
  },
  {
   "cell_type": "markdown",
   "id": "14723d1e-a731-4586-a135-45f5346ca304",
   "metadata": {
    "id": "14723d1e-a731-4586-a135-45f5346ca304"
   },
   "source": [
    "---\n",
    "---\n",
    "\n",
    "<br>\n",
    "\n",
    "    "
   ]
  },
  {
   "cell_type": "markdown",
   "id": "7b277698-0d1c-471f-ab66-9688c59075c0",
   "metadata": {
    "id": "7b277698-0d1c-471f-ab66-9688c59075c0"
   },
   "source": [
    "## Use Case #3: Retrieval-Augmented Generation"
   ]
  },
  {
   "cell_type": "markdown",
   "id": "01d0b1d6-fd8c-4ddf-8190-fac5b1f67ee8",
   "metadata": {
    "id": "01d0b1d6-fd8c-4ddf-8190-fac5b1f67ee8"
   },
   "source": [
    "**\\[ Why Context Augmentation? \\]**\n",
    "\n",
    "- LLMs offer a natural language interface between humans and data. Widely available models come pre-trained on huge amounts of publicly available data like Wikipedia, mailing lists, textbooks, source code and more.\n",
    "\n",
    "- However, while LLMs are trained on a great deal of data, they are not trained on your data, which may be private or specific to the problem you’re trying to solve. It’s behind APIs, in SQL databases, or trapped in PDFs and slide decks.\n",
    "\n",
    "- You may choose to fine-tune a LLM with your data, but:\n",
    "    - Training a LLM is expensive.\n",
    "    - Due to the cost to train, it’s hard to update a LLM with latest information.\n",
    "    - Observability is lacking. When you ask a LLM a question, it’s not obvious how the LLM arrived at its answer.\n",
    "\n",
    "- Instead of fine-tuning, one can use a context augmentation pattern called Retrieval-Augmented Generation (RAG) to obtain more accurate text generation relevant to your specific data. RAG involves the following high level steps:\n",
    "\n",
    "    1. Retrieve information from your data sources first,\n",
    "    2. Add it to your question as context, and\n",
    "    3. Ask the LLM to answer based on the enriched prompt.\n",
    "\n",
    "- In doing so, RAG overcomes all three weaknesses of the fine-tuning approach:\n",
    "    - There’s no training involved, so it’s cheap.\n",
    "    - Data is fetched only when you ask for them, so it’s always up to date.\n",
    "    - LlamaIndex can show you the retrieved documents, so it’s more trustworthy.\n",
    "\n",
    "---\n",
    "\n",
    "**\\[ Why LangChain for Context Augmentation? \\]**\n",
    "\n",
    "- Firstly, LangChain imposes no restriction on how you use LLMs. You can still use LLMs as auto-complete, chatbots, semi-autonomous agents, and more (see Use Cases on the left). It only makes LLMs more relevant to you.\n",
    "\n",
    "- LangChain provides the following tools to help you quickly stand up production-ready RAG systems:\n",
    "\n",
    "- Data connectors ingest your existing data from their native source and format. These could be APIs, PDFs, SQL, and (much) more.\n",
    "\n",
    "- Data indexes structure your data in intermediate representations that are easy and performant for LLMs to consume.\n",
    "\n",
    "- Engines provide natural language access to your data. For example:\n",
    "\n",
    "- Query engines are powerful retrieval interfaces for knowledge-augmented output.\n",
    "\n",
    "---\n",
    "\n",
    "**\\[ Overview of Steps in RAG \\]**\n",
    "\n",
    "- 1. **Document Loading**\n",
    "\t- In this initial step, relevant documents are ingested and prepared for further processing. This process typically occurs offline.\n",
    "- 2. **Splitting & Chunking**\n",
    "\t- The text from the documents is split into smaller chunks or segments.\n",
    "\t- These chunks serve as the building blocks for subsequent stages.\n",
    "- 3. **Storage**\n",
    "\t- The embeddings (vector representations) of these chunks are created and stored in a vector store.\n",
    "\t- These embeddings capture the semantic meaning of the text.\n",
    "- 4. **Retrieval**\n",
    "\t- When an online query arrives, the system retrieves relevant chunks from the vector store based on the query.\n",
    "\t- This retrieval step ensures that the system identifies the most pertinent information.\n",
    "- 5. **Output**\n",
    "\t- Finally, the retrieved chunks are used to generate a coherent response.\n",
    "\t- This output can be in the form of natural language text, summaries, or other relevant content."
   ]
  },
  {
   "cell_type": "markdown",
   "id": "36ed30cb-0680-4087-8abd-9820973d9b41",
   "metadata": {
    "id": "36ed30cb-0680-4087-8abd-9820973d9b41"
   },
   "source": [
    "![](https://abc-notes.data.tech.gov.sg/resources/img/topic-4-rag-overview.png)"
   ]
  },
  {
   "cell_type": "code",
   "execution_count": null,
   "id": "986c7bbd",
   "metadata": {
    "id": "986c7bbd"
   },
   "outputs": [],
   "source": [
    "# Copied from above for ease-of-reference\n",
    "import os\n",
    "\n",
    "os.environ[\"OPENAI_API_KEY\"] = API_KEY"
   ]
  },
  {
   "cell_type": "markdown",
   "id": "ac353cf7-682d-4f7e-ac78-af2dbd8bc59c",
   "metadata": {
    "id": "ac353cf7-682d-4f7e-ac78-af2dbd8bc59c"
   },
   "source": [
    "### Document Loading"
   ]
  },
  {
   "cell_type": "markdown",
   "id": "946a4a1a-8d48-46a5-8c9a-4981ddc9fe68",
   "metadata": {
    "id": "946a4a1a-8d48-46a5-8c9a-4981ddc9fe68"
   },
   "source": [
    "- Use document loaders to load data from a source as Document's.\n",
    "  - A Document is a piece of text and associated metadata.\n",
    "  - For example, there are document loaders for loading a simple .txt file, for loading the text contents of any web page, or even for loading a transcript of a YouTube video.\n",
    "\n",
    "- See [official documentation on LangChain's Document Loaders](https://python.langchain.com/docs/modules/data_connection/document_loaders) for different kinds of loaders for different sources."
   ]
  },
  {
   "cell_type": "code",
   "execution_count": null,
   "id": "72527ff4-3336-4a56-9a93-cb340b2aa19b",
   "metadata": {
    "ExecuteTime": {
     "end_time": "2024-04-18T10:14:46.575607Z",
     "start_time": "2024-04-18T10:14:43.907642Z"
    },
    "id": "72527ff4-3336-4a56-9a93-cb340b2aa19b"
   },
   "outputs": [],
   "source": [
    "# In this example, we will load the Prompt Engineering Playbook\n",
    "\n",
    "from langchain.document_loaders import PyPDFLoader\n",
    "loader = PyPDFLoader(\"https://www.developer.tech.gov.sg/products/collections/data-science-and-artificial-intelligence/playbooks/prompt-engineering-playbook-beta-v3.pdf\")\n",
    "pages = loader.load()"
   ]
  },
  {
   "cell_type": "markdown",
   "id": "50fed09a-eb25-48fa-a9d4-74fa83107398",
   "metadata": {
    "id": "50fed09a-eb25-48fa-a9d4-74fa83107398"
   },
   "source": [
    "- Each page is a `Document` object.\n",
    "- A `Document` contains text (`page_content`) and `metadata`."
   ]
  },
  {
   "cell_type": "code",
   "execution_count": null,
   "id": "4ecd7b5b-da42-4e2f-911f-86c51ed3e3db",
   "metadata": {
    "ExecuteTime": {
     "end_time": "2024-04-18T10:14:49.480517Z",
     "start_time": "2024-04-18T10:14:49.477210Z"
    },
    "id": "4ecd7b5b-da42-4e2f-911f-86c51ed3e3db",
    "outputId": "31bac4f0-c2fe-4ca2-dd27-a90365ad4a32"
   },
   "outputs": [
    {
     "data": {
      "text/plain": [
       "Document(metadata={'source': 'https://www.developer.tech.gov.sg/products/collections/data-science-and-artificial-intelligence/playbooks/prompt-engineering-playbook-beta-v3.pdf', 'page': 0}, page_content='  \\n \\n \\nPROMPT ENGINEERING PLAYBOOK  \\n(Beta  v3) \\nLast updated 30 Aug 2023  \\nProduced By GovTech Data Science & AI Division  \\n \\nThis version has been altered for public consumption. Public officers should check out LaunchPad \\ndirectly to download the contextualised version of this Playbook for Public Service.  \\n \\n')"
      ]
     },
     "execution_count": 10,
     "metadata": {},
     "output_type": "execute_result"
    }
   ],
   "source": [
    "# Display the first page of the document\n",
    "pages[0]"
   ]
  },
  {
   "cell_type": "code",
   "execution_count": null,
   "id": "919a4715-c0fd-4787-a33a-f3fd894eba95",
   "metadata": {
    "ExecuteTime": {
     "end_time": "2024-04-18T10:14:51.062697Z",
     "start_time": "2024-04-18T10:14:51.058356Z"
    },
    "id": "919a4715-c0fd-4787-a33a-f3fd894eba95",
    "outputId": "1a130e4d-8597-45a9-a414-a8aff91d1d58"
   },
   "outputs": [
    {
     "data": {
      "text/plain": [
       "{'source': 'https://www.developer.tech.gov.sg/products/collections/data-science-and-artificial-intelligence/playbooks/prompt-engineering-playbook-beta-v3.pdf',\n",
       " 'page': 0}"
      ]
     },
     "execution_count": 11,
     "metadata": {},
     "output_type": "execute_result"
    }
   ],
   "source": [
    "# Display the metadata of the first page\n",
    "pages[0].metadata"
   ]
  },
  {
   "cell_type": "code",
   "execution_count": null,
   "id": "a7c2fb1f",
   "metadata": {
    "id": "a7c2fb1f",
    "outputId": "13fc4bd0-b5f4-438b-c831-1f69daab52f3"
   },
   "outputs": [
    {
     "data": {
      "text/plain": [
       "'  \\n \\n \\nPROMPT ENGINEERING PLAYBOOK  \\n(Beta  v3) \\nLast updated 30 Aug 2023  \\nProduced By GovTech Data Science & AI Division  \\n \\nThis version has been altered for public consumption. Public officers should check out LaunchPad \\ndirectly to download the contextualised version of this Playbook for Public Service.  \\n \\n'"
      ]
     },
     "execution_count": 12,
     "metadata": {},
     "output_type": "execute_result"
    }
   ],
   "source": [
    "# Display the content of the first page\n",
    "pages[0].page_content"
   ]
  },
  {
   "cell_type": "code",
   "execution_count": null,
   "id": "65ea21d6-ab0e-42ff-9eb7-2815ccc3d1bd",
   "metadata": {
    "ExecuteTime": {
     "end_time": "2024-04-18T10:14:54.729619Z",
     "start_time": "2024-04-18T10:14:52.174249Z"
    },
    "id": "65ea21d6-ab0e-42ff-9eb7-2815ccc3d1bd",
    "outputId": "4fad10e3-ae80-4255-f055-da42fea0d546"
   },
   "outputs": [
    {
     "name": "stdout",
     "output_type": "stream",
     "text": [
      "There are total of 23623 tokens\n"
     ]
    }
   ],
   "source": [
    "# Let's count how many tokens are there\n",
    "# by summing all the token counts from every page\n",
    "import numpy as np\n",
    "\n",
    "list_of_tokencounts = []\n",
    "for page in pages:\n",
    "    # Count the tokens in the content of each page\n",
    "    # then append the count to the list\n",
    "    list_of_tokencounts.append(count_tokens(page.page_content))\n",
    "\n",
    "# Sum the token counts from all pages\n",
    "print(f\"There are total of {np.sum(list_of_tokencounts)} tokens\")"
   ]
  },
  {
   "cell_type": "code",
   "execution_count": null,
   "id": "176bc808-1e13-4cb5-9270-a62b00d2840e",
   "metadata": {
    "ExecuteTime": {
     "end_time": "2024-04-18T10:15:04.884820Z",
     "start_time": "2024-04-18T10:15:04.880352Z"
    },
    "id": "176bc808-1e13-4cb5-9270-a62b00d2840e",
    "outputId": "676d8eab-96b7-419f-c434-048229f7ffed"
   },
   "outputs": [
    {
     "data": {
      "text/plain": [
       "176.2910447761194"
      ]
     },
     "execution_count": 14,
     "metadata": {},
     "output_type": "execute_result"
    }
   ],
   "source": [
    "# On average, each page has the following number of tokens\n",
    "# This information can be useful for us to decide on the spilting & chunking strategies\n",
    "np.average(list_of_tokencounts)"
   ]
  },
  {
   "cell_type": "markdown",
   "id": "34fd8495-8a27-4b9f-9159-66ea421c48c0",
   "metadata": {
    "id": "34fd8495-8a27-4b9f-9159-66ea421c48c0"
   },
   "source": [
    "### Splitting & Chunking"
   ]
  },
  {
   "cell_type": "markdown",
   "id": "8d33c8a4-43a1-4332-b041-87df378a88df",
   "metadata": {
    "id": "8d33c8a4-43a1-4332-b041-87df378a88df"
   },
   "source": [
    "![](https://abc-notes.data.tech.gov.sg/resources/img/topic-4-rag-spliting.png)\n",
    "\n"
   ]
  },
  {
   "cell_type": "markdown",
   "id": "4da42867-84fb-4503-83be-c1b00cdf5a5b",
   "metadata": {
    "id": "4da42867-84fb-4503-83be-c1b00cdf5a5b"
   },
   "source": [
    "**[ Different Types of Spliters ]**\n",
    "\n",
    "When working with large chunks of text, breaking them down into smaller, more manageable units is crucial for effective analysis and processing. This is where text splitters come in.\n",
    "Text splitters are algorithms designed to segment text based on specific criteria, ensuring that the resulting chunks are coherent and meaningful. However, with a variety of splitters available, selecting the right one for your needs can be daunting.\n",
    "\n",
    "\n",
    "**Factors to Consider**:\n",
    "- **Text Structure**: Is your text unstructured, or does it follow a specific format like Markdown or HTML?\n",
    "- **Desired Chunk Size**: Are you looking for sentence-level splits, paragraph-level splits, or something else entirely?\n",
    "- **Language Specifics**: Does your text contain code snippets or elements specific to a programming language?\n",
    "- **Metadata Requirements**: Do you need the splitter to preserve information about the text's original structure?\n",
    "\n",
    "\n",
    "Let's delve into the different types of splitters and their strengths:\n",
    "- `CharacterTextSplitter()` ->Implementation Of splitting text that looks at characters.\n",
    "\n",
    "- `MarkdownHeaderTextSplitter()` -> lmplementation Of splitting markdown files based on specified headers.\n",
    "\n",
    "- `TokenTextSplitter()` -> lmplementation Of splitting text that looks at tokens.\n",
    "\n",
    "- `SentenceTransformersTokenTextSpIitter()`  -> lmplementation Ofsplitting text that IOOks at tO kens.\n",
    "\n",
    "- `RecursiveCharacterTextSplitted()`  -> lmplementation Of splitting textthat looks at characters. Recursively tries tO split by differentcha racters to find one that works.\n",
    "\n",
    "- `Language()` -> for CPP，Python， Ruby，Markdown, etc\n",
    "\n",
    "- `NLTKTextSpIitter()` -> lmplementation Of splitting text that | 00 ks atsentences using NLTK (Natural l-anguage TOOI Kit)\n",
    "\n",
    "- `SpacyTextSplitter()` -> lmplementation Of splitting text that IOOks atsentences using Spacy\n",
    "\n",
    "|    Name   |               Splits On               | Adds Metadata |                                                                                        Description                                                                                       |\n",
    "|:---------:|:-------------------------------------:|:-------------:|:----------------------------------------------------------------------------------------------------------------------------------------------------------------------------------------:|\n",
    "| Recursive | A list of user defined characters     |               | Recursively splits text. Splitting text recursively serves the purpose of trying to keep related pieces of text next to each other. This is the recommended way to start splitting text. |\n",
    "| HTML      | HTML specific characters              | ✅             | Splits text based on HTML-specific characters. Notably, this adds in relevant information about where that chunk came from (based on the HTML)                                           |\n",
    "| Markdown  | Markdown specific characters          | ✅             | Splits text based on Markdown-specific characters. Notably, this adds in relevant information about where that chunk came from (based on the Markdown)                                   |\n",
    "| Code      | Code (Python, JS) specific characters |               | Splits text based on characters specific to coding languages. 15 different languages are available to choose from.                                                                       |\n",
    "| Token     | Tokens                                |               | Splits text on tokens. There exist a few different ways to measure tokens.                                                                                                               |\n",
    "| Character | A user defined character              |               | Splits text based on a user defined character. One of the simpler methods.                                                                                                               |"
   ]
  },
  {
   "cell_type": "markdown",
   "id": "031da959",
   "metadata": {
    "id": "031da959"
   },
   "source": [
    "---\n",
    "- Instead of using the PDF, let's start with a simple text so we better understand how the splitters work."
   ]
  },
  {
   "cell_type": "code",
   "execution_count": null,
   "id": "c3920473-e640-49fa-9342-ca7dc90fec4f",
   "metadata": {
    "ExecuteTime": {
     "end_time": "2024-04-18T10:15:12.537415Z",
     "start_time": "2024-04-18T10:15:12.519781Z"
    },
    "id": "c3920473-e640-49fa-9342-ca7dc90fec4f",
    "outputId": "cffcf2d8-d000-4cd5-8c9a-6943b1db5e64"
   },
   "outputs": [
    {
     "name": "stdout",
     "output_type": "stream",
     "text": [
      "When writing documents, writers will use document structure to group content. \n",
      "\n",
      "\n",
      "This can convey to the reader, which idea's are related. For example, closely related ideas are in sentances. Similar ideas are in paragraphs. Paragraphs form a document. \n",
      "\n",
      "  \n",
      "Paragraphs are often delimited with a carriage return or two carriage returns. Carriage returns are the \"backslash n\" you see embedded in this string. Sentences have a period at the end, but also, have a space. and words are separated by space.\n"
     ]
    }
   ],
   "source": [
    "# Basic Document Splitting\n",
    "\n",
    "from langchain.text_splitter import CharacterTextSplitter\n",
    "\n",
    "# \\n is a newline character\n",
    "# \"\\\" at the end of the line is used to make sure the text continue on the next line\n",
    "# It allows long statements to be split across multiple lines for improved readability,\n",
    "# preventing the need for horizontal scrolling in code editors.\n",
    "\n",
    "some_text = \"\"\"When writing documents, writers will use document structure to group content. \\n\\n\n",
    "This can convey to the reader, which idea's are related. For example, closely related ideas \\\n",
    "are in sentances. Similar ideas are in paragraphs. Paragraphs form a document. \\n\\n\n",
    "Paragraphs are often delimited with a carriage return or two carriage returns. \\\n",
    "Carriage returns are the \"backslash n\" you see embedded in this string. \\\n",
    "Sentences have a period at the end, but also, have a space. \\\n",
    "and words are separated by space.\"\"\"\n",
    "\n",
    "# \\n\\n is often used to separate paragraphs\n",
    "print(some_text)"
   ]
  },
  {
   "cell_type": "markdown",
   "id": "bbb243de",
   "metadata": {
    "id": "bbb243de"
   },
   "source": [
    "> 💡 How `CharacterTextSpliiter` works\n",
    "> - The CharacterTextSplitter splits text only at designated separators, which are double newline characters (\\n\\n) by default.\n",
    "> - The chunk_size parameter sets the maximum size of each split chunk.\n",
    "> - If a text segment begins with **N** characters, contains a separator, and has **M** more characters before the next separator, the first chunk will be **N** characters long if chunk_size is smaller than the total length of that segment (**N** + **M** + len(separator)).\n",
    "> - If you're interested, you can dive into the workings of the this Class [here](https://github.com/langchain-ai/langchain/blob/253ceca76a027a9c70b51f3ccf5ad5bfad4cf672/libs/text-splitters/langchain_text_splitters/character.py#L9)"
   ]
  },
  {
   "cell_type": "code",
   "execution_count": null,
   "id": "deab7226",
   "metadata": {
    "id": "deab7226",
    "outputId": "478ee123-b197-453c-b367-f8eda3e8d392"
   },
   "outputs": [
    {
     "name": "stderr",
     "output_type": "stream",
     "text": [
      "Created a chunk of size 250, which is longer than the specified 50\n"
     ]
    },
    {
     "data": {
      "text/plain": [
       "[\"When writing documents, writers will use document structure to group content.\\nThis can convey to the reader, which idea's are related. For example, closely related ideas \\nare in sentances. Similar ideas are in paragraphs. Paragraphs form a document.\",\n",
       " 'Paragraphs are often delimited with a carriage return or two carriage returns. \\nCarriage returns are the \"backslash n\" you see embedded in this string. \\nSentences have a period at the end, but also, have a space.\\nand words are separated by space.']"
      ]
     },
     "execution_count": 29,
     "metadata": {},
     "output_type": "execute_result"
    }
   ],
   "source": [
    "# Splitting the text: The split_text method of the r_splitter object is called with some_text as the argument.\n",
    "# This method splits the input text into chunks according to the chunk_size and chunk_overlap parameters specified when the r_splitter object was created.\n",
    "# `CharacterTextSplitter` splits the text into chunks based on \"\\n\\n\"\n",
    "r_splitter = CharacterTextSplitter(\n",
    "    chunk_size=50,\n",
    "    chunk_overlap=5\n",
    ")\n",
    "\n",
    "r_splitter.split_text(some_text)"
   ]
  },
  {
   "cell_type": "code",
   "execution_count": null,
   "id": "7b9fdad1",
   "metadata": {
    "id": "7b9fdad1",
    "outputId": "9ceb2f86-b381-415c-fb64-a97a0e333816"
   },
   "outputs": [
    {
     "data": {
      "text/plain": [
       "['When writing documents, writers will use document',\n",
       " 'document structure to group content.',\n",
       " \"This can convey to the reader, which idea's are\",\n",
       " 'are related. For example, closely related ideas',\n",
       " 'ideas are in sentances. Similar ideas are in',\n",
       " 'are in paragraphs. Paragraphs form a document.',\n",
       " 'Paragraphs are often delimited with a carriage',\n",
       " 'carriage return or two carriage returns. Carriage',\n",
       " 'Carriage returns are the \"backslash n\" you see',\n",
       " 'you see embedded in this string. Sentences have a',\n",
       " 'have a period at the end, but also, have a space.',\n",
       " 'a space. and words are separated by space.']"
      ]
     },
     "execution_count": 79,
     "metadata": {},
     "output_type": "execute_result"
    }
   ],
   "source": [
    "from langchain.text_splitter import RecursiveCharacterTextSplitter\n",
    "\n",
    "text_splitter_ = RecursiveCharacterTextSplitter(\n",
    "    separators=[\"\\n\\n\", \"\\n\", \" \", \"\"],\n",
    "    chunk_size=50,\n",
    "    chunk_overlap=10,\n",
    "\n",
    "    # length_function=count_tokens\n",
    ")\n",
    "\n",
    "text_splitter_.split_text(some_text)\n"
   ]
  },
  {
   "cell_type": "markdown",
   "id": "89101cc1",
   "metadata": {
    "id": "89101cc1"
   },
   "source": [
    "---\n",
    "\n",
    "Now let's go back to our PDF example and apply the `RecursiveCharacterTextSplitter` on the PDF file."
   ]
  },
  {
   "cell_type": "code",
   "execution_count": null,
   "id": "efa10d54-34a4-46f4-a84b-320041e3835c",
   "metadata": {
    "ExecuteTime": {
     "end_time": "2024-04-18T10:15:46.276826Z",
     "start_time": "2024-04-18T10:15:44.926933Z"
    },
    "id": "efa10d54-34a4-46f4-a84b-320041e3835c"
   },
   "outputs": [],
   "source": [
    "# Testing on PDF\n",
    "\n",
    "from langchain.document_loaders import PyPDFLoader\n",
    "\n",
    "loader = PyPDFLoader(\"https://www.developer.tech.gov.sg/products/collections/data-science-and-artificial-intelligence/playbooks/prompt-engineering-playbook-beta-v3.pdf\")\n",
    "pages = loader.load()\n",
    "\n",
    "\n",
    "from langchain.text_splitter import RecursiveCharacterTextSplitter\n",
    "text_splitter = RecursiveCharacterTextSplitter(\n",
    "    separators=[\"\\n\\n\", \"\\n\", \" \", \"\"],\n",
    "    chunk_size=500,\n",
    "    chunk_overlap=50,\n",
    "    length_function=count_tokens\n",
    ")\n",
    "# Note that in this example, we pass the `count_tokens` function as the `length_function` parameter\n",
    "# By doing this, the text_splitter will use the `count_tokens` function to calculate the length of the text (in tokens)\n",
    "# instead of the number of characters (default behavior).\n",
    "\n",
    "\n",
    "splitted_documents = text_splitter.split_documents(pages)"
   ]
  },
  {
   "cell_type": "code",
   "execution_count": null,
   "id": "0043df55",
   "metadata": {
    "id": "0043df55",
    "outputId": "092b342e-cdf1-48e6-a192-5d0f18068294"
   },
   "outputs": [
    {
     "data": {
      "image/svg+xml": [
       "<?xml version=\"1.0\" encoding=\"UTF-8\" standalone=\"no\"?>\n",
       "<!DOCTYPE svg PUBLIC \"-//W3C//DTD SVG 1.1//EN\"\n",
       " \"http://www.w3.org/Graphics/SVG/1.1/DTD/svg11.dtd\">\n",
       "<!-- Generated by graphviz version 12.0.0 (20240704.0754)\n",
       " -->\n",
       "<!-- Title: G Pages: 1 -->\n",
       "<svg width=\"470pt\" height=\"149pt\"\n",
       " viewBox=\"0.00 0.00 469.89 149.44\" xmlns=\"http://www.w3.org/2000/svg\" xmlns:xlink=\"http://www.w3.org/1999/xlink\">\n",
       "<g id=\"graph0\" class=\"graph\" transform=\"scale(1 1) rotate(0) translate(4 145.44)\">\n",
       "<title>G</title>\n",
       "<polygon fill=\"white\" stroke=\"none\" points=\"-4,4 -4,-145.44 465.89,-145.44 465.89,4 -4,4\"/>\n",
       "<!-- node4837784448 -->\n",
       "<g id=\"node1\" class=\"node\">\n",
       "<title>node4837784448</title>\n",
       "<polygon fill=\"#cfe2d4\" stroke=\"#444443\" stroke-width=\"0.5\" points=\"14.13,-103.16 0,-103.16 0,-37.28 14.13,-37.28 14.13,-103.16\"/>\n",
       "<polygon fill=\"#cfe2d4\" stroke=\"none\" points=\"1.44,-85.97 1.44,-101.72 12.69,-101.72 12.69,-85.97 1.44,-85.97\"/>\n",
       "<polyline fill=\"none\" stroke=\"#444443\" points=\"1.44,-85.97 12.69,-85.97\"/>\n",
       "<text text-anchor=\"start\" x=\"4.44\" y=\"-90.17\" font-family=\"Helvetica,sans-Serif\" font-size=\"9.00\" fill=\"#444443\">0</text>\n",
       "<polygon fill=\"#cfe2d4\" stroke=\"none\" points=\"1.44,-70.22 1.44,-85.97 12.69,-85.97 12.69,-70.22 1.44,-70.22\"/>\n",
       "<polyline fill=\"none\" stroke=\"#444443\" points=\"1.44,-70.22 12.69,-70.22\"/>\n",
       "<text text-anchor=\"start\" x=\"4.44\" y=\"-74.42\" font-family=\"Helvetica,sans-Serif\" font-size=\"9.00\" fill=\"#444443\">1</text>\n",
       "<polygon fill=\"#cfe2d4\" stroke=\"none\" points=\"1.44,-54.47 1.44,-70.22 12.69,-70.22 12.69,-54.47 1.44,-54.47\"/>\n",
       "<polyline fill=\"none\" stroke=\"#444443\" points=\"1.44,-54.47 12.69,-54.47\"/>\n",
       "<text text-anchor=\"start\" x=\"4.44\" y=\"-58.67\" font-family=\"Helvetica,sans-Serif\" font-size=\"9.00\" fill=\"#444443\">2</text>\n",
       "<polygon fill=\"#cfe2d4\" stroke=\"none\" points=\"1.44,-38.72 1.44,-54.47 12.69,-54.47 12.69,-38.72 1.44,-38.72\"/>\n",
       "<text text-anchor=\"start\" x=\"4.44\" y=\"-42.92\" font-family=\"Helvetica,sans-Serif\" font-size=\"9.00\" fill=\"#444443\">3</text>\n",
       "</g>\n",
       "<!-- node4838882368 -->\n",
       "<g id=\"node2\" class=\"node\">\n",
       "<title>node4838882368</title>\n",
       "<polygon fill=\"none\" stroke=\"black\" stroke-width=\"0.5\" points=\"166.07,-141.44 136.63,-141.44 136.63,-111 166.07,-111 166.07,-141.44\"/>\n",
       "<polygon fill=\"#fefecd\" stroke=\"none\" points=\"137.35,-129.72 137.35,-140.72 155.35,-140.72 155.35,-129.72 137.35,-129.72\"/>\n",
       "<polyline fill=\"none\" stroke=\"black\" points=\"137.35,-129.72 155.35,-129.72 155.35,-140.72\"/>\n",
       "<text text-anchor=\"start\" x=\"143.72\" y=\"-131.17\" font-family=\"Helvetica,sans-Serif\" font-size=\"9.00\" fill=\"#444443\">0</text>\n",
       "<polygon fill=\"#fefecd\" stroke=\"none\" points=\"155.35,-129.72 155.35,-140.72 165.35,-140.72 165.35,-129.72 155.35,-129.72\"/>\n",
       "<polyline fill=\"none\" stroke=\"black\" points=\"155.35,-129.72 165.35,-129.72\"/>\n",
       "<text text-anchor=\"start\" x=\"157.72\" y=\"-131.17\" font-family=\"Helvetica,sans-Serif\" font-size=\"9.00\" fill=\"#444443\">1</text>\n",
       "<polygon fill=\"#fefecd\" stroke=\"none\" points=\"137.35,-111.72 137.35,-129.72 155.35,-129.72 155.35,-111.72 137.35,-111.72\"/>\n",
       "<polyline fill=\"none\" stroke=\"black\" points=\"155.35,-111.72 155.35,-129.72\"/>\n",
       "<text text-anchor=\"start\" x=\"139.97\" y=\"-116.27\" font-family=\"Helvetica,sans-Serif\" font-size=\"11.00\" fill=\"#444443\">&#39;id&#39;</text>\n",
       "<polygon fill=\"#fefecd\" stroke=\"none\" points=\"155.35,-111.72 155.35,-129.72 165.35,-129.72 165.35,-111.72 155.35,-111.72\"/>\n",
       "<text text-anchor=\"start\" x=\"157.35\" y=\"-116.27\" font-family=\"Helvetica,sans-Serif\" font-size=\"11.00\" fill=\"#444443\"> &#160;</text>\n",
       "</g>\n",
       "<!-- node4837784448&#45;&gt;node4838882368 -->\n",
       "<g id=\"edge1\" class=\"edge\">\n",
       "<title>node4837784448:0&#45;&gt;node4838882368:w</title>\n",
       "<path fill=\"none\" stroke=\"#444443\" stroke-width=\"0.5\" d=\"M13.69,-93.84C25.3,-93.84 25.28,-103.1 36.13,-107.22 76.74,-122.65 89.7,-125.99 131,-126.21\"/>\n",
       "<polygon fill=\"#444443\" stroke=\"#444443\" stroke-width=\"0.5\" points=\"130.87,-127.61 134.87,-126.22 130.88,-124.81 130.87,-127.61\"/>\n",
       "</g>\n",
       "<!-- node4838882176 -->\n",
       "<g id=\"node3\" class=\"node\">\n",
       "<title>node4838882176</title>\n",
       "<polygon fill=\"none\" stroke=\"black\" stroke-width=\"0.5\" points=\"184.57,-104.44 118.13,-104.44 118.13,-74 184.57,-74 184.57,-104.44\"/>\n",
       "<polygon fill=\"#fefecd\" stroke=\"none\" points=\"118.85,-92.72 118.85,-103.72 173.85,-103.72 173.85,-92.72 118.85,-92.72\"/>\n",
       "<polyline fill=\"none\" stroke=\"black\" points=\"118.85,-92.72 173.85,-92.72 173.85,-103.72\"/>\n",
       "<text text-anchor=\"start\" x=\"143.72\" y=\"-94.17\" font-family=\"Helvetica,sans-Serif\" font-size=\"9.00\" fill=\"#444443\">0</text>\n",
       "<polygon fill=\"#fefecd\" stroke=\"none\" points=\"173.85,-92.72 173.85,-103.72 183.85,-103.72 183.85,-92.72 173.85,-92.72\"/>\n",
       "<polyline fill=\"none\" stroke=\"black\" points=\"173.85,-92.72 183.85,-92.72\"/>\n",
       "<text text-anchor=\"start\" x=\"176.22\" y=\"-94.17\" font-family=\"Helvetica,sans-Serif\" font-size=\"9.00\" fill=\"#444443\">1</text>\n",
       "<polygon fill=\"#fefecd\" stroke=\"none\" points=\"118.85,-74.72 118.85,-92.72 173.85,-92.72 173.85,-74.72 118.85,-74.72\"/>\n",
       "<polyline fill=\"none\" stroke=\"black\" points=\"173.85,-74.72 173.85,-92.72\"/>\n",
       "<text text-anchor=\"start\" x=\"121.6\" y=\"-79.27\" font-family=\"Helvetica,sans-Serif\" font-size=\"11.00\" fill=\"#444443\">&#39;metadata&#39;</text>\n",
       "<polygon fill=\"#fefecd\" stroke=\"none\" points=\"173.85,-74.72 173.85,-92.72 183.85,-92.72 183.85,-74.72 173.85,-74.72\"/>\n",
       "<text text-anchor=\"start\" x=\"175.85\" y=\"-79.27\" font-family=\"Helvetica,sans-Serif\" font-size=\"11.00\" fill=\"#444443\"> &#160;</text>\n",
       "</g>\n",
       "<!-- node4837784448&#45;&gt;node4838882176 -->\n",
       "<g id=\"edge2\" class=\"edge\">\n",
       "<title>node4837784448:1&#45;&gt;node4838882176:w</title>\n",
       "<path fill=\"none\" stroke=\"#444443\" stroke-width=\"0.5\" d=\"M13.69,-78.09C58.3,-78.09 70.08,-88.45 112.38,-89.18\"/>\n",
       "<polygon fill=\"#444443\" stroke=\"#444443\" stroke-width=\"0.5\" points=\"112.36,-90.58 116.37,-89.21 112.39,-87.78 112.36,-90.58\"/>\n",
       "</g>\n",
       "<!-- node4837769792 -->\n",
       "<g id=\"node5\" class=\"node\">\n",
       "<title>node4837769792</title>\n",
       "<polygon fill=\"none\" stroke=\"black\" stroke-width=\"0.5\" points=\"266.57,-67.44 36.13,-67.44 36.13,-37 266.57,-37 266.57,-67.44\"/>\n",
       "<polygon fill=\"#fefecd\" stroke=\"none\" points=\"36.85,-55.72 36.85,-66.72 111.85,-66.72 111.85,-55.72 36.85,-55.72\"/>\n",
       "<polyline fill=\"none\" stroke=\"black\" points=\"36.85,-55.72 111.85,-55.72 111.85,-66.72\"/>\n",
       "<text text-anchor=\"start\" x=\"71.72\" y=\"-57.17\" font-family=\"Helvetica,sans-Serif\" font-size=\"9.00\" fill=\"#444443\">0</text>\n",
       "<polygon fill=\"#fefecd\" stroke=\"none\" points=\"111.85,-55.72 111.85,-66.72 265.85,-66.72 265.85,-55.72 111.85,-55.72\"/>\n",
       "<polyline fill=\"none\" stroke=\"black\" points=\"111.85,-55.72 265.85,-55.72\"/>\n",
       "<text text-anchor=\"start\" x=\"186.22\" y=\"-57.17\" font-family=\"Helvetica,sans-Serif\" font-size=\"9.00\" fill=\"#444443\">1</text>\n",
       "<polygon fill=\"#fefecd\" stroke=\"none\" points=\"36.85,-37.72 36.85,-55.72 111.85,-55.72 111.85,-37.72 36.85,-37.72\"/>\n",
       "<polyline fill=\"none\" stroke=\"black\" points=\"111.85,-37.72 111.85,-55.72\"/>\n",
       "<text text-anchor=\"start\" x=\"39.47\" y=\"-42.27\" font-family=\"Helvetica,sans-Serif\" font-size=\"11.00\" fill=\"#444443\">&#39;page_content&#39;</text>\n",
       "<polygon fill=\"#fefecd\" stroke=\"none\" points=\"111.85,-37.72 111.85,-55.72 265.85,-55.72 265.85,-37.72 111.85,-37.72\"/>\n",
       "<text text-anchor=\"start\" x=\"113.47\" y=\"-42.27\" font-family=\"Helvetica,sans-Serif\" font-size=\"11.00\" fill=\"#444443\">&#39;PROMPT ENGINEERING P...&#39;</text>\n",
       "</g>\n",
       "<!-- node4837784448&#45;&gt;node4837769792 -->\n",
       "<g id=\"edge3\" class=\"edge\">\n",
       "<title>node4837784448:2&#45;&gt;node4837769792:w</title>\n",
       "<path fill=\"none\" stroke=\"#444443\" stroke-width=\"0.5\" d=\"M13.69,-62.34C22.92,-62.34 24.76,-55.14 31.68,-52.88\"/>\n",
       "<polygon fill=\"#444443\" stroke=\"#444443\" stroke-width=\"0.5\" points=\"31.63,-54.31 35.38,-52.33 31.22,-51.54 31.63,-54.31\"/>\n",
       "</g>\n",
       "<!-- node4838666304 -->\n",
       "<g id=\"node6\" class=\"node\">\n",
       "<title>node4838666304</title>\n",
       "<polygon fill=\"none\" stroke=\"black\" stroke-width=\"0.5\" points=\"196.07,-30.44 106.63,-30.44 106.63,0 196.07,0 196.07,-30.44\"/>\n",
       "<polygon fill=\"#fefecd\" stroke=\"none\" points=\"107.35,-18.72 107.35,-29.72 137.35,-29.72 137.35,-18.72 107.35,-18.72\"/>\n",
       "<polyline fill=\"none\" stroke=\"black\" points=\"107.35,-18.72 137.35,-18.72 137.35,-29.72\"/>\n",
       "<text text-anchor=\"start\" x=\"119.72\" y=\"-20.17\" font-family=\"Helvetica,sans-Serif\" font-size=\"9.00\" fill=\"#444443\">0</text>\n",
       "<polygon fill=\"#fefecd\" stroke=\"none\" points=\"137.35,-18.72 137.35,-29.72 195.35,-29.72 195.35,-18.72 137.35,-18.72\"/>\n",
       "<polyline fill=\"none\" stroke=\"black\" points=\"137.35,-18.72 195.35,-18.72\"/>\n",
       "<text text-anchor=\"start\" x=\"163.72\" y=\"-20.17\" font-family=\"Helvetica,sans-Serif\" font-size=\"9.00\" fill=\"#444443\">1</text>\n",
       "<polygon fill=\"#fefecd\" stroke=\"none\" points=\"107.35,-0.72 107.35,-18.72 137.35,-18.72 137.35,-0.72 107.35,-0.72\"/>\n",
       "<polyline fill=\"none\" stroke=\"black\" points=\"137.35,-0.72 137.35,-18.72\"/>\n",
       "<text text-anchor=\"start\" x=\"109.97\" y=\"-5.27\" font-family=\"Helvetica,sans-Serif\" font-size=\"11.00\" fill=\"#444443\">&#39;type&#39;</text>\n",
       "<polygon fill=\"#fefecd\" stroke=\"none\" points=\"137.35,-0.72 137.35,-18.72 195.35,-18.72 195.35,-0.72 137.35,-0.72\"/>\n",
       "<text text-anchor=\"start\" x=\"139.35\" y=\"-5.27\" font-family=\"Helvetica,sans-Serif\" font-size=\"11.00\" fill=\"#444443\">&#39;Document&#39;</text>\n",
       "</g>\n",
       "<!-- node4837784448&#45;&gt;node4838666304 -->\n",
       "<g id=\"edge4\" class=\"edge\">\n",
       "<title>node4837784448:3&#45;&gt;node4838666304:w</title>\n",
       "<path fill=\"none\" stroke=\"#444443\" stroke-width=\"0.5\" d=\"M13.69,-46.59C25.08,-46.59 25.58,-38.5 36.13,-34.22 64.3,-22.79 72.76,-15.94 100.93,-15.27\"/>\n",
       "<polygon fill=\"#444443\" stroke=\"#444443\" stroke-width=\"0.5\" points=\"100.89,-16.67 104.87,-15.23 100.86,-13.87 100.89,-16.67\"/>\n",
       "</g>\n",
       "<!-- node4838548544 -->\n",
       "<g id=\"node4\" class=\"node\">\n",
       "<title>node4838548544</title>\n",
       "<polygon fill=\"#fefecd\" stroke=\"#444443\" stroke-width=\"0.5\" points=\"461.89,-101.38 288.57,-101.38 288.57,-67.06 461.89,-67.06 461.89,-101.38\"/>\n",
       "<polygon fill=\"#fefecd\" stroke=\"none\" points=\"290.73,-85.22 290.73,-99.22 329.73,-99.22 329.73,-85.22 290.73,-85.22\"/>\n",
       "<text text-anchor=\"start\" x=\"290.35\" y=\"-87.77\" font-family=\"Helvetica,sans-Serif\" font-size=\"11.00\" fill=\"#444443\">&#39;source&#39; </text>\n",
       "<text text-anchor=\"start\" x=\"329.73\" y=\"-87.92\" font-family=\"Helvetica,sans-Serif\" font-size=\"9.00\" fill=\"#444443\">→</text>\n",
       "<polygon fill=\"#fefecd\" stroke=\"none\" points=\"338.73,-85.22 338.73,-99.22 459.73,-99.22 459.73,-85.22 338.73,-85.22\"/>\n",
       "<text text-anchor=\"start\" x=\"339.6\" y=\"-87.77\" font-family=\"Helvetica,sans-Serif\" font-size=\"11.00\" fill=\"#444443\"> &#39;https://www.develope...&#39;</text>\n",
       "<polygon fill=\"#fefecd\" stroke=\"none\" points=\"290.73,-83.22 290.73,-85.22 459.73,-85.22 459.73,-83.22 290.73,-83.22\"/>\n",
       "<polygon fill=\"#fefecd\" stroke=\"none\" points=\"290.73,-69.22 290.73,-83.22 329.73,-83.22 329.73,-69.22 290.73,-69.22\"/>\n",
       "<text text-anchor=\"start\" x=\"298.23\" y=\"-71.77\" font-family=\"Helvetica,sans-Serif\" font-size=\"11.00\" fill=\"#444443\">&#39;page&#39; </text>\n",
       "<text text-anchor=\"start\" x=\"329.73\" y=\"-71.92\" font-family=\"Helvetica,sans-Serif\" font-size=\"9.00\" fill=\"#444443\">→</text>\n",
       "<polygon fill=\"#fefecd\" stroke=\"none\" points=\"338.73,-69.22 338.73,-83.22 459.73,-83.22 459.73,-69.22 338.73,-69.22\"/>\n",
       "<text text-anchor=\"start\" x=\"339.73\" y=\"-71.77\" font-family=\"Helvetica,sans-Serif\" font-size=\"11.00\" fill=\"#444443\"> 0</text>\n",
       "</g>\n",
       "<!-- node4838882176&#45;&gt;node4838548544 -->\n",
       "<g id=\"edge5\" class=\"edge\">\n",
       "<title>node4838882176:c&#45;&gt;node4838548544</title>\n",
       "<path fill=\"none\" stroke=\"#444443\" stroke-width=\"0.5\" d=\"M183.4,-83.73C196.12,-83.76 240.97,-83.88 283.99,-83.99\"/>\n",
       "<ellipse fill=\"#444443\" stroke=\"#444443\" stroke-width=\"0.5\" cx=\"181.7\" cy=\"-83.72\" rx=\"1.6\" ry=\"1.6\"/>\n",
       "<polygon fill=\"#444443\" stroke=\"#444443\" stroke-width=\"0.5\" points=\"283.93,-85.39 287.93,-84 283.94,-82.59 283.93,-85.39\"/>\n",
       "</g>\n",
       "</g>\n",
       "</svg>\n"
      ],
      "text/plain": [
       "<graphviz.sources.Source at 0x1205e4590>"
      ]
     },
     "execution_count": 16,
     "metadata": {},
     "output_type": "execute_result"
    }
   ],
   "source": [
    "# Display the first splitted document\n",
    "lolviz.objviz(splitted_documents[0])"
   ]
  },
  {
   "cell_type": "markdown",
   "id": "e6c14b60-9ac7-494e-937e-7cd1e758948c",
   "metadata": {
    "id": "e6c14b60-9ac7-494e-937e-7cd1e758948c"
   },
   "source": [
    "> 💡 Explanation\n",
    "\n",
    "- **Separators**:\n",
    "    - The separators parameter is a list of strings that the algorithm will use to split the text.\n",
    "    - The algorithm will try to split the text using the first separator in the list.\n",
    "    - If the resulting chunks are still larger than the chunk_size, it will try to split them further using the next separator in the list, and so on.\n",
    "    - This process continues until all chunks are smaller than the chunk_size or until all separators have been used.\n",
    "- **Chunk Size**:\n",
    "    - The chunk_size parameter is the maximum size for each chunk of text.\n",
    "    - If after using all separators, there are still chunks that are larger than the chunk_size, the algorithm will split these chunks at the chunk_size character, regardless of where this falls in the text.\n",
    "- **Chunk Overlap**:\n",
    "    - The chunk_overlap parameter determines how many characters from the end of one chunk should be repeated at the start of the next chunk.\n",
    "    - This can be useful to provide context when processing each chunk independently.\n",
    "- **Length Function**:\n",
    "    - The length_function parameter is a function that calculates the ‘length’ of a chunk.\n",
    "    - This could be a simple function like len (which counts characters), or a more complex function like count_tokens (which counts words or tokens).\n",
    "\n",
    "`RecursiveCharacterTextSplitter` will first try to split by the separators. If the resulting chunks are still too large, it will then split them further until they are smaller than the chunk_size. The chunk_overlap is applied after all splitting is done. The length_function is used throughout this process to measure the size of the chunks. It’s important to note that the separators are tried in the order they are given in the list, and the algorithm will always try to split by separators before resorting to splitting by chunk_size"
   ]
  },
  {
   "cell_type": "code",
   "execution_count": null,
   "id": "84d54be0",
   "metadata": {
    "id": "84d54be0",
    "outputId": "689c32cb-facf-4894-b566-e9b1efb1b66c"
   },
   "outputs": [
    {
     "name": "stdout",
     "output_type": "stream",
     "text": [
      "67\n",
      "456\n",
      "45\n",
      "37\n",
      "454\n",
      "150\n",
      "463\n",
      "188\n",
      "299\n",
      "222\n",
      "143\n",
      "35\n",
      "256\n",
      "231\n",
      "305\n",
      "118\n",
      "321\n",
      "119\n",
      "138\n",
      "104\n",
      "372\n",
      "304\n",
      "285\n",
      "133\n",
      "115\n",
      "71\n",
      "75\n",
      "54\n",
      "362\n",
      "51\n",
      "29\n",
      "150\n",
      "209\n",
      "254\n",
      "128\n",
      "142\n",
      "128\n",
      "158\n",
      "89\n",
      "103\n",
      "68\n",
      "9\n",
      "104\n",
      "196\n",
      "43\n",
      "9\n",
      "56\n",
      "282\n",
      "125\n",
      "56\n",
      "67\n",
      "105\n",
      "9\n",
      "111\n",
      "117\n",
      "9\n",
      "177\n",
      "84\n",
      "78\n",
      "27\n",
      "31\n",
      "29\n",
      "57\n",
      "68\n",
      "118\n",
      "89\n",
      "109\n",
      "9\n",
      "134\n",
      "131\n",
      "49\n",
      "29\n",
      "83\n",
      "256\n",
      "100\n",
      "9\n",
      "150\n",
      "31\n",
      "80\n",
      "9\n",
      "129\n",
      "99\n",
      "177\n",
      "9\n",
      "363\n",
      "343\n",
      "97\n",
      "408\n",
      "107\n",
      "80\n",
      "52\n",
      "31\n",
      "159\n",
      "128\n",
      "52\n",
      "9\n",
      "77\n",
      "116\n",
      "130\n",
      "363\n",
      "176\n",
      "439\n",
      "258\n",
      "132\n",
      "126\n",
      "324\n",
      "155\n",
      "367\n",
      "204\n",
      "286\n",
      "232\n",
      "96\n",
      "318\n",
      "369\n",
      "302\n",
      "51\n",
      "202\n",
      "435\n",
      "317\n",
      "313\n",
      "137\n",
      "174\n",
      "326\n",
      "375\n",
      "235\n",
      "317\n",
      "374\n",
      "305\n",
      "193\n",
      "193\n",
      "261\n",
      "278\n",
      "32\n",
      "442\n",
      "114\n",
      "438\n",
      "252\n",
      "317\n",
      "87\n",
      "52\n"
     ]
    }
   ],
   "source": [
    "# Show the number of tokens in each of the splitted documents\n",
    "for doc in splitted_documents:\n",
    "    print(count_tokens(doc.page_content))"
   ]
  },
  {
   "cell_type": "code",
   "execution_count": null,
   "id": "a068f2cd-e94e-4288-b01f-a7c20938bfd4",
   "metadata": {
    "ExecuteTime": {
     "end_time": "2024-04-18T10:15:46.989328Z",
     "start_time": "2024-04-18T10:15:46.985814Z"
    },
    "id": "a068f2cd-e94e-4288-b01f-a7c20938bfd4",
    "outputId": "e4f1c22d-6c74-44d7-be0d-6571d683bed4"
   },
   "outputs": [
    {
     "data": {
      "text/plain": [
       "Document(metadata={'source': 'https://www.developer.tech.gov.sg/products/collections/data-science-and-artificial-intelligence/playbooks/prompt-engineering-playbook-beta-v3.pdf', 'page': 12}, page_content='Prompt Engineering Playbook  \\nPage  13 give you the same result (even if it may be different from what you see here). You can see that the \\nresult is usually more “conservative”.  \\n \\nHowever, with a creativity setting of High, you can run it a few times to see the different \\nresults . The first try yielded this. The AI seems to “think out of the box” now.  \\n \\nA second try yielded this instead.  \\n \\nExplore with the different Creativity settings especially if you feel that your prompts are not getting \\nthe responses you need.')"
      ]
     },
     "execution_count": 34,
     "metadata": {},
     "output_type": "execute_result"
    }
   ],
   "source": [
    "splitted_documents[15]"
   ]
  },
  {
   "cell_type": "code",
   "execution_count": null,
   "id": "bb0379d5-7c0e-4af1-9375-f9ab9c1d7260",
   "metadata": {
    "id": "bb0379d5-7c0e-4af1-9375-f9ab9c1d7260",
    "outputId": "1f5b43a2-b6c6-458a-92af-be2e15f0b3f9"
   },
   "outputs": [
    {
     "data": {
      "text/plain": [
       "Document(metadata={'source': 'https://www.developer.tech.gov.sg/products/collections/data-science-and-artificial-intelligence/playbooks/prompt-engineering-playbook-beta-v3.pdf', 'page': 13}, page_content='Prompt Engineering Playbook  \\nPage  14 Zero Shot, One Shot, Few Shots  \\nYou may have heard someone praise ChatGPT before with something like this “Wow, it \\nperforms very well even with zero shot learning”.  \\nIn this context  of using such LLM -powered chat , one shot , few shots , and zero shots  refer \\nto how much data you are exposing to the pre -trained model (e.g.  OpenAI’s ChatGPT 3.5 Turbo) \\nto help it with formulating its respon se. More specifically,  \\n• Few-shot learning  is where you provide multiple examples to the AI model, and it is able \\nto generalize to new examples of what you need . \\n• One shot learning  is similar,  but instead of multiple examples, you only pass in one.  \\n• Zero -shot learning  is where you directly pose a question type of machine learning \\nwithout giving it any examples.  \\nYou can imagine that m ost models will do better in few -shot learning rather than zero -\\nshot since the model is exposed and trained with more data. However, one of the reasons why \\nChatGPT is so powerful is because its LLM is able to generalize very well even without being shown  \\nany e xamples.  \\nTake for example that you’re trying to do sentiment analysis here. A zero -shot way of using \\nit will look something like this.  \\n \\nEven though there were no examples shown to the AI, it knows what type of response you \\nare looking for and gets it corr ect.')"
      ]
     },
     "execution_count": 35,
     "metadata": {},
     "output_type": "execute_result"
    }
   ],
   "source": [
    "splitted_documents[16]"
   ]
  },
  {
   "cell_type": "code",
   "execution_count": null,
   "id": "283a4787-6719-4cc2-8536-ae3f4b7975c1",
   "metadata": {
    "id": "283a4787-6719-4cc2-8536-ae3f4b7975c1",
    "outputId": "90c81781-8270-4b88-d98d-77630baf7981"
   },
   "outputs": [
    {
     "data": {
      "text/plain": [
       "Document(metadata={'source': 'https://www.developer.tech.gov.sg/products/collections/data-science-and-artificial-intelligence/playbooks/prompt-engineering-playbook-beta-v3.pdf', 'page': 14}, page_content='Prompt Engineering Playbook  \\nPage  15 With few-shots  learning, you will type in a prompt like this.  \\n \\nYou can see that once you’ve shown the AI how you want the response to be like, and how \\nit should look like, the AI is able to emulate it pretty well. Since the samples given to the AI ar e a \\nsingle word of positive, negative or neutral, the AI learns that you would like the response to be \\njust a single word, which is “positive” , and dutifully complies.  Here’s another example.')"
      ]
     },
     "execution_count": 36,
     "metadata": {},
     "output_type": "execute_result"
    }
   ],
   "source": [
    "splitted_documents[17]"
   ]
  },
  {
   "cell_type": "markdown",
   "id": "b214d65b",
   "metadata": {
    "id": "b214d65b"
   },
   "source": [
    "⚠️ This code example primarily is for us to demo the capabilities of `RecursiveCharacterTextSplitter` for breaking down a PDF document into smaller chunks. It highlights how you can customize the splitting process using different separators and control chunk size and overlap.\n",
    "\n",
    "**However, it's crucial to understand that optimal splitting and chunking strategies are highly dependent on the document's content and structure.** While this example demonstrates a character-based approach, more advanced techniques often prove more effective (we will cover a some of the advanced techniques in the next topic).\n",
    "\n",
    "---\n",
    "\n",
    "Splitting by page can be problematic, particularly in some cases, because:\n",
    "\n",
    "* **Pages often contain disparate information:** A single page might house headings, paragraphs, tables, and figures, making it a poor unit for preserving semantic coherence.\n",
    "* **Important context can be lost:** Splitting mid-sentence or mid-paragraph across pages can sever crucial contextual information, hindering comprehension.\n",
    "\n",
    "While this example provides a foundational understanding of text splitting, exploring alternative methods like semantic chunking is highly recommended for real-world applications.\n"
   ]
  },
  {
   "cell_type": "markdown",
   "id": "ef7efabf-f41e-4a98-81ea-fb8312ed9063",
   "metadata": {
    "id": "ef7efabf-f41e-4a98-81ea-fb8312ed9063"
   },
   "source": [
    "<br>\n",
    "\n",
    "---"
   ]
  },
  {
   "cell_type": "markdown",
   "id": "359280fe-35d5-4282-8e1a-83a4a70b081b",
   "metadata": {
    "id": "359280fe-35d5-4282-8e1a-83a4a70b081b"
   },
   "source": [
    "### Embedding & Vectorstores"
   ]
  },
  {
   "cell_type": "markdown",
   "id": "606d79c5",
   "metadata": {
    "id": "606d79c5"
   },
   "source": [
    "One of the most common ways to store and search over unstructured data is to embed it and store the resulting embedding vectors, and then at query time to embed the unstructured query and retrieve the embedding vectors that are 'most similar' to the embedded query. A vector store takes care of storing embedded data and performing vector search for you.\n",
    "\n",
    "Most vector stores can also store metadata about embedded vectors and support filtering on that metadata before similarity search, allowing you more control over returned documents."
   ]
  },
  {
   "cell_type": "markdown",
   "id": "3adcd4e3",
   "metadata": {
    "id": "3adcd4e3"
   },
   "source": [
    "![](https://abc-notes.data.tech.gov.sg/resources/img/topic-4-rag-storage.png)"
   ]
  },
  {
   "cell_type": "code",
   "execution_count": null,
   "id": "d6d3ab60-7147-4404-a734-47641f3e9184",
   "metadata": {
    "id": "d6d3ab60-7147-4404-a734-47641f3e9184"
   },
   "outputs": [],
   "source": [
    "from langchain_chroma import Chroma\n",
    "from langchain_openai import OpenAIEmbeddings"
   ]
  },
  {
   "cell_type": "code",
   "execution_count": null,
   "id": "16aab217-4bdb-4a2f-9153-bacbc531f68e",
   "metadata": {
    "id": "16aab217-4bdb-4a2f-9153-bacbc531f68e"
   },
   "outputs": [],
   "source": [
    "# An embeddings model is initialized using the OpenAIEmbeddings class.\n",
    "# The specified model is 'text-embedding-3-small'.\n",
    "embeddings_model = OpenAIEmbeddings(model='text-embedding-3-small')\n",
    "\n",
    "\n",
    "# For more info on using the Chroma class, refer to the documentation https://python.langchain.com/v0.2/docs/integrations/vectorstores/chroma/\n",
    "vector_store = Chroma.from_documents(\n",
    "    collection_name=\"prompt_engineering_playbook\",\n",
    "    documents=splitted_documents,\n",
    "    embedding=embeddings_model,\n",
    "    persist_directory=\"./chroma_langchain_db\",  # Where to save data locally, remove if not neccesary\n",
    ")"
   ]
  },
  {
   "cell_type": "code",
   "execution_count": null,
   "id": "468a8003",
   "metadata": {
    "id": "468a8003",
    "outputId": "b16dde4b-3427-4114-c135-4e7aa3fc3fc6"
   },
   "outputs": [
    {
     "data": {
      "text/plain": [
       "140"
      ]
     },
     "execution_count": 45,
     "metadata": {},
     "output_type": "execute_result"
    }
   ],
   "source": [
    "# Show the number of documents in the vector store\n",
    "vector_store._collection.count()"
   ]
  },
  {
   "cell_type": "code",
   "execution_count": null,
   "id": "ae58eebc",
   "metadata": {
    "id": "ae58eebc",
    "outputId": "9b7a476e-2956-43d7-fb68-b00b9107ce8e"
   },
   "outputs": [
    {
     "data": {
      "text/plain": [
       "{'ids': ['0018fdd0-3282-45af-89d3-c6ac372f9d40'],\n",
       " 'embeddings': [[0.005606393329799175,\n",
       "   -0.02241191640496254,\n",
       "   -0.0019308255286887288,\n",
       "   0.024119101464748383,\n",
       "   0.03668397665023804,\n",
       "   -0.00768915843218565,\n",
       "   0.00857689417898655,\n",
       "   0.03518165647983551,\n",
       "   0.03326961025595665,\n",
       "   0.04217428341507912,\n",
       "   0.01776837557554245,\n",
       "   -0.061841048300266266,\n",
       "   -0.0020298422314226627,\n",
       "   -0.01716744527220726,\n",
       "   -0.0009594376315362751,\n",
       "   -0.021032512187957764,\n",
       "   -0.013882823288440704,\n",
       "   0.01054357085376978,\n",
       "   -0.009498774074018002,\n",
       "   -0.027751989662647247,\n",
       "   0.03919695317745209,\n",
       "   0.005452746991068125,\n",
       "   -0.05329146608710289,\n",
       "   0.04886644706130028,\n",
       "   -0.006644361652433872,\n",
       "   -0.035372860729694366,\n",
       "   -0.058016952127218246,\n",
       "   0.05249933525919914,\n",
       "   -0.032969143241643906,\n",
       "   0.000855299353133887,\n",
       "   0.01752253994345665,\n",
       "   -0.03684786707162857,\n",
       "   -0.05350998789072037,\n",
       "   -0.018765371292829514,\n",
       "   0.01596558839082718,\n",
       "   0.01078257616609335,\n",
       "   0.005742968060076237,\n",
       "   0.0040289550088346004,\n",
       "   0.023900581523776054,\n",
       "   -0.007586727384477854,\n",
       "   0.008959303610026836,\n",
       "   -0.014654470607638359,\n",
       "   -0.019748708233237267,\n",
       "   -0.008979789912700653,\n",
       "   -0.023586459457874298,\n",
       "   0.03848676383495331,\n",
       "   -0.006333653815090656,\n",
       "   -0.019461901858448982,\n",
       "   -0.003438269253820181,\n",
       "   0.015241742134094238,\n",
       "   -0.041682612150907516,\n",
       "   0.049440059810876846,\n",
       "   -0.010516256093978882,\n",
       "   -0.02838023379445076,\n",
       "   0.02108714170753956,\n",
       "   0.0008617013227194548,\n",
       "   -0.021155428141355515,\n",
       "   -0.008611038327217102,\n",
       "   0.001031139399856329,\n",
       "   -0.0073340642265975475,\n",
       "   0.019694078713655472,\n",
       "   -0.01001775823533535,\n",
       "   0.007518440019339323,\n",
       "   0.04649004340171814,\n",
       "   0.025962859392166138,\n",
       "   -0.020936910063028336,\n",
       "   -0.017344992607831955,\n",
       "   0.03706638887524605,\n",
       "   0.00996312778443098,\n",
       "   0.009840210899710655,\n",
       "   0.039633993059396744,\n",
       "   0.034526098519563675,\n",
       "   -0.010659659281373024,\n",
       "   -0.004551353398710489,\n",
       "   -0.015187112614512444,\n",
       "   -0.02743786759674549,\n",
       "   -0.04078121855854988,\n",
       "   0.016156792640686035,\n",
       "   0.012209782376885414,\n",
       "   -0.03613767772912979,\n",
       "   -0.007204317953437567,\n",
       "   -0.01078257616609335,\n",
       "   0.008303744718432426,\n",
       "   -0.04599837586283684,\n",
       "   -0.03182191774249077,\n",
       "   -0.04236548766493797,\n",
       "   -0.019379956647753716,\n",
       "   -0.002180074341595173,\n",
       "   -0.03919695317745209,\n",
       "   -0.0832013413310051,\n",
       "   -0.04018029198050499,\n",
       "   -0.006101476959884167,\n",
       "   0.01257853489369154,\n",
       "   0.036274254322052,\n",
       "   0.02514341101050377,\n",
       "   0.024747345596551895,\n",
       "   0.012182467617094517,\n",
       "   0.02802513912320137,\n",
       "   0.022152423858642578,\n",
       "   0.06473643332719803,\n",
       "   0.030210334807634354,\n",
       "   -0.07063645869493484,\n",
       "   -0.0027775890193879604,\n",
       "   0.020936910063028336,\n",
       "   0.04556133598089218,\n",
       "   -0.018314674496650696,\n",
       "   -0.014026226475834846,\n",
       "   0.03133024647831917,\n",
       "   -0.0011736892629414797,\n",
       "   -0.029664035886526108,\n",
       "   -0.08642449975013733,\n",
       "   -0.040972426533699036,\n",
       "   -0.009218795225024223,\n",
       "   0.03922426700592041,\n",
       "   0.022125110030174255,\n",
       "   0.002040085382759571,\n",
       "   -0.0243239626288414,\n",
       "   -0.05643268674612045,\n",
       "   0.027847591787576675,\n",
       "   -0.052881743758916855,\n",
       "   -0.04709097370505333,\n",
       "   -0.017713744193315506,\n",
       "   -0.011062555015087128,\n",
       "   -0.025443876162171364,\n",
       "   0.0014895183267071843,\n",
       "   -0.02431030571460724,\n",
       "   0.010652830824255943,\n",
       "   -0.042857155203819275,\n",
       "   -0.0144905811175704,\n",
       "   -0.005462990142405033,\n",
       "   -0.005019122269004583,\n",
       "   0.00943048670887947,\n",
       "   0.016839666292071342,\n",
       "   -0.028762642294168472,\n",
       "   0.012708280235528946,\n",
       "   -0.023886924609541893,\n",
       "   -0.02406447008252144,\n",
       "   0.03214969485998154,\n",
       "   -0.013295551761984825,\n",
       "   -0.012803882360458374,\n",
       "   0.008884187787771225,\n",
       "   0.0216880701482296,\n",
       "   0.006429256405681372,\n",
       "   0.04556133598089218,\n",
       "   -0.021428577601909637,\n",
       "   -0.04220159724354744,\n",
       "   -0.036055732518434525,\n",
       "   0.01943458616733551,\n",
       "   -0.001836930401623249,\n",
       "   0.02219339646399021,\n",
       "   -0.015542206354439259,\n",
       "   0.016511887311935425,\n",
       "   -0.03501776605844498,\n",
       "   -0.005097652319818735,\n",
       "   0.00498156389221549,\n",
       "   -0.02563508041203022,\n",
       "   0.009410000406205654,\n",
       "   0.01018847618252039,\n",
       "   -0.04110899940133095,\n",
       "   -0.0062482948414981365,\n",
       "   0.02529364451766014,\n",
       "   -0.0014383028028532863,\n",
       "   -0.037503425031900406,\n",
       "   0.02407812885940075,\n",
       "   -0.056596577167510986,\n",
       "   -0.017823005095124245,\n",
       "   -0.016006560996174812,\n",
       "   -0.005654194857925177,\n",
       "   -0.06266049295663834,\n",
       "   -0.008529093116521835,\n",
       "   -0.018328331410884857,\n",
       "   -0.039415471255779266,\n",
       "   -0.024392250925302505,\n",
       "   0.03329692408442497,\n",
       "   0.04277520999312401,\n",
       "   0.014026226475834846,\n",
       "   -0.0035646010655909777,\n",
       "   -0.02919968217611313,\n",
       "   -0.026031147688627243,\n",
       "   -0.02290358580648899,\n",
       "   -0.038459450006484985,\n",
       "   0.031057098880410194,\n",
       "   0.011465449817478657,\n",
       "   0.006743378471583128,\n",
       "   0.01966676488518715,\n",
       "   -0.004018711857497692,\n",
       "   -0.009034419432282448,\n",
       "   -0.01275608129799366,\n",
       "   -0.007381865289062262,\n",
       "   -0.013295551761984825,\n",
       "   0.014149144291877747,\n",
       "   -0.01776837557554245,\n",
       "   0.08374764025211334,\n",
       "   -0.022452889010310173,\n",
       "   0.013193121179938316,\n",
       "   -0.08331059664487839,\n",
       "   0.06610217690467834,\n",
       "   -0.0121619813144207,\n",
       "   0.06282438337802887,\n",
       "   0.0018164442153647542,\n",
       "   0.01002458669245243,\n",
       "   -0.02159246802330017,\n",
       "   -0.01491396315395832,\n",
       "   0.006914096884429455,\n",
       "   -0.004377220757305622,\n",
       "   0.030374225229024887,\n",
       "   -0.0005450185853987932,\n",
       "   0.01133570447564125,\n",
       "   -0.04231085628271103,\n",
       "   -0.032477475702762604,\n",
       "   0.037394165992736816,\n",
       "   -0.07691890001296997,\n",
       "   0.03687518090009689,\n",
       "   0.052417390048503876,\n",
       "   -0.028871901333332062,\n",
       "   -0.008392518386244774,\n",
       "   -0.020936910063028336,\n",
       "   0.024392250925302505,\n",
       "   -0.04760995879769325,\n",
       "   0.01659383252263069,\n",
       "   -0.009942641481757164,\n",
       "   -0.028407547622919083,\n",
       "   0.02683693915605545,\n",
       "   -0.03889648988842964,\n",
       "   -0.024515166878700256,\n",
       "   0.028708012774586678,\n",
       "   -0.003445098176598549,\n",
       "   -0.05075117573142052,\n",
       "   -0.026632076129317284,\n",
       "   -0.0801420658826828,\n",
       "   0.022794324904680252,\n",
       "   0.012305385433137417,\n",
       "   -0.012967772781848907,\n",
       "   -0.03400711342692375,\n",
       "   0.01656651683151722,\n",
       "   -0.0027690529823303223,\n",
       "   0.02680962346494198,\n",
       "   0.001860830932855606,\n",
       "   -0.019270697608590126,\n",
       "   -0.008966132067143917,\n",
       "   -0.002087886445224285,\n",
       "   0.016976241022348404,\n",
       "   0.035127025097608566,\n",
       "   -0.02816171385347843,\n",
       "   -0.020704731345176697,\n",
       "   0.02919968217611313,\n",
       "   -0.007771103177219629,\n",
       "   -0.062059566378593445,\n",
       "   0.05113358795642853,\n",
       "   0.03936084359884262,\n",
       "   0.058836400508880615,\n",
       "   -0.03086589276790619,\n",
       "   0.007306749001145363,\n",
       "   -0.03182191774249077,\n",
       "   -0.024296648800373077,\n",
       "   -0.035127025097608566,\n",
       "   0.011356190778315067,\n",
       "   0.029063107445836067,\n",
       "   -0.029063107445836067,\n",
       "   -0.024023499339818954,\n",
       "   -0.017686430364847183,\n",
       "   0.07713741809129715,\n",
       "   0.023067474365234375,\n",
       "   0.07194758206605911,\n",
       "   -0.021169086918234825,\n",
       "   -0.0024976106360554695,\n",
       "   0.01810981146991253,\n",
       "   -0.03613767772912979,\n",
       "   -0.041682612150907516,\n",
       "   -0.025798970833420753,\n",
       "   -0.03373396396636963,\n",
       "   0.02217973954975605,\n",
       "   0.05829010158777237,\n",
       "   0.0015714631881564856,\n",
       "   -0.0536738783121109,\n",
       "   -0.04195576161146164,\n",
       "   -0.0218109879642725,\n",
       "   -0.01681235246360302,\n",
       "   -0.00482791755348444,\n",
       "   0.03029228001832962,\n",
       "   -0.014517895877361298,\n",
       "   -0.05233544483780861,\n",
       "   -0.03146682307124138,\n",
       "   0.0017199883004650474,\n",
       "   -0.030319593846797943,\n",
       "   -0.0015509770018979907,\n",
       "   -0.01192980445921421,\n",
       "   0.015514891594648361,\n",
       "   -0.0013922088546678424,\n",
       "   -0.022616779431700706,\n",
       "   -0.02947283163666725,\n",
       "   -0.040125660598278046,\n",
       "   0.0036363026592880487,\n",
       "   0.007805246859788895,\n",
       "   -0.0007349428487941623,\n",
       "   -0.019134122878313065,\n",
       "   0.024023499339818954,\n",
       "   0.03848676383495331,\n",
       "   -0.0018727813148871064,\n",
       "   0.03769462928175926,\n",
       "   0.058727141469717026,\n",
       "   -0.048238202929496765,\n",
       "   -0.0007468931726180017,\n",
       "   0.011308389715850353,\n",
       "   -0.004295276012271643,\n",
       "   -0.0022210469469428062,\n",
       "   -0.018027866259217262,\n",
       "   -0.043212249875068665,\n",
       "   0.023764006793498993,\n",
       "   -0.02219339646399021,\n",
       "   0.029172366484999657,\n",
       "   0.0705818310379982,\n",
       "   0.02767004445195198,\n",
       "   -0.028189027681946754,\n",
       "   0.004725486505776644,\n",
       "   -0.06872441619634628,\n",
       "   0.03897843509912491,\n",
       "   -0.03217701241374016,\n",
       "   0.020295007154345512,\n",
       "   -0.0058488138020038605,\n",
       "   -0.046544674783945084,\n",
       "   0.0660475492477417,\n",
       "   0.037967778742313385,\n",
       "   -0.02672767825424671,\n",
       "   -0.04422290250658989,\n",
       "   0.017440594732761383,\n",
       "   0.014681785367429256,\n",
       "   0.05099701136350632,\n",
       "   -0.014039884321391582,\n",
       "   -0.021537838503718376,\n",
       "   -0.03288719803094864,\n",
       "   0.01861513778567314,\n",
       "   -0.015501233749091625,\n",
       "   0.03253210708498955,\n",
       "   -0.02909042127430439,\n",
       "   0.009198309853672981,\n",
       "   -0.01252390444278717,\n",
       "   0.001255634124390781,\n",
       "   0.014681785367429256,\n",
       "   0.0047323149628937244,\n",
       "   -0.06550125032663345,\n",
       "   0.01477738842368126,\n",
       "   0.006941411644220352,\n",
       "   0.03362470492720604,\n",
       "   -0.028571438044309616,\n",
       "   0.03791315108537674,\n",
       "   -0.000867676455527544,\n",
       "   0.011164985597133636,\n",
       "   0.06342531740665436,\n",
       "   0.02802513912320137,\n",
       "   -0.010598200373351574,\n",
       "   0.03979788348078728,\n",
       "   0.007504782639443874,\n",
       "   0.020062830299139023,\n",
       "   -0.02299918793141842,\n",
       "   -0.0024088372010737658,\n",
       "   -0.022125110030174255,\n",
       "   -0.009942641481757164,\n",
       "   0.006507786922156811,\n",
       "   -0.0010840620379894972,\n",
       "   0.010406996123492718,\n",
       "   -0.006381455343216658,\n",
       "   0.06621143966913223,\n",
       "   0.029418200254440308,\n",
       "   -0.03580990061163902,\n",
       "   0.012844854965806007,\n",
       "   0.010960123501718044,\n",
       "   -0.029609406366944313,\n",
       "   0.015391974709928036,\n",
       "   -0.007211146876215935,\n",
       "   0.02108714170753956,\n",
       "   0.01472275797277689,\n",
       "   -0.02802513912320137,\n",
       "   0.0040289550088346004,\n",
       "   -0.02600383199751377,\n",
       "   -0.00923245307058096,\n",
       "   -0.023900581523776054,\n",
       "   0.0005386166740208864,\n",
       "   -0.012728766538202763,\n",
       "   0.08128929138183594,\n",
       "   -0.03111172839999199,\n",
       "   -0.00982655305415392,\n",
       "   -0.017249390482902527,\n",
       "   -0.026918882504105568,\n",
       "   0.022753354161977768,\n",
       "   0.024733686819672585,\n",
       "   0.03818630054593086,\n",
       "   -0.04695440083742142,\n",
       "   -0.05520351231098175,\n",
       "   -0.039033062756061554,\n",
       "   0.0062790242955088615,\n",
       "   -0.031057098880410194,\n",
       "   0.025853600353002548,\n",
       "   -0.014599841088056564,\n",
       "   -0.0014792752917855978,\n",
       "   0.049440059810876846,\n",
       "   -0.011301560327410698,\n",
       "   0.05165256932377815,\n",
       "   0.04924885556101799,\n",
       "   0.02969135157763958,\n",
       "   0.0017481568502262235,\n",
       "   0.0003107075463049114,\n",
       "   -0.03373396396636963,\n",
       "   0.036438144743442535,\n",
       "   -0.018888287246227264,\n",
       "   0.0029073350597172976,\n",
       "   0.008276429958641529,\n",
       "   -0.009027590975165367,\n",
       "   0.008030595257878304,\n",
       "   -0.003119025845080614,\n",
       "   0.07970502227544785,\n",
       "   -0.06042066961526871,\n",
       "   0.04564328119158745,\n",
       "   -0.005264956504106522,\n",
       "   0.006251709070056677,\n",
       "   -0.012148324400186539,\n",
       "   0.021783672273159027,\n",
       "   0.023163078352808952,\n",
       "   0.036793239414691925,\n",
       "   0.01716744527220726,\n",
       "   -0.020486213266849518,\n",
       "   -0.04247474670410156,\n",
       "   0.032122381031513214,\n",
       "   -0.019024861976504326,\n",
       "   0.005623465403914452,\n",
       "   0.04638078436255455,\n",
       "   0.03889648988842964,\n",
       "   -0.010290907695889473,\n",
       "   0.018410276621580124,\n",
       "   -0.07232999056577682,\n",
       "   -0.004991807043552399,\n",
       "   0.018382960930466652,\n",
       "   0.03875991329550743,\n",
       "   0.009143679402768612,\n",
       "   5.0015165470540524e-05,\n",
       "   -0.015774384140968323,\n",
       "   0.0029568432364612818,\n",
       "   0.008897844702005386,\n",
       "   0.03960667923092842,\n",
       "   -0.01692161150276661,\n",
       "   0.01222344022244215,\n",
       "   -0.021537838503718376,\n",
       "   -0.03206774964928627,\n",
       "   0.026550130918622017,\n",
       "   -0.035236284136772156,\n",
       "   0.031029783189296722,\n",
       "   -0.017085501924157143,\n",
       "   -0.02990986965596676,\n",
       "   -0.016662118956446648,\n",
       "   -0.009184652008116245,\n",
       "   -0.030346909537911415,\n",
       "   -0.0131726348772645,\n",
       "   0.019024861976504326,\n",
       "   0.04217428341507912,\n",
       "   0.01078257616609335,\n",
       "   0.015323687344789505,\n",
       "   0.032368216663599014,\n",
       "   0.009901669807732105,\n",
       "   0.0405627004802227,\n",
       "   0.02216608263552189,\n",
       "   -0.0017908364534378052,\n",
       "   0.0036806894931942225,\n",
       "   0.04359465837478638,\n",
       "   -0.03698444366455078,\n",
       "   0.013978425413370132,\n",
       "   0.057416025549173355,\n",
       "   -0.03294182941317558,\n",
       "   0.01738596521317959,\n",
       "   0.0216880701482296,\n",
       "   2.4007280444493517e-05,\n",
       "   -0.023463541641831398,\n",
       "   -0.007928164675831795,\n",
       "   0.009416828863322735,\n",
       "   -0.004582082852721214,\n",
       "   -0.025061465799808502,\n",
       "   0.02455613948404789,\n",
       "   0.01413548644632101,\n",
       "   0.015692438930273056,\n",
       "   -0.011130842380225658,\n",
       "   -0.016785036772489548,\n",
       "   0.004421607591211796,\n",
       "   -0.012919971719384193,\n",
       "   0.02004917338490486,\n",
       "   0.05725213512778282,\n",
       "   0.035727955400943756,\n",
       "   0.047746531665325165,\n",
       "   0.016976241022348404,\n",
       "   -0.004558182321488857,\n",
       "   -0.010925980284810066,\n",
       "   0.022097794339060783,\n",
       "   0.03395248204469681,\n",
       "   -0.03706638887524605,\n",
       "   0.030210334807634354,\n",
       "   -0.015432946383953094,\n",
       "   0.02446053735911846,\n",
       "   -0.01239415816962719,\n",
       "   0.041409462690353394,\n",
       "   -0.016184108331799507,\n",
       "   0.030947837978601456,\n",
       "   0.03753074258565903,\n",
       "   -0.049440059810876846,\n",
       "   0.01741328090429306,\n",
       "   -0.04034418240189552,\n",
       "   0.06708551943302155,\n",
       "   -0.007511611096560955,\n",
       "   0.011547395028173923,\n",
       "   0.052772484719753265,\n",
       "   0.012571705505251884,\n",
       "   0.03373396396636963,\n",
       "   -0.0007234193617478013,\n",
       "   -0.020650101825594902,\n",
       "   -0.017618142068386078,\n",
       "   -0.01382819376885891,\n",
       "   -0.024638084694743156,\n",
       "   0.001710598706267774,\n",
       "   0.01584267057478428,\n",
       "   -0.025539478287100792,\n",
       "   0.03695712611079216,\n",
       "   0.02551216259598732,\n",
       "   -0.0017532783094793558,\n",
       "   -0.019721394404768944,\n",
       "   0.013370667584240437,\n",
       "   -0.021182743832468987,\n",
       "   0.018628796562552452,\n",
       "   0.02086862176656723,\n",
       "   -0.023545486852526665,\n",
       "   -0.046681251376867294,\n",
       "   0.01966676488518715,\n",
       "   -0.008781756274402142,\n",
       "   -0.01090549398213625,\n",
       "   0.023873265832662582,\n",
       "   -0.025088781490921974,\n",
       "   0.006582902744412422,\n",
       "   0.033570073544979095,\n",
       "   -0.025662396103143692,\n",
       "   -0.04192844778299332,\n",
       "   -0.009403171949088573,\n",
       "   0.010529913008213043,\n",
       "   -0.04329419508576393,\n",
       "   -0.028926532715559006,\n",
       "   -0.008911502547562122,\n",
       "   -0.0017754717264324427,\n",
       "   -0.0038787228986620903,\n",
       "   -0.006337068509310484,\n",
       "   -0.004407950211316347,\n",
       "   -0.01495493482798338,\n",
       "   0.007504782639443874,\n",
       "   -0.0014485459541901946,\n",
       "   -0.002811732701957226,\n",
       "   0.000251382909482345,\n",
       "   0.025307301431894302,\n",
       "   -0.016976241022348404,\n",
       "   0.006910682190209627,\n",
       "   -0.022630436345934868,\n",
       "   0.03818630054593086,\n",
       "   0.004226988647133112,\n",
       "   -0.015241742134094238,\n",
       "   -0.04282984137535095,\n",
       "   0.007443323731422424,\n",
       "   -0.0365200899541378,\n",
       "   0.006658019032329321,\n",
       "   -0.0003181764914188534,\n",
       "   -0.007354550063610077,\n",
       "   -0.023914238438010216,\n",
       "   0.011178643442690372,\n",
       "   0.05405628681182861,\n",
       "   0.029609406366944313,\n",
       "   0.015255399979650974,\n",
       "   0.022630436345934868,\n",
       "   0.01955750398337841,\n",
       "   -0.021988535299897194,\n",
       "   0.0015142725314944983,\n",
       "   -0.009246110916137695,\n",
       "   0.023272337391972542,\n",
       "   0.03914232179522514,\n",
       "   -0.02431030571460724,\n",
       "   0.0076481858268380165,\n",
       "   -0.020117459818720818,\n",
       "   -0.03220432624220848,\n",
       "   0.022958215326070786,\n",
       "   0.00016164901899173856,\n",
       "   -0.020131118595600128,\n",
       "   -0.008836386725306511,\n",
       "   0.061841048300266266,\n",
       "   -0.025949202477931976,\n",
       "   -0.014558868482708931,\n",
       "   0.04487846419215202,\n",
       "   -0.0014024520060047507,\n",
       "   -0.005698581226170063,\n",
       "   0.021141771227121353,\n",
       "   -0.022248025983572006,\n",
       "   -0.022944558411836624,\n",
       "   -0.020213063806295395,\n",
       "   0.015187112614512444,\n",
       "   0.004425021819770336,\n",
       "   3.4783883165800944e-05,\n",
       "   -0.03015570528805256,\n",
       "   -0.005432260688394308,\n",
       "   -0.026632076129317284,\n",
       "   0.01008604560047388,\n",
       "   0.0024327377323061228,\n",
       "   0.00887735839933157,\n",
       "   -0.02372303418815136,\n",
       "   0.04209233820438385,\n",
       "   -0.002868069801479578,\n",
       "   -0.01502322219312191,\n",
       "   -0.04045344144105911,\n",
       "   0.04173724353313446,\n",
       "   0.016375312581658363,\n",
       "   0.00447282288223505,\n",
       "   -0.001030285726301372,\n",
       "   0.004602569155395031,\n",
       "   0.002332013798877597,\n",
       "   -0.011813716031610966,\n",
       "   0.004640127066522837,\n",
       "   -0.02947283163666725,\n",
       "   0.030565429478883743,\n",
       "   -0.0025812627281993628,\n",
       "   -0.0044352649711072445,\n",
       "   -0.012319042347371578,\n",
       "   0.019489217549562454,\n",
       "   -0.003067810321226716,\n",
       "   0.026167722418904305,\n",
       "   0.029773294925689697,\n",
       "   -0.016744064167141914,\n",
       "   -0.005008879117667675,\n",
       "   0.028352918103337288,\n",
       "   -0.003619230818003416,\n",
       "   -0.008638353087008,\n",
       "   0.0197896808385849,\n",
       "   -0.007511611096560955,\n",
       "   0.035727955400943756,\n",
       "   -0.0024976106360554695,\n",
       "   0.019052177667617798,\n",
       "   -0.019830653443932533,\n",
       "   0.01413548644632101,\n",
       "   0.00285953376442194,\n",
       "   0.013671132735908031,\n",
       "   -0.011130842380225658,\n",
       "   -0.018656110391020775,\n",
       "   -0.011124012991786003,\n",
       "   -0.011854688636958599,\n",
       "   -0.020568156614899635,\n",
       "   -0.04577985778450966,\n",
       "   0.035591378808021545,\n",
       "   -0.004353320226073265,\n",
       "   0.012428302317857742,\n",
       "   -0.0005228252266533673,\n",
       "   -0.026317954063415527,\n",
       "   -0.026741335168480873,\n",
       "   -0.060147520154714584,\n",
       "   -0.017918607220053673,\n",
       "   0.03242284432053566,\n",
       "   -0.008535921573638916,\n",
       "   0.033788591623306274,\n",
       "   -0.00869981199502945,\n",
       "   -0.028817271813750267,\n",
       "   -0.02039060927927494,\n",
       "   -0.016279710456728935,\n",
       "   -0.027451524510979652,\n",
       "   -0.0039026234298944473,\n",
       "   -0.013630160130560398,\n",
       "   0.0013179463567212224,\n",
       "   -0.0340617410838604,\n",
       "   0.002984158229082823,\n",
       "   0.02324502170085907,\n",
       "   0.0011694212444126606,\n",
       "   0.045943744480609894,\n",
       "   0.00913002248853445,\n",
       "   -0.009444143623113632,\n",
       "   -0.07582630217075348,\n",
       "   0.016388969495892525,\n",
       "   0.008214971050620079,\n",
       "   0.0343075767159462,\n",
       "   -0.05088775232434273,\n",
       "   -0.019612133502960205,\n",
       "   0.041054368019104004,\n",
       "   -0.02159246802330017,\n",
       "   0.01156105287373066,\n",
       "   -0.04422290250658989,\n",
       "   -0.02396886795759201,\n",
       "   0.0010465040104463696,\n",
       "   -0.0009944349294528365,\n",
       "   -0.013247750699520111,\n",
       "   0.04709097370505333,\n",
       "   -0.007149687968194485,\n",
       "   0.02624966762959957,\n",
       "   -0.019120464101433754,\n",
       "   0.008092054165899754,\n",
       "   -0.014968592673540115,\n",
       "   -0.005148868076503277,\n",
       "   -0.037749260663986206,\n",
       "   -0.0011762500507757068,\n",
       "   -0.007463810034096241,\n",
       "   0.04233817383646965,\n",
       "   -0.028462177142500877,\n",
       "   -0.010598200373351574,\n",
       "   0.04364928975701332,\n",
       "   -0.03086589276790619,\n",
       "   -0.06375309079885483,\n",
       "   -0.04949469119310379,\n",
       "   0.03682055324316025,\n",
       "   -0.035591378808021545,\n",
       "   -0.04160067066550255,\n",
       "   -0.028189027681946754,\n",
       "   -0.0524447038769722,\n",
       "   -0.019707735627889633,\n",
       "   0.016976241022348404,\n",
       "   0.04255669191479683,\n",
       "   0.03919695317745209,\n",
       "   -0.036765921860933304,\n",
       "   -0.026140406727790833,\n",
       "   -0.056924354285001755,\n",
       "   0.03029228001832962,\n",
       "   0.013227264396846294,\n",
       "   -0.01668943464756012,\n",
       "   0.002412251429632306,\n",
       "   -0.007101886905729771,\n",
       "   0.02060912922024727,\n",
       "   -0.018287358805537224,\n",
       "   -0.036055732518434525,\n",
       "   -0.010625515133142471,\n",
       "   -0.0040835849940776825,\n",
       "   -0.024720029905438423,\n",
       "   -0.009136850945651531,\n",
       "   -0.03324229270219803,\n",
       "   -0.00841300468891859,\n",
       "   0.008788584731519222,\n",
       "   -0.00017594668315723538,\n",
       "   0.015897300094366074,\n",
       "   0.008235457353293896,\n",
       "   0.006931168492883444,\n",
       "   0.0072452905587852,\n",
       "   -0.03556406497955322,\n",
       "   -0.004585497081279755,\n",
       "   -0.020677417516708374,\n",
       "   -0.0036841039545834064,\n",
       "   0.006729720626026392,\n",
       "   -0.014627155847847462,\n",
       "   -0.037394165992736816,\n",
       "   0.01775471679866314,\n",
       "   -0.031439509242773056,\n",
       "   -0.003252186346799135,\n",
       "   0.008064739406108856,\n",
       "   0.012660479173064232,\n",
       "   -0.004373806528747082,\n",
       "   -0.016402628272771835,\n",
       "   0.06905219703912735,\n",
       "   -0.015105167403817177,\n",
       "   -0.040726590901613235,\n",
       "   -0.04736412316560745,\n",
       "   0.012639992870390415,\n",
       "   -0.01412182953208685,\n",
       "   -0.025061465799808502,\n",
       "   0.05331878364086151,\n",
       "   -0.02133297547698021,\n",
       "   0.03400711342692375,\n",
       "   -0.009205138310790062,\n",
       "   0.0017635214608162642,\n",
       "   0.06276975572109222,\n",
       "   0.014449608512222767,\n",
       "   0.00857689417898655,\n",
       "   -0.014408635906875134,\n",
       "   -0.002840754808858037,\n",
       "   4.649410038837232e-05,\n",
       "   -0.010584543459117413,\n",
       "   0.0030063516460359097,\n",
       "   -0.024747345596551895,\n",
       "   0.017222076654434204,\n",
       "   0.007948650047183037,\n",
       "   0.004397707059979439,\n",
       "   0.00285953376442194,\n",
       "   0.002087886445224285,\n",
       "   -0.040016401559114456,\n",
       "   0.045943744480609894,\n",
       "   0.017727402970194817,\n",
       "   0.014872990548610687,\n",
       "   0.02552582137286663,\n",
       "   0.008761269971728325,\n",
       "   0.013425298035144806,\n",
       "   0.02025403454899788,\n",
       "   0.02278066799044609,\n",
       "   -0.027219347655773163,\n",
       "   -0.0032607221510261297,\n",
       "   0.021264689043164253,\n",
       "   0.01507785264402628,\n",
       "   0.01897023245692253,\n",
       "   0.013363839127123356,\n",
       "   -0.004104071296751499,\n",
       "   -0.025962859392166138,\n",
       "   -0.01790495030581951,\n",
       "   -0.022207055240869522,\n",
       "   -0.006022946443408728,\n",
       "   -0.008146683685481548,\n",
       "   -0.009218795225024223,\n",
       "   0.010092874057590961,\n",
       "   -0.013869165442883968,\n",
       "   -0.12827099859714508,\n",
       "   -0.013739420101046562,\n",
       "   0.031193673610687256,\n",
       "   -0.0004579522064886987,\n",
       "   0.002132273279130459,\n",
       "   0.009403171949088573,\n",
       "   0.027724673971533775,\n",
       "   0.016252394765615463,\n",
       "   0.013507243245840073,\n",
       "   -0.052062295377254486,\n",
       "   0.013131662271916866,\n",
       "   0.011369847692549229,\n",
       "   0.0219339057803154,\n",
       "   0.0006491568638011813,\n",
       "   -0.000754575477913022,\n",
       "   -0.011021582409739494,\n",
       "   -0.01944824494421482,\n",
       "   -0.012414644472301006,\n",
       "   -0.02231631428003311,\n",
       "   -0.008372032083570957,\n",
       "   0.01931167021393776,\n",
       "   -0.013493585400283337,\n",
       "   -0.017263049259781837,\n",
       "   -0.006804836913943291,\n",
       "   -0.045124296098947525,\n",
       "   -0.0030302521772682667,\n",
       "   -0.03015570528805256,\n",
       "   0.01608850620687008,\n",
       "   0.016730407252907753,\n",
       "   -0.02454248256981373,\n",
       "   -0.04676319286227226,\n",
       "   0.0029261140152812004,\n",
       "   0.017263049259781837,\n",
       "   0.006664847955107689,\n",
       "   -0.00805108156055212,\n",
       "   0.010816720314323902,\n",
       "   -0.020417924970388412,\n",
       "   -0.013718933798372746,\n",
       "   -0.01810981146991253,\n",
       "   0.001129302429035306,\n",
       "   -0.013746248558163643,\n",
       "   0.007880362682044506,\n",
       "   0.02443322353065014,\n",
       "   -0.02788856439292431,\n",
       "   0.03878723084926605,\n",
       "   0.020090145990252495,\n",
       "   0.03051079995930195,\n",
       "   0.004889375995844603,\n",
       "   0.007361378986388445,\n",
       "   0.00835154578089714,\n",
       "   0.000755429093260318,\n",
       "   0.026891568675637245,\n",
       "   -0.02741055190563202,\n",
       "   -0.012981429696083069,\n",
       "   -0.02252117544412613,\n",
       "   0.0008036570507101715,\n",
       "   -0.027615414932370186,\n",
       "   0.027465181425213814,\n",
       "   0.02431030571460724,\n",
       "   0.024829288944602013,\n",
       "   -0.008440319448709488,\n",
       "   -0.00267003639601171,\n",
       "   0.0020059417001903057,\n",
       "   0.004155286587774754,\n",
       "   -0.008631524629890919,\n",
       "   -0.02217973954975605,\n",
       "   0.008761269971728325,\n",
       "   0.025798970833420753,\n",
       "   -0.009095878340303898,\n",
       "   0.015760725364089012,\n",
       "   -0.010925980284810066,\n",
       "   0.0216880701482296,\n",
       "   -0.01622508093714714,\n",
       "   0.01764545775949955,\n",
       "   0.02754712663590908,\n",
       "   -0.003091710852459073,\n",
       "   0.01287899911403656,\n",
       "   0.015132482163608074,\n",
       "   -0.031876545399427414,\n",
       "   0.007211146876215935,\n",
       "   0.048456721007823944,\n",
       "   -0.0020059417001903057,\n",
       "   -0.009519260376691818,\n",
       "   0.03053811378777027,\n",
       "   -0.03889648988842964,\n",
       "   -0.0030831750482320786,\n",
       "   0.015774384140968323,\n",
       "   -0.025320958346128464,\n",
       "   -0.011888831853866577,\n",
       "   0.02645452879369259,\n",
       "   0.01479104533791542,\n",
       "   0.007716473191976547,\n",
       "   -0.023572802543640137,\n",
       "   -0.02310844697058201,\n",
       "   -0.03111172839999199,\n",
       "   0.00025010251556523144,\n",
       "   0.005073751788586378,\n",
       "   0.029008476063609123,\n",
       "   0.024282990023493767,\n",
       "   -0.020240377634763718,\n",
       "   0.0031053684651851654,\n",
       "   0.01055722776800394,\n",
       "   -0.005203498061746359,\n",
       "   -0.030237650498747826,\n",
       "   -0.020240377634763718,\n",
       "   0.019134122878313065,\n",
       "   -0.033214978873729706,\n",
       "   0.02134663425385952,\n",
       "   0.0144905811175704,\n",
       "   0.027287635952234268,\n",
       "   0.015774384140968323,\n",
       "   0.021537838503718376,\n",
       "   -0.013083861209452152,\n",
       "   -0.005742968060076237,\n",
       "   -0.008242285810410976,\n",
       "   0.04780116304755211,\n",
       "   0.04903033375740051,\n",
       "   -0.008453977294266224,\n",
       "   0.03460804000496864,\n",
       "   -0.028434863314032555,\n",
       "   0.03496313467621803,\n",
       "   0.004302104469388723,\n",
       "   -0.04397707059979439,\n",
       "   0.009191480465233326,\n",
       "   -0.02741055190563202,\n",
       "   0.0019735051319003105,\n",
       "   -0.008979789912700653,\n",
       "   0.015555864199995995,\n",
       "   -0.015282714739441872,\n",
       "   0.006937997415661812,\n",
       "   0.04015297815203667,\n",
       "   0.040617331862449646,\n",
       "   -0.019257038831710815,\n",
       "   -0.015050537884235382,\n",
       "   -0.003766048699617386,\n",
       "   -0.025225356221199036,\n",
       "   0.03179460018873215,\n",
       "   0.015514891594648361,\n",
       "   0.005165940150618553,\n",
       "   -0.035946473479270935,\n",
       "   -0.003318766364827752,\n",
       "   0.005159111227840185,\n",
       "   0.008194484747946262,\n",
       "   0.024009840562939644,\n",
       "   -0.012264412827789783,\n",
       "   -0.037967778742313385,\n",
       "   0.00281856139190495,\n",
       "   0.019694078713655472,\n",
       "   -0.004233817104250193,\n",
       "   -0.005753211211413145,\n",
       "   0.034881189465522766,\n",
       "   0.01563780941069126,\n",
       "   0.0036602031905204058,\n",
       "   -0.0023968869354575872,\n",
       "   -0.022261684760451317,\n",
       "   0.016143135726451874,\n",
       "   0.016976241022348404,\n",
       "   -0.012974601238965988,\n",
       "   -0.0069755553267896175,\n",
       "   0.02157881110906601,\n",
       "   0.024747345596551895,\n",
       "   0.02146955020725727,\n",
       "   -0.00673313532024622,\n",
       "   -0.00321974977850914,\n",
       "   0.020677417516708374,\n",
       "   -0.029636720195412636,\n",
       "   0.04217428341507912,\n",
       "   0.021988535299897194,\n",
       "   0.008269601501524448,\n",
       "   -0.004916691221296787,\n",
       "   -0.04853866621851921,\n",
       "   0.03777657449245453,\n",
       "   0.00930074043571949,\n",
       "   0.006664847955107689,\n",
       "   0.017986895516514778,\n",
       "   0.04676319286227226,\n",
       "   0.0448511466383934,\n",
       "   -0.013582359068095684,\n",
       "   -0.015296371653676033,\n",
       "   0.016361655667424202,\n",
       "   -0.02816171385347843,\n",
       "   0.03723027557134628,\n",
       "   0.007156516890972853,\n",
       "   0.021851960569620132,\n",
       "   0.015391974709928036,\n",
       "   -0.00900027621537447,\n",
       "   -0.006282438524067402,\n",
       "   -0.01126741711050272,\n",
       "   0.009512430988252163,\n",
       "   -0.034389521926641464,\n",
       "   0.020950566977262497,\n",
       "   0.009020762518048286,\n",
       "   0.03791315108537674,\n",
       "   0.020841306075453758,\n",
       "   0.004923519678413868,\n",
       "   0.00965583510696888,\n",
       "   0.02990986965596676,\n",
       "   -0.008549579419195652,\n",
       "   0.01203223504126072,\n",
       "   -0.014285719022154808,\n",
       "   -0.02788856439292431,\n",
       "   -0.0026512574404478073,\n",
       "   0.022370943799614906,\n",
       "   ...]],\n",
       " 'metadatas': [{'page': 16,\n",
       "   'source': 'https://www.developer.tech.gov.sg/products/collections/data-science-and-artificial-intelligence/playbooks/prompt-engineering-playbook-beta-v3.pdf'}],\n",
       " 'documents': ['Prompt Engineering Playbook  \\nPage  17  \\nStill, the AI learns what you need, and it knows that we are asking about the country that \\nbest fits the description. Note that in this case here, the prompt did not actually state a question \\nor a task. Yet, the AI can infer from the pattern of given sampl es that what follows after “A:” is the \\nquestion being asked.  \\nSo, give this a shot (pun intended) to help you with writing more effective prompts!'],\n",
       " 'uris': None,\n",
       " 'data': None}"
      ]
     },
     "execution_count": 31,
     "metadata": {},
     "output_type": "execute_result"
    }
   ],
   "source": [
    "# Peek at one of the documents in the vector store\n",
    "vector_store._collection.peek(limit=1)"
   ]
  },
  {
   "cell_type": "code",
   "execution_count": null,
   "id": "7ab971c7",
   "metadata": {
    "id": "7ab971c7",
    "outputId": "0aa1f192-347b-4abe-fed0-5e0640b0eb66"
   },
   "outputs": [
    {
     "data": {
      "image/svg+xml": [
       "<?xml version=\"1.0\" encoding=\"UTF-8\" standalone=\"no\"?>\n",
       "<!DOCTYPE svg PUBLIC \"-//W3C//DTD SVG 1.1//EN\"\n",
       " \"http://www.w3.org/Graphics/SVG/1.1/DTD/svg11.dtd\">\n",
       "<!-- Generated by graphviz version 12.0.0 (20240704.0754)\n",
       " -->\n",
       "<!-- Title: G Pages: 1 -->\n",
       "<svg width=\"444pt\" height=\"253pt\"\n",
       " viewBox=\"0.00 0.00 444.08 253.31\" xmlns=\"http://www.w3.org/2000/svg\" xmlns:xlink=\"http://www.w3.org/1999/xlink\">\n",
       "<g id=\"graph0\" class=\"graph\" transform=\"scale(1 1) rotate(0) translate(4 249.31)\">\n",
       "<title>G</title>\n",
       "<polygon fill=\"white\" stroke=\"none\" points=\"-4,4 -4,-249.31 440.08,-249.31 440.08,4 -4,4\"/>\n",
       "<!-- node6074089536 -->\n",
       "<g id=\"node1\" class=\"node\">\n",
       "<title>node6074089536</title>\n",
       "<polygon fill=\"#fefecd\" stroke=\"#444443\" stroke-width=\"0.5\" points=\"93.32,-134.75 0,-134.75 0,-36.44 93.32,-36.44 93.32,-134.75\"/>\n",
       "<polygon fill=\"#fefecd\" stroke=\"none\" points=\"2.16,-118.59 2.16,-132.59 68.16,-132.59 68.16,-118.59 2.16,-118.59\"/>\n",
       "<text text-anchor=\"start\" x=\"47.16\" y=\"-121.14\" font-family=\"Helvetica,sans-Serif\" font-size=\"11.00\" fill=\"#444443\">&#39;ids&#39; </text>\n",
       "<text text-anchor=\"start\" x=\"68.16\" y=\"-121.3\" font-family=\"Helvetica,sans-Serif\" font-size=\"9.00\" fill=\"#444443\">→</text>\n",
       "<polygon fill=\"#fefecd\" stroke=\"none\" points=\"77.16,-118.59 77.16,-132.59 91.16,-132.59 91.16,-118.59 77.16,-118.59\"/>\n",
       "<text text-anchor=\"start\" x=\"78.16\" y=\"-121.14\" font-family=\"Helvetica,sans-Serif\" font-size=\"11.00\" fill=\"#444443\"> &#160;&#160;&#160;</text>\n",
       "<polygon fill=\"#fefecd\" stroke=\"none\" points=\"2.16,-116.59 2.16,-118.59 91.16,-118.59 91.16,-116.59 2.16,-116.59\"/>\n",
       "<polygon fill=\"#fefecd\" stroke=\"none\" points=\"2.16,-102.59 2.16,-116.59 68.16,-116.59 68.16,-102.59 2.16,-102.59\"/>\n",
       "<text text-anchor=\"start\" x=\"2.16\" y=\"-105.14\" font-family=\"Helvetica,sans-Serif\" font-size=\"11.00\" fill=\"#444443\">&#39;embeddings&#39; </text>\n",
       "<text text-anchor=\"start\" x=\"68.16\" y=\"-105.3\" font-family=\"Helvetica,sans-Serif\" font-size=\"9.00\" fill=\"#444443\">→</text>\n",
       "<polygon fill=\"#fefecd\" stroke=\"none\" points=\"77.16,-102.59 77.16,-116.59 91.16,-116.59 91.16,-102.59 77.16,-102.59\"/>\n",
       "<text text-anchor=\"start\" x=\"78.16\" y=\"-105.14\" font-family=\"Helvetica,sans-Serif\" font-size=\"11.00\" fill=\"#444443\"> &#160;&#160;&#160;</text>\n",
       "<polygon fill=\"#fefecd\" stroke=\"none\" points=\"2.16,-100.59 2.16,-102.59 91.16,-102.59 91.16,-100.59 2.16,-100.59\"/>\n",
       "<polygon fill=\"#fefecd\" stroke=\"none\" points=\"2.16,-86.59 2.16,-100.59 68.16,-100.59 68.16,-86.59 2.16,-86.59\"/>\n",
       "<text text-anchor=\"start\" x=\"10.41\" y=\"-89.14\" font-family=\"Helvetica,sans-Serif\" font-size=\"11.00\" fill=\"#444443\">&#39;metadatas&#39; </text>\n",
       "<text text-anchor=\"start\" x=\"68.16\" y=\"-89.3\" font-family=\"Helvetica,sans-Serif\" font-size=\"9.00\" fill=\"#444443\">→</text>\n",
       "<polygon fill=\"#fefecd\" stroke=\"none\" points=\"77.16,-86.59 77.16,-100.59 91.16,-100.59 91.16,-86.59 77.16,-86.59\"/>\n",
       "<text text-anchor=\"start\" x=\"78.16\" y=\"-89.14\" font-family=\"Helvetica,sans-Serif\" font-size=\"11.00\" fill=\"#444443\"> &#160;&#160;&#160;</text>\n",
       "<polygon fill=\"#fefecd\" stroke=\"none\" points=\"2.16,-84.59 2.16,-86.59 91.16,-86.59 91.16,-84.59 2.16,-84.59\"/>\n",
       "<polygon fill=\"#fefecd\" stroke=\"none\" points=\"2.16,-70.59 2.16,-84.59 68.16,-84.59 68.16,-70.59 2.16,-70.59\"/>\n",
       "<text text-anchor=\"start\" x=\"8.16\" y=\"-73.14\" font-family=\"Helvetica,sans-Serif\" font-size=\"11.00\" fill=\"#444443\">&#39;documents&#39; </text>\n",
       "<text text-anchor=\"start\" x=\"68.16\" y=\"-73.3\" font-family=\"Helvetica,sans-Serif\" font-size=\"9.00\" fill=\"#444443\">→</text>\n",
       "<polygon fill=\"#fefecd\" stroke=\"none\" points=\"77.16,-70.59 77.16,-84.59 91.16,-84.59 91.16,-70.59 77.16,-70.59\"/>\n",
       "<text text-anchor=\"start\" x=\"78.16\" y=\"-73.14\" font-family=\"Helvetica,sans-Serif\" font-size=\"11.00\" fill=\"#444443\"> &#160;&#160;&#160;</text>\n",
       "<polygon fill=\"#fefecd\" stroke=\"none\" points=\"2.16,-68.59 2.16,-70.59 91.16,-70.59 91.16,-68.59 2.16,-68.59\"/>\n",
       "<polygon fill=\"#fefecd\" stroke=\"none\" points=\"2.16,-54.59 2.16,-68.59 68.16,-68.59 68.16,-54.59 2.16,-54.59\"/>\n",
       "<text text-anchor=\"start\" x=\"43.41\" y=\"-57.14\" font-family=\"Helvetica,sans-Serif\" font-size=\"11.00\" fill=\"#444443\">&#39;uris&#39; </text>\n",
       "<text text-anchor=\"start\" x=\"68.16\" y=\"-57.3\" font-family=\"Helvetica,sans-Serif\" font-size=\"9.00\" fill=\"#444443\">→</text>\n",
       "<polygon fill=\"#fefecd\" stroke=\"none\" points=\"77.16,-54.59 77.16,-68.59 91.16,-68.59 91.16,-54.59 77.16,-54.59\"/>\n",
       "<text text-anchor=\"start\" x=\"78.16\" y=\"-57.14\" font-family=\"Helvetica,sans-Serif\" font-size=\"11.00\" fill=\"#444443\"> &#160;&#160;&#160;</text>\n",
       "<polygon fill=\"#fefecd\" stroke=\"none\" points=\"2.16,-52.59 2.16,-54.59 91.16,-54.59 91.16,-52.59 2.16,-52.59\"/>\n",
       "<polygon fill=\"#fefecd\" stroke=\"none\" points=\"2.16,-38.59 2.16,-52.59 68.16,-52.59 68.16,-38.59 2.16,-38.59\"/>\n",
       "<text text-anchor=\"start\" x=\"39.66\" y=\"-41.14\" font-family=\"Helvetica,sans-Serif\" font-size=\"11.00\" fill=\"#444443\">&#39;data&#39; </text>\n",
       "<text text-anchor=\"start\" x=\"68.16\" y=\"-41.3\" font-family=\"Helvetica,sans-Serif\" font-size=\"9.00\" fill=\"#444443\">→</text>\n",
       "<polygon fill=\"#fefecd\" stroke=\"none\" points=\"77.16,-38.59 77.16,-52.59 91.16,-52.59 91.16,-38.59 77.16,-38.59\"/>\n",
       "<text text-anchor=\"start\" x=\"78.16\" y=\"-41.14\" font-family=\"Helvetica,sans-Serif\" font-size=\"11.00\" fill=\"#444443\"> &#160;&#160;&#160;</text>\n",
       "</g>\n",
       "<!-- node6075597760 -->\n",
       "<g id=\"node2\" class=\"node\">\n",
       "<title>node6075597760</title>\n",
       "<polygon fill=\"none\" stroke=\"black\" stroke-width=\"0.5\" points=\"240.76,-203.19 115.32,-203.19 115.32,-174 240.76,-174 240.76,-203.19\"/>\n",
       "<polygon fill=\"#fefecd\" stroke=\"none\" points=\"116.04,-190.72 116.04,-202.47 240.04,-202.47 240.04,-190.72 116.04,-190.72\"/>\n",
       "<polyline fill=\"none\" stroke=\"black\" points=\"116.04,-190.72 240.04,-190.72\"/>\n",
       "<text text-anchor=\"start\" x=\"175.41\" y=\"-192.92\" font-family=\"Helvetica,sans-Serif\" font-size=\"9.00\" fill=\"#444443\">0</text>\n",
       "<polygon fill=\"#fefecd\" stroke=\"none\" points=\"116.04,-174.72 116.04,-190.72 240.04,-190.72 240.04,-174.72 116.04,-174.72\"/>\n",
       "<text text-anchor=\"start\" x=\"118.04\" y=\"-178.27\" font-family=\"Helvetica,sans-Serif\" font-size=\"11.00\" fill=\"#444443\">&#39;01ff7092&#45;4c06&#45;4abb&#45;b...&#39;</text>\n",
       "</g>\n",
       "<!-- node6074089536&#45;&gt;node6075597760 -->\n",
       "<g id=\"edge1\" class=\"edge\">\n",
       "<title>node6074089536:c&#45;&gt;node6075597760</title>\n",
       "<path fill=\"none\" stroke=\"#444443\" stroke-width=\"0.5\" d=\"M86.5,-128.92C89.99,-137.11 100.1,-158.4 115.32,-169.59 116.45,-170.43 117.61,-171.22 118.81,-171.98\"/>\n",
       "<ellipse fill=\"#444443\" stroke=\"#444443\" stroke-width=\"0.5\" cx=\"85.85\" cy=\"-127.31\" rx=\"1.6\" ry=\"1.6\"/>\n",
       "<polygon fill=\"#444443\" stroke=\"#444443\" stroke-width=\"0.5\" points=\"117.68,-172.94 121.83,-173.77 119.11,-170.53 117.68,-172.94\"/>\n",
       "</g>\n",
       "<!-- node4838802880 -->\n",
       "<g id=\"node3\" class=\"node\">\n",
       "<title>node4838802880</title>\n",
       "<polygon fill=\"#cfe2d4\" stroke=\"#444443\" stroke-width=\"0.5\" points=\"185.1,-166.91 170.97,-166.91 170.97,-148.28 185.1,-148.28 185.1,-166.91\"/>\n",
       "<polygon fill=\"#cfe2d4\" stroke=\"none\" points=\"172.41,-149.72 172.41,-165.47 183.66,-165.47 183.66,-149.72 172.41,-149.72\"/>\n",
       "<text text-anchor=\"start\" x=\"175.41\" y=\"-153.92\" font-family=\"Helvetica,sans-Serif\" font-size=\"9.00\" fill=\"#444443\">0</text>\n",
       "</g>\n",
       "<!-- node6074089536&#45;&gt;node4838802880 -->\n",
       "<g id=\"edge2\" class=\"edge\">\n",
       "<title>node6074089536:c&#45;&gt;node4838802880</title>\n",
       "<path fill=\"none\" stroke=\"#444443\" stroke-width=\"0.5\" d=\"M88.36,-111.27C100.8,-117.77 146.23,-141.5 166.8,-152.24\"/>\n",
       "<ellipse fill=\"#444443\" stroke=\"#444443\" stroke-width=\"0.5\" cx=\"86.8\" cy=\"-110.45\" rx=\"1.6\" ry=\"1.6\"/>\n",
       "<polygon fill=\"#444443\" stroke=\"#444443\" stroke-width=\"0.5\" points=\"166.15,-153.48 170.34,-154.1 167.44,-151 166.15,-153.48\"/>\n",
       "</g>\n",
       "<!-- node6116621888 -->\n",
       "<g id=\"node5\" class=\"node\">\n",
       "<title>node6116621888</title>\n",
       "<polygon fill=\"#cfe2d4\" stroke=\"#444443\" stroke-width=\"0.5\" points=\"185.1,-54.91 170.97,-54.91 170.97,-36.28 185.1,-36.28 185.1,-54.91\"/>\n",
       "<polygon fill=\"#cfe2d4\" stroke=\"none\" points=\"172.41,-37.72 172.41,-53.47 183.66,-53.47 183.66,-37.72 172.41,-37.72\"/>\n",
       "<text text-anchor=\"start\" x=\"175.41\" y=\"-41.92\" font-family=\"Helvetica,sans-Serif\" font-size=\"9.00\" fill=\"#444443\">0</text>\n",
       "</g>\n",
       "<!-- node6074089536&#45;&gt;node6116621888 -->\n",
       "<g id=\"edge3\" class=\"edge\">\n",
       "<title>node6074089536:c&#45;&gt;node6116621888</title>\n",
       "<path fill=\"none\" stroke=\"#444443\" stroke-width=\"0.5\" d=\"M88.36,-91.92C100.8,-85.42 146.23,-61.69 166.8,-50.95\"/>\n",
       "<ellipse fill=\"#444443\" stroke=\"#444443\" stroke-width=\"0.5\" cx=\"86.8\" cy=\"-92.74\" rx=\"1.6\" ry=\"1.6\"/>\n",
       "<polygon fill=\"#444443\" stroke=\"#444443\" stroke-width=\"0.5\" points=\"167.44,-52.19 170.34,-49.09 166.15,-49.71 167.44,-52.19\"/>\n",
       "</g>\n",
       "<!-- node6098900224 -->\n",
       "<g id=\"node7\" class=\"node\">\n",
       "<title>node6098900224</title>\n",
       "<polygon fill=\"none\" stroke=\"black\" stroke-width=\"0.5\" points=\"240.01,-29.19 116.07,-29.19 116.07,0 240.01,0 240.01,-29.19\"/>\n",
       "<polygon fill=\"#fefecd\" stroke=\"none\" points=\"116.79,-16.72 116.79,-28.47 239.29,-28.47 239.29,-16.72 116.79,-16.72\"/>\n",
       "<polyline fill=\"none\" stroke=\"black\" points=\"116.79,-16.72 239.29,-16.72\"/>\n",
       "<text text-anchor=\"start\" x=\"175.41\" y=\"-18.92\" font-family=\"Helvetica,sans-Serif\" font-size=\"9.00\" fill=\"#444443\">0</text>\n",
       "<polygon fill=\"#fefecd\" stroke=\"none\" points=\"116.79,-0.72 116.79,-16.72 239.29,-16.72 239.29,-0.72 116.79,-0.72\"/>\n",
       "<text text-anchor=\"start\" x=\"118.79\" y=\"-4.27\" font-family=\"Helvetica,sans-Serif\" font-size=\"11.00\" fill=\"#444443\">&#39;Prompt Engineering P...&#39;</text>\n",
       "</g>\n",
       "<!-- node6074089536&#45;&gt;node6098900224 -->\n",
       "<g id=\"edge4\" class=\"edge\">\n",
       "<title>node6074089536:c&#45;&gt;node6098900224</title>\n",
       "<path fill=\"none\" stroke=\"#444443\" stroke-width=\"0.5\" d=\"M86.5,-74.27C89.99,-66.08 100.1,-44.79 115.32,-33.59 116.45,-32.76 117.61,-31.97 118.81,-31.21\"/>\n",
       "<ellipse fill=\"#444443\" stroke=\"#444443\" stroke-width=\"0.5\" cx=\"85.85\" cy=\"-75.88\" rx=\"1.6\" ry=\"1.6\"/>\n",
       "<polygon fill=\"#444443\" stroke=\"#444443\" stroke-width=\"0.5\" points=\"119.11,-32.66 121.83,-29.42 117.68,-30.25 119.11,-32.66\"/>\n",
       "</g>\n",
       "<!-- node4837941696 -->\n",
       "<g id=\"node4\" class=\"node\">\n",
       "<title>node4837941696</title>\n",
       "<polygon fill=\"none\" stroke=\"black\" stroke-width=\"0.5\" points=\"432.14,-245.31 266.7,-245.31 266.7,-69.88 432.14,-69.88 432.14,-245.31\"/>\n",
       "<polygon fill=\"#fefecd\" stroke=\"none\" points=\"267.42,-230.59 267.42,-244.59 296.42,-244.59 296.42,-230.59 267.42,-230.59\"/>\n",
       "<polyline fill=\"none\" stroke=\"black\" points=\"296.42,-230.59 296.42,-244.59\"/>\n",
       "<text text-anchor=\"start\" x=\"286.42\" y=\"-233.15\" font-family=\"Helvetica,sans-Serif\" font-size=\"11.00\" fill=\"#444443\">0 </text>\n",
       "<polygon fill=\"#fefecd\" stroke=\"none\" points=\"296.42,-230.59 296.42,-244.59 431.42,-244.59 431.42,-230.59 296.42,-230.59\"/>\n",
       "<text text-anchor=\"start\" x=\"298.29\" y=\"-233.15\" font-family=\"Helvetica,sans-Serif\" font-size=\"11.00\" fill=\"#444443\"> &#39;&#45;0.00645996769890189...&#39;</text>\n",
       "<polygon fill=\"#fefecd\" stroke=\"none\" points=\"267.42,-228.59 267.42,-230.59 431.42,-230.59 431.42,-228.59 267.42,-228.59\"/>\n",
       "<polygon fill=\"#fefecd\" stroke=\"none\" points=\"267.42,-214.59 267.42,-228.59 296.42,-228.59 296.42,-214.59 267.42,-214.59\"/>\n",
       "<polyline fill=\"none\" stroke=\"black\" points=\"296.42,-214.59 296.42,-228.59\"/>\n",
       "<text text-anchor=\"start\" x=\"286.42\" y=\"-217.15\" font-family=\"Helvetica,sans-Serif\" font-size=\"11.00\" fill=\"#444443\">1 </text>\n",
       "<polygon fill=\"#fefecd\" stroke=\"none\" points=\"296.42,-214.59 296.42,-228.59 431.42,-228.59 431.42,-214.59 296.42,-214.59\"/>\n",
       "<text text-anchor=\"start\" x=\"306.92\" y=\"-217.15\" font-family=\"Helvetica,sans-Serif\" font-size=\"11.00\" fill=\"#444443\"> 0.01137492898851633</text>\n",
       "<polygon fill=\"#fefecd\" stroke=\"none\" points=\"267.42,-212.59 267.42,-214.59 431.42,-214.59 431.42,-212.59 267.42,-212.59\"/>\n",
       "<polygon fill=\"#fefecd\" stroke=\"none\" points=\"267.42,-198.59 267.42,-212.59 296.42,-212.59 296.42,-198.59 267.42,-198.59\"/>\n",
       "<polyline fill=\"none\" stroke=\"black\" points=\"296.42,-198.59 296.42,-212.59\"/>\n",
       "<text text-anchor=\"start\" x=\"286.42\" y=\"-201.15\" font-family=\"Helvetica,sans-Serif\" font-size=\"11.00\" fill=\"#444443\">2 </text>\n",
       "<polygon fill=\"#fefecd\" stroke=\"none\" points=\"296.42,-198.59 296.42,-212.59 431.42,-212.59 431.42,-198.59 296.42,-198.59\"/>\n",
       "<text text-anchor=\"start\" x=\"303.92\" y=\"-201.15\" font-family=\"Helvetica,sans-Serif\" font-size=\"11.00\" fill=\"#444443\"> 0.014712992124259472</text>\n",
       "<polygon fill=\"#fefecd\" stroke=\"none\" points=\"267.42,-196.59 267.42,-198.59 431.42,-198.59 431.42,-196.59 267.42,-196.59\"/>\n",
       "<polygon fill=\"#fefecd\" stroke=\"none\" points=\"267.42,-182.59 267.42,-196.59 296.42,-196.59 296.42,-182.59 267.42,-182.59\"/>\n",
       "<polyline fill=\"none\" stroke=\"black\" points=\"296.42,-182.59 296.42,-196.59\"/>\n",
       "<text text-anchor=\"start\" x=\"286.42\" y=\"-185.15\" font-family=\"Helvetica,sans-Serif\" font-size=\"11.00\" fill=\"#444443\">3 </text>\n",
       "<polygon fill=\"#fefecd\" stroke=\"none\" points=\"296.42,-182.59 296.42,-196.59 431.42,-196.59 431.42,-182.59 296.42,-182.59\"/>\n",
       "<text text-anchor=\"start\" x=\"298.29\" y=\"-185.15\" font-family=\"Helvetica,sans-Serif\" font-size=\"11.00\" fill=\"#444443\"> &#39;&#45;0.00449681794270873...&#39;</text>\n",
       "<polygon fill=\"#fefecd\" stroke=\"none\" points=\"267.42,-180.59 267.42,-182.59 431.42,-182.59 431.42,-180.59 267.42,-180.59\"/>\n",
       "<polygon fill=\"#fefecd\" stroke=\"none\" points=\"267.42,-166.59 267.42,-180.59 296.42,-180.59 296.42,-166.59 267.42,-166.59\"/>\n",
       "<polyline fill=\"none\" stroke=\"black\" points=\"296.42,-166.59 296.42,-180.59\"/>\n",
       "<text text-anchor=\"start\" x=\"286.42\" y=\"-169.15\" font-family=\"Helvetica,sans-Serif\" font-size=\"11.00\" fill=\"#444443\">4 </text>\n",
       "<polygon fill=\"#fefecd\" stroke=\"none\" points=\"296.42,-166.59 296.42,-180.59 431.42,-180.59 431.42,-166.59 296.42,-166.59\"/>\n",
       "<text text-anchor=\"start\" x=\"306.92\" y=\"-169.15\" font-family=\"Helvetica,sans-Serif\" font-size=\"11.00\" fill=\"#444443\"> 0.03520912677049637</text>\n",
       "<polygon fill=\"#fefecd\" stroke=\"none\" points=\"267.42,-164.59 267.42,-166.59 431.42,-166.59 431.42,-164.59 267.42,-164.59\"/>\n",
       "<polygon fill=\"#fefecd\" stroke=\"none\" points=\"267.42,-150.59 267.42,-164.59 296.42,-164.59 296.42,-150.59 267.42,-150.59\"/>\n",
       "<polyline fill=\"none\" stroke=\"black\" points=\"296.42,-150.59 296.42,-164.59\"/>\n",
       "<text text-anchor=\"start\" x=\"286.42\" y=\"-153.15\" font-family=\"Helvetica,sans-Serif\" font-size=\"11.00\" fill=\"#444443\">5 </text>\n",
       "<polygon fill=\"#fefecd\" stroke=\"none\" points=\"296.42,-150.59 296.42,-164.59 431.42,-164.59 431.42,-150.59 296.42,-150.59\"/>\n",
       "<text text-anchor=\"start\" x=\"305.04\" y=\"-153.15\" font-family=\"Helvetica,sans-Serif\" font-size=\"11.00\" fill=\"#444443\"> &#45;0.04513118416070938</text>\n",
       "<polygon fill=\"#fefecd\" stroke=\"none\" points=\"267.42,-148.59 267.42,-150.59 431.42,-150.59 431.42,-148.59 267.42,-148.59\"/>\n",
       "<polygon fill=\"#fefecd\" stroke=\"none\" points=\"267.42,-134.59 267.42,-148.59 296.42,-148.59 296.42,-134.59 267.42,-134.59\"/>\n",
       "<polyline fill=\"none\" stroke=\"black\" points=\"296.42,-134.59 296.42,-148.59\"/>\n",
       "<text text-anchor=\"start\" x=\"286.42\" y=\"-137.15\" font-family=\"Helvetica,sans-Serif\" font-size=\"11.00\" fill=\"#444443\">6 </text>\n",
       "<polygon fill=\"#fefecd\" stroke=\"none\" points=\"296.42,-134.59 296.42,-148.59 431.42,-148.59 431.42,-134.59 296.42,-134.59\"/>\n",
       "<text text-anchor=\"start\" x=\"306.92\" y=\"-137.15\" font-family=\"Helvetica,sans-Serif\" font-size=\"11.00\" fill=\"#444443\"> 0.00663005979731679</text>\n",
       "<polygon fill=\"#fefecd\" stroke=\"none\" points=\"267.42,-132.59 267.42,-134.59 431.42,-134.59 431.42,-132.59 267.42,-132.59\"/>\n",
       "<polygon fill=\"#fefecd\" stroke=\"none\" points=\"267.42,-118.59 267.42,-132.59 296.42,-132.59 296.42,-118.59 267.42,-118.59\"/>\n",
       "<polyline fill=\"none\" stroke=\"black\" points=\"296.42,-118.59 296.42,-132.59\"/>\n",
       "<text text-anchor=\"start\" x=\"286.42\" y=\"-121.14\" font-family=\"Helvetica,sans-Serif\" font-size=\"11.00\" fill=\"#444443\">7 </text>\n",
       "<polygon fill=\"#fefecd\" stroke=\"none\" points=\"296.42,-118.59 296.42,-132.59 431.42,-132.59 431.42,-118.59 296.42,-118.59\"/>\n",
       "<text text-anchor=\"start\" x=\"309.92\" y=\"-121.14\" font-family=\"Helvetica,sans-Serif\" font-size=\"11.00\" fill=\"#444443\"> 0.0506591871380806</text>\n",
       "<polygon fill=\"#fefecd\" stroke=\"none\" points=\"267.42,-116.59 267.42,-118.59 431.42,-118.59 431.42,-116.59 267.42,-116.59\"/>\n",
       "<polygon fill=\"#fefecd\" stroke=\"none\" points=\"267.42,-102.59 267.42,-116.59 296.42,-116.59 296.42,-102.59 267.42,-102.59\"/>\n",
       "<polyline fill=\"none\" stroke=\"black\" points=\"296.42,-102.59 296.42,-116.59\"/>\n",
       "<text text-anchor=\"start\" x=\"286.42\" y=\"-105.14\" font-family=\"Helvetica,sans-Serif\" font-size=\"11.00\" fill=\"#444443\">8 </text>\n",
       "<polygon fill=\"#fefecd\" stroke=\"none\" points=\"296.42,-102.59 296.42,-116.59 431.42,-116.59 431.42,-102.59 296.42,-102.59\"/>\n",
       "<text text-anchor=\"start\" x=\"298.29\" y=\"-105.14\" font-family=\"Helvetica,sans-Serif\" font-size=\"11.00\" fill=\"#444443\"> &#39;&#45;0.00494331028312444...&#39;</text>\n",
       "<polygon fill=\"#fefecd\" stroke=\"none\" points=\"267.42,-100.59 267.42,-102.59 431.42,-102.59 431.42,-100.59 267.42,-100.59\"/>\n",
       "<polygon fill=\"#fefecd\" stroke=\"none\" points=\"267.42,-86.59 267.42,-100.59 296.42,-100.59 296.42,-86.59 267.42,-86.59\"/>\n",
       "<polyline fill=\"none\" stroke=\"black\" points=\"296.42,-86.59 296.42,-100.59\"/>\n",
       "<text text-anchor=\"start\" x=\"283.42\" y=\"-89.14\" font-family=\"Helvetica,sans-Serif\" font-size=\"11.00\" fill=\"#444443\">... </text>\n",
       "<polygon fill=\"#fefecd\" stroke=\"none\" points=\"296.42,-86.59 296.42,-100.59 431.42,-100.59 431.42,-86.59 296.42,-86.59\"/>\n",
       "<text text-anchor=\"start\" x=\"357.92\" y=\"-89.14\" font-family=\"Helvetica,sans-Serif\" font-size=\"11.00\" fill=\"#444443\"> ...</text>\n",
       "<polygon fill=\"#fefecd\" stroke=\"none\" points=\"267.42,-84.59 267.42,-86.59 431.42,-86.59 431.42,-84.59 267.42,-84.59\"/>\n",
       "<polygon fill=\"#fefecd\" stroke=\"none\" points=\"267.42,-70.59 267.42,-84.59 296.42,-84.59 296.42,-70.59 267.42,-70.59\"/>\n",
       "<polyline fill=\"none\" stroke=\"black\" points=\"296.42,-70.59 296.42,-84.59\"/>\n",
       "<text text-anchor=\"start\" x=\"268.42\" y=\"-73.14\" font-family=\"Helvetica,sans-Serif\" font-size=\"11.00\" fill=\"#444443\">1535 </text>\n",
       "<polygon fill=\"#fefecd\" stroke=\"none\" points=\"296.42,-70.59 296.42,-84.59 431.42,-84.59 431.42,-70.59 296.42,-70.59\"/>\n",
       "<text text-anchor=\"start\" x=\"297.17\" y=\"-73.14\" font-family=\"Helvetica,sans-Serif\" font-size=\"11.00\" fill=\"#444443\"> &#39;0.000419472664361819...&#39;</text>\n",
       "</g>\n",
       "<!-- node4838802880&#45;&gt;node4837941696 -->\n",
       "<g id=\"edge5\" class=\"edge\">\n",
       "<title>node4838802880:0&#45;&gt;node4837941696:w</title>\n",
       "<path fill=\"none\" stroke=\"#444443\" stroke-width=\"0.5\" d=\"M183.37,-157.59C195.44,-157.59 230.59,-157.59 261.22,-157.59\"/>\n",
       "<polygon fill=\"#444443\" stroke=\"#444443\" stroke-width=\"0.5\" points=\"260.94,-159 264.94,-157.6 260.94,-156.2 260.94,-159\"/>\n",
       "</g>\n",
       "<!-- node4837633472 -->\n",
       "<g id=\"node6\" class=\"node\">\n",
       "<title>node4837633472</title>\n",
       "<polygon fill=\"#fefecd\" stroke=\"#444443\" stroke-width=\"0.5\" points=\"436.08,-62.75 262.76,-62.75 262.76,-28.43 436.08,-28.43 436.08,-62.75\"/>\n",
       "<polygon fill=\"#fefecd\" stroke=\"none\" points=\"264.92,-46.59 264.92,-60.59 303.92,-60.59 303.92,-46.59 264.92,-46.59\"/>\n",
       "<text text-anchor=\"start\" x=\"272.42\" y=\"-49.14\" font-family=\"Helvetica,sans-Serif\" font-size=\"11.00\" fill=\"#444443\">&#39;page&#39; </text>\n",
       "<text text-anchor=\"start\" x=\"303.92\" y=\"-49.3\" font-family=\"Helvetica,sans-Serif\" font-size=\"9.00\" fill=\"#444443\">→</text>\n",
       "<polygon fill=\"#fefecd\" stroke=\"none\" points=\"312.92,-46.59 312.92,-60.59 433.92,-60.59 433.92,-46.59 312.92,-46.59\"/>\n",
       "<text text-anchor=\"start\" x=\"313.92\" y=\"-49.14\" font-family=\"Helvetica,sans-Serif\" font-size=\"11.00\" fill=\"#444443\"> 73</text>\n",
       "<polygon fill=\"#fefecd\" stroke=\"none\" points=\"264.92,-44.59 264.92,-46.59 433.92,-46.59 433.92,-44.59 264.92,-44.59\"/>\n",
       "<polygon fill=\"#fefecd\" stroke=\"none\" points=\"264.92,-30.59 264.92,-44.59 303.92,-44.59 303.92,-30.59 264.92,-30.59\"/>\n",
       "<text text-anchor=\"start\" x=\"264.54\" y=\"-33.14\" font-family=\"Helvetica,sans-Serif\" font-size=\"11.00\" fill=\"#444443\">&#39;source&#39; </text>\n",
       "<text text-anchor=\"start\" x=\"303.92\" y=\"-33.3\" font-family=\"Helvetica,sans-Serif\" font-size=\"9.00\" fill=\"#444443\">→</text>\n",
       "<polygon fill=\"#fefecd\" stroke=\"none\" points=\"312.92,-30.59 312.92,-44.59 433.92,-44.59 433.92,-30.59 312.92,-30.59\"/>\n",
       "<text text-anchor=\"start\" x=\"313.79\" y=\"-33.14\" font-family=\"Helvetica,sans-Serif\" font-size=\"11.00\" fill=\"#444443\"> &#39;https://www.develope...&#39;</text>\n",
       "</g>\n",
       "<!-- node6116621888&#45;&gt;node4837633472 -->\n",
       "<g id=\"edge6\" class=\"edge\">\n",
       "<title>node6116621888:0&#45;&gt;node4837633472:w</title>\n",
       "<path fill=\"none\" stroke=\"#444443\" stroke-width=\"0.5\" d=\"M183.58,-45.59C195.52,-45.59 228.89,-45.59 258.11,-45.59\"/>\n",
       "<polygon fill=\"#444443\" stroke=\"#444443\" stroke-width=\"0.5\" points=\"258,-47 262,-45.6 258,-44.2 258,-47\"/>\n",
       "</g>\n",
       "</g>\n",
       "</svg>\n"
      ],
      "text/plain": [
       "<graphviz.sources.Source at 0x16a5fdd30>"
      ]
     },
     "execution_count": 24,
     "metadata": {},
     "output_type": "execute_result"
    }
   ],
   "source": [
    "lolviz.objviz(vector_store._collection.peek(limit=1))"
   ]
  },
  {
   "cell_type": "code",
   "execution_count": null,
   "id": "a316fe13",
   "metadata": {
    "id": "a316fe13"
   },
   "outputs": [],
   "source": [
    "# How to load the vector store from the disk\n",
    "vector_store = Chroma(\"prompt_engineering_playbook\",\n",
    "                      embedding_function=embeddings_model,\n",
    "                      persist_directory= \"./chroma_langchain_db\")"
   ]
  },
  {
   "cell_type": "markdown",
   "id": "b449b7e2-831e-4918-a1b5-685efdadbb08",
   "metadata": {
    "id": "b449b7e2-831e-4918-a1b5-685efdadbb08"
   },
   "source": [
    "<br>\n",
    "\n",
    "---"
   ]
  },
  {
   "cell_type": "markdown",
   "id": "61d7566a-07c9-48cb-b853-4441b97d437a",
   "metadata": {
    "id": "61d7566a-07c9-48cb-b853-4441b97d437a"
   },
   "source": [
    "### Retrieval"
   ]
  },
  {
   "cell_type": "markdown",
   "id": "70df7963-a34f-4ad3-89fd-faa44efa0c15",
   "metadata": {
    "id": "70df7963-a34f-4ad3-89fd-faa44efa0c15"
   },
   "source": [
    "![](https://abc-notes.data.tech.gov.sg/resources/img/topic-4-rag-retrieval.png)"
   ]
  },
  {
   "cell_type": "markdown",
   "id": "a0bbed5d-5908-4765-bcd7-77da82a56190",
   "metadata": {
    "id": "a0bbed5d-5908-4765-bcd7-77da82a56190"
   },
   "source": [
    " ### Basic Retrieval"
   ]
  },
  {
   "cell_type": "code",
   "execution_count": null,
   "id": "63b3537b-90eb-4c10-9aaa-d78bc8b20ff1",
   "metadata": {
    "id": "63b3537b-90eb-4c10-9aaa-d78bc8b20ff1",
    "outputId": "3314e8f1-370b-41c6-b42f-e972a2ab7657"
   },
   "outputs": [
    {
     "data": {
      "text/plain": [
       "[Document(metadata={'page': 52, 'source': 'https://www.developer.tech.gov.sg/products/collections/data-science-and-artificial-intelligence/playbooks/prompt-engineering-playbook-beta-v3.pdf'}, page_content='Prompt Engineering Playbook  \\nPage  53'),\n",
       " Document(metadata={'page': 87, 'source': 'https://www.developer.tech.gov.sg/products/collections/data-science-and-artificial-intelligence/playbooks/prompt-engineering-playbook-beta-v3.pdf'}, page_content='Prompt Engineering Playbook  \\nPage  88  \\n \\n \\n \\n \\n \\n \\n \\nAdvanced Pro Tips & Tricks  \\n\"The more that you read, the more things you will know. The more that you learn, \\nthe more places you\\'ll go.\"  \\n- Dr. Seuss'),\n",
       " Document(metadata={'page': 49, 'source': 'https://www.developer.tech.gov.sg/products/collections/data-science-and-artificial-intelligence/playbooks/prompt-engineering-playbook-beta-v3.pdf'}, page_content='Prompt Engineering Playbook  \\nPage  50')]"
      ]
     },
     "execution_count": 97,
     "metadata": {},
     "output_type": "execute_result"
    }
   ],
   "source": [
    "vector_store.similarity_search('Zero Shot', k=3)"
   ]
  },
  {
   "cell_type": "code",
   "execution_count": null,
   "id": "a5854439-85e1-4774-8074-be1dd7397dae",
   "metadata": {
    "id": "a5854439-85e1-4774-8074-be1dd7397dae",
    "outputId": "adde8bc0-77c8-4b31-d435-9dd3fa5cb580",
    "scrolled": true
   },
   "outputs": [
    {
     "data": {
      "text/plain": [
       "[(Document(metadata={'page': 52, 'source': 'https://www.developer.tech.gov.sg/products/collections/data-science-and-artificial-intelligence/playbooks/prompt-engineering-playbook-beta-v3.pdf'}, page_content='Prompt Engineering Playbook  \\nPage  53'),\n",
       "  0.00614587056412963),\n",
       " (Document(metadata={'page': 87, 'source': 'https://www.developer.tech.gov.sg/products/collections/data-science-and-artificial-intelligence/playbooks/prompt-engineering-playbook-beta-v3.pdf'}, page_content='Prompt Engineering Playbook  \\nPage  88  \\n \\n \\n \\n \\n \\n \\n \\nAdvanced Pro Tips & Tricks  \\n\"The more that you read, the more things you will know. The more that you learn, \\nthe more places you\\'ll go.\"  \\n- Dr. Seuss'),\n",
       "  0.004277753650732796),\n",
       " (Document(metadata={'page': 49, 'source': 'https://www.developer.tech.gov.sg/products/collections/data-science-and-artificial-intelligence/playbooks/prompt-engineering-playbook-beta-v3.pdf'}, page_content='Prompt Engineering Playbook  \\nPage  50'),\n",
       "  0.003939988806766492)]"
      ]
     },
     "execution_count": 98,
     "metadata": {},
     "output_type": "execute_result"
    }
   ],
   "source": [
    "vector_store.similarity_search_with_relevance_scores('Zero Shot', k=3)"
   ]
  },
  {
   "cell_type": "markdown",
   "id": "56b57228-4a9f-4a71-a086-ee705e2df3e5",
   "metadata": {
    "id": "56b57228-4a9f-4a71-a086-ee705e2df3e5"
   },
   "source": [
    "### Question & Answer"
   ]
  },
  {
   "cell_type": "markdown",
   "id": "438021ce-e167-4e8e-8630-2c5915296d43",
   "metadata": {
    "id": "438021ce-e167-4e8e-8630-2c5915296d43"
   },
   "source": [
    "![](https://d27l3jncscxhbx.cloudfront.net/lib/media/img-20240421150029496.png)\n",
    "\n",
    "- Multiple relevant documents have been retrieved from the vector store\n",
    "- Potentially compress the relevant splits to fit into the LLM context\n",
    "- Send the information along with our question to an LLM to select and format an answer"
   ]
  },
  {
   "cell_type": "markdown",
   "id": "7e3260a3-c6e8-4e17-8ec8-0cb09bfb0aef",
   "metadata": {
    "id": "7e3260a3-c6e8-4e17-8ec8-0cb09bfb0aef"
   },
   "source": [
    "#### RetrievalQA Chain"
   ]
  },
  {
   "cell_type": "code",
   "execution_count": null,
   "id": "697e341b-933c-4661-a793-3d113e82cb73",
   "metadata": {
    "id": "697e341b-933c-4661-a793-3d113e82cb73"
   },
   "outputs": [],
   "source": [
    "from langchain.chains import RetrievalQA"
   ]
  },
  {
   "cell_type": "code",
   "execution_count": null,
   "id": "cc928321-6028-4a19-8ff3-3dd996f23204",
   "metadata": {
    "id": "cc928321-6028-4a19-8ff3-3dd996f23204"
   },
   "outputs": [],
   "source": [
    "from langchain_openai import ChatOpenAI"
   ]
  },
  {
   "cell_type": "code",
   "execution_count": null,
   "id": "2a02b187-c4c7-4e3a-a343-6a006e188bee",
   "metadata": {
    "id": "2a02b187-c4c7-4e3a-a343-6a006e188bee",
    "outputId": "0099f03e-89ae-4e7b-9777-e07459f26038"
   },
   "outputs": [
    {
     "data": {
      "text/plain": [
       "{'query': 'Why LLM hallucinate?',\n",
       " 'result': 'LLMs hallucinate because they generate text that appears coherent and contextually relevant but may be factually incorrect or misleading. This issue arises due to the inherent nature of how LLMs are trained, relying on massive datasets without a built-in fact-checking mechanism. They infer responses based on patterns in the data they were trained on, which can lead to the generation of believable but nonsensical or fabricated information.'}"
      ]
     },
     "execution_count": 102,
     "metadata": {},
     "output_type": "execute_result"
    }
   ],
   "source": [
    "qa_chain = RetrievalQA.from_chain_type(\n",
    "    ChatOpenAI(model='gpt-4o-mini'),\n",
    "    retriever=vector_store.as_retriever(k=20)\n",
    ")\n",
    "\n",
    "qa_chain.invoke(\"Why LLM hallucinate?\")"
   ]
  },
  {
   "cell_type": "markdown",
   "id": "9a111d55",
   "metadata": {
    "id": "9a111d55"
   },
   "source": [
    "---\n",
    "\n",
    "The k value in the retriever=vector_store.as_retriever(k=20) line determines the number of documents retrieved from the database to be used as context for the question-answering process. Here are the implications of using a smaller or bigger k value:\n",
    "\n",
    "- Smaller k value (e.g., k=5):\n",
    "    - Pros:\n",
    "        - Faster retrieval and processing time since fewer documents are being fetched and analyzed.\n",
    "        - Less tokens usage.\n",
    "    - Cons:\n",
    "        - May miss relevant documents, leading to less accurate or incomplete answers.\n",
    "        - Higher risk of hallucination if the retrieved documents do not provide sufficient context.\n",
    "\n",
    "\n",
    "- Bigger k value (e.g., k=50):\n",
    "    - Pros:\n",
    "        - Higher chance of retrieving all relevant documents, potentially leading to more accurate and comprehensive answers.\n",
    "        - Better context for the model, reducing the risk of hallucination.\n",
    "    - Cons:\n",
    "        - Slower retrieval and processing time due to the larger number of documents.\n",
    "        - Increased tokens usage.\n",
    "        - Potential for information overload, where too much context might confuse the model.\n",
    "---"
   ]
  },
  {
   "cell_type": "markdown",
   "id": "807dc747-ebfd-4da1-bd91-527eac92d675",
   "metadata": {
    "id": "807dc747-ebfd-4da1-bd91-527eac92d675"
   },
   "source": [
    "#### With Custom Q&A Prompt"
   ]
  },
  {
   "cell_type": "code",
   "execution_count": null,
   "id": "c739ea39-97fe-426c-b6e6-02c270f9a1f4",
   "metadata": {
    "id": "c739ea39-97fe-426c-b6e6-02c270f9a1f4"
   },
   "outputs": [],
   "source": [
    "from langchain.prompts import PromptTemplate\n",
    "\n",
    "# Build prompt\n",
    "template = \"\"\"Use the following pieces of context to answer the question at the end. If you don't know the answer, just say that you don't know, don't try to make up an answer. Use three sentences maximum. Keep the answer as concise as possible. Always say \"thanks for asking!\" at the end of the answer.\n",
    "{context}\n",
    "Question: {question}\n",
    "Helpful Answer:\"\"\"\n",
    "QA_CHAIN_PROMPT = PromptTemplate.from_template(template)\n",
    "\n",
    "# Run chain\n",
    "qa_chain = RetrievalQA.from_chain_type(\n",
    "    ChatOpenAI(model='gpt-4o-mini'),\n",
    "    retriever=vector_store.as_retriever(),\n",
    "    return_source_documents=True, # Make inspection of document possible\n",
    "    chain_type_kwargs={\"prompt\": QA_CHAIN_PROMPT}\n",
    ")"
   ]
  },
  {
   "cell_type": "code",
   "execution_count": null,
   "id": "122eeebd-b821-4713-af46-d3174dc1c0d3",
   "metadata": {
    "id": "122eeebd-b821-4713-af46-d3174dc1c0d3",
    "outputId": "e88249e2-b0e2-43d2-c2e0-38f48575970d"
   },
   "outputs": [
    {
     "data": {
      "text/plain": [
       "{'query': 'Why LLM hallucinate?',\n",
       " 'result': 'LLMs hallucinate because they generate text that appears coherent and contextually relevant but can be factually incorrect or misleading. This issue arises from the inherent nature of how LLMs are trained, as they rely on massive datasets without a built-in fact-checking mechanism. The models create responses by predicting the next probable word based on the input they receive, which can lead to the generation of plausible-sounding but entirely fabricated information. Additionally, the lack of internet access for some models means they cannot verify facts in real-time, contributing to the hallucination problem.'}"
      ]
     },
     "execution_count": 103,
     "metadata": {},
     "output_type": "execute_result"
    }
   ],
   "source": [
    "qa_chain.invoke(\"Why LLM hallucinate?\")"
   ]
  },
  {
   "cell_type": "markdown",
   "id": "kK2U2qRnX6ul",
   "metadata": {
    "id": "kK2U2qRnX6ul"
   },
   "source": [
    "This code sets up a prompt template for a question-answering chain using a language processing model and a retriever object. It allows for the generation of answers based on provided context and a given question. Let's break it down step by step:\n",
    "\n",
    "\n",
    "- `A multi-line string` is defined and assigned to the variable template. This string serves as a template for constructing prompts. It includes placeholders like `{context}`, `{question}`, and `{answer}` that will be filled in with actual values later.\n",
    "\n",
    "- The code defines a variable `QA_CHAIN_PROMPT` and assigns it the value of `PromptTemplate`.from_template(template). This line creates an instance of the `PromptTemplate` class using the from_template method, passing in the template string as an argument. This instance will be used as a prompt template for the question-answering chain.\n",
    "\n",
    "- The code then initializes a qa_chain variable by calling the `RetrievalQA.from_chain_type()` method. It takes several arguments:\n",
    "    - `ChatOpenAI(model='gpt-4o-mini')`: This argument specifies the model to be used for the chat-based language processing. I\n",
    "\n",
    "    - `retriever=vector_store.as_retriever()`: This argument specifies a retriever object, likely responsible for retrieving relevant documents or information for the question-answering process. The `vector_store.as_retriever()` method is called to create this retriever object.\n",
    "\n",
    "    - `return_source_documents=True`: This argument indicates that the source documents should be returned along with the answers. It allows for inspection of the documents used in the retrieval process.\n",
    "    \n",
    "    - `chain_type_kwargs={\"prompt\": QA_CHAIN_PROMPT}`: This argument provides additional keyword arguments to the from_chain_type() method. It includes a dictionary with a key \"prompt\" and the value of the QA_CHAIN_PROMPT variable, which is the prompt template created earlier.\n"
   ]
  },
  {
   "cell_type": "markdown",
   "id": "a4ea5272",
   "metadata": {
    "id": "a4ea5272"
   },
   "source": []
  }
 ],
 "metadata": {
  "colab": {
   "provenance": [],
   "toc_visible": true
  },
  "kernelspec": {
   "display_name": "Python 3 (ipykernel)",
   "language": "python",
   "name": "python3"
  },
  "language_info": {
   "codemirror_mode": {
    "name": "ipython",
    "version": 3
   },
   "file_extension": ".py",
   "mimetype": "text/x-python",
   "name": "python",
   "nbconvert_exporter": "python",
   "pygments_lexer": "ipython3",
   "version": "3.12.9"
  }
 },
 "nbformat": 4,
 "nbformat_minor": 5
}
